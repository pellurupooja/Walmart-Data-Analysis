{
  "nbformat": 4,
  "nbformat_minor": 0,
  "metadata": {
    "colab": {
      "name": "WalmartDataAnalysis.ipynb",
      "provenance": [],
      "collapsed_sections": [],
      "include_colab_link": true
    },
    "kernelspec": {
      "name": "python3",
      "display_name": "Python 3"
    },
    "language_info": {
      "name": "python"
    }
  },
  "cells": [
    {
      "cell_type": "markdown",
      "metadata": {
        "id": "view-in-github",
        "colab_type": "text"
      },
      "source": [
        "<a href=\"https://colab.research.google.com/github/pellurupooja/Walmart-Data-Analysis/blob/main/WalmartDataAnalysis.ipynb\" target=\"_parent\"><img src=\"https://colab.research.google.com/assets/colab-badge.svg\" alt=\"Open In Colab\"/></a>"
      ]
    },
    {
      "cell_type": "markdown",
      "metadata": {
        "id": "0MFKh_qbt68g"
      },
      "source": [
        "**WALMART DATA ANALYSIS**"
      ]
    },
    {
      "cell_type": "markdown",
      "metadata": {
        "id": "RSeKZdNhuKfS"
      },
      "source": [
        "TASK IS TO ANALYZE THE SALES OF THE WALMART WITH THE DATA GIVEN (EG. ANALYSING WEEKLY SALES, WHICH STORE OR DEPARTMENT SELLS MOST, ETC.)<br>\n",
        "<br>\n",
        "DATA ANALYSIS AND VISUALIZATION"
      ]
    },
    {
      "cell_type": "code",
      "metadata": {
        "id": "JxZ1apqft5Lb"
      },
      "source": [
        "import pandas as pd\n",
        "import numpy as np\n",
        "import matplotlib.pyplot as plt\n",
        "import seaborn as sns"
      ],
      "execution_count": null,
      "outputs": []
    },
    {
      "cell_type": "code",
      "metadata": {
        "id": "3lMENhBLvUZG"
      },
      "source": [
        "import warnings \n",
        "warnings.filterwarnings('ignore')"
      ],
      "execution_count": null,
      "outputs": []
    },
    {
      "cell_type": "code",
      "metadata": {
        "id": "MdCo704xuvPZ"
      },
      "source": [
        "train_df = pd.read_csv('train (1).csv')\n",
        "test_df = pd.read_csv('test.csv')\n",
        "features_df = pd.read_csv('features.csv')\n",
        "stores = pd.read_csv('stores.csv')"
      ],
      "execution_count": null,
      "outputs": []
    },
    {
      "cell_type": "code",
      "metadata": {
        "colab": {
          "base_uri": "https://localhost:8080/",
          "height": 204
        },
        "id": "B2MS-TpsvNm1",
        "outputId": "df3bd145-9a53-4b58-dfe5-0967bb517752"
      },
      "source": [
        "train_df.head()"
      ],
      "execution_count": null,
      "outputs": [
        {
          "output_type": "execute_result",
          "data": {
            "text/html": [
              "<div>\n",
              "<style scoped>\n",
              "    .dataframe tbody tr th:only-of-type {\n",
              "        vertical-align: middle;\n",
              "    }\n",
              "\n",
              "    .dataframe tbody tr th {\n",
              "        vertical-align: top;\n",
              "    }\n",
              "\n",
              "    .dataframe thead th {\n",
              "        text-align: right;\n",
              "    }\n",
              "</style>\n",
              "<table border=\"1\" class=\"dataframe\">\n",
              "  <thead>\n",
              "    <tr style=\"text-align: right;\">\n",
              "      <th></th>\n",
              "      <th>Store</th>\n",
              "      <th>Dept</th>\n",
              "      <th>Date</th>\n",
              "      <th>Weekly_Sales</th>\n",
              "      <th>IsHoliday</th>\n",
              "    </tr>\n",
              "  </thead>\n",
              "  <tbody>\n",
              "    <tr>\n",
              "      <th>0</th>\n",
              "      <td>1</td>\n",
              "      <td>1</td>\n",
              "      <td>2010-02-05</td>\n",
              "      <td>24924.50</td>\n",
              "      <td>False</td>\n",
              "    </tr>\n",
              "    <tr>\n",
              "      <th>1</th>\n",
              "      <td>1</td>\n",
              "      <td>1</td>\n",
              "      <td>2010-02-12</td>\n",
              "      <td>46039.49</td>\n",
              "      <td>True</td>\n",
              "    </tr>\n",
              "    <tr>\n",
              "      <th>2</th>\n",
              "      <td>1</td>\n",
              "      <td>1</td>\n",
              "      <td>2010-02-19</td>\n",
              "      <td>41595.55</td>\n",
              "      <td>False</td>\n",
              "    </tr>\n",
              "    <tr>\n",
              "      <th>3</th>\n",
              "      <td>1</td>\n",
              "      <td>1</td>\n",
              "      <td>2010-02-26</td>\n",
              "      <td>19403.54</td>\n",
              "      <td>False</td>\n",
              "    </tr>\n",
              "    <tr>\n",
              "      <th>4</th>\n",
              "      <td>1</td>\n",
              "      <td>1</td>\n",
              "      <td>2010-03-05</td>\n",
              "      <td>21827.90</td>\n",
              "      <td>False</td>\n",
              "    </tr>\n",
              "  </tbody>\n",
              "</table>\n",
              "</div>"
            ],
            "text/plain": [
              "   Store  Dept        Date  Weekly_Sales  IsHoliday\n",
              "0      1     1  2010-02-05      24924.50      False\n",
              "1      1     1  2010-02-12      46039.49       True\n",
              "2      1     1  2010-02-19      41595.55      False\n",
              "3      1     1  2010-02-26      19403.54      False\n",
              "4      1     1  2010-03-05      21827.90      False"
            ]
          },
          "metadata": {},
          "execution_count": 4
        }
      ]
    },
    {
      "cell_type": "code",
      "metadata": {
        "colab": {
          "base_uri": "https://localhost:8080/"
        },
        "id": "nLtVrH4Avy3O",
        "outputId": "c8509d5e-c471-46c8-facc-72f0db2b278e"
      },
      "source": [
        "train_df.info()"
      ],
      "execution_count": null,
      "outputs": [
        {
          "output_type": "stream",
          "name": "stdout",
          "text": [
            "<class 'pandas.core.frame.DataFrame'>\n",
            "RangeIndex: 421570 entries, 0 to 421569\n",
            "Data columns (total 5 columns):\n",
            " #   Column        Non-Null Count   Dtype  \n",
            "---  ------        --------------   -----  \n",
            " 0   Store         421570 non-null  int64  \n",
            " 1   Dept          421570 non-null  int64  \n",
            " 2   Date          421570 non-null  object \n",
            " 3   Weekly_Sales  421570 non-null  float64\n",
            " 4   IsHoliday     421570 non-null  bool   \n",
            "dtypes: bool(1), float64(1), int64(2), object(1)\n",
            "memory usage: 13.3+ MB\n"
          ]
        }
      ]
    },
    {
      "cell_type": "code",
      "metadata": {
        "colab": {
          "base_uri": "https://localhost:8080/",
          "height": 296
        },
        "id": "jFlR8RRPv-Cu",
        "outputId": "7d2b4143-129a-4500-a850-554d05d375a8"
      },
      "source": [
        "train_df.describe()"
      ],
      "execution_count": null,
      "outputs": [
        {
          "output_type": "execute_result",
          "data": {
            "text/html": [
              "<div>\n",
              "<style scoped>\n",
              "    .dataframe tbody tr th:only-of-type {\n",
              "        vertical-align: middle;\n",
              "    }\n",
              "\n",
              "    .dataframe tbody tr th {\n",
              "        vertical-align: top;\n",
              "    }\n",
              "\n",
              "    .dataframe thead th {\n",
              "        text-align: right;\n",
              "    }\n",
              "</style>\n",
              "<table border=\"1\" class=\"dataframe\">\n",
              "  <thead>\n",
              "    <tr style=\"text-align: right;\">\n",
              "      <th></th>\n",
              "      <th>Store</th>\n",
              "      <th>Dept</th>\n",
              "      <th>Weekly_Sales</th>\n",
              "    </tr>\n",
              "  </thead>\n",
              "  <tbody>\n",
              "    <tr>\n",
              "      <th>count</th>\n",
              "      <td>421570.000000</td>\n",
              "      <td>421570.000000</td>\n",
              "      <td>421570.000000</td>\n",
              "    </tr>\n",
              "    <tr>\n",
              "      <th>mean</th>\n",
              "      <td>22.200546</td>\n",
              "      <td>44.260317</td>\n",
              "      <td>15981.258123</td>\n",
              "    </tr>\n",
              "    <tr>\n",
              "      <th>std</th>\n",
              "      <td>12.785297</td>\n",
              "      <td>30.492054</td>\n",
              "      <td>22711.183519</td>\n",
              "    </tr>\n",
              "    <tr>\n",
              "      <th>min</th>\n",
              "      <td>1.000000</td>\n",
              "      <td>1.000000</td>\n",
              "      <td>-4988.940000</td>\n",
              "    </tr>\n",
              "    <tr>\n",
              "      <th>25%</th>\n",
              "      <td>11.000000</td>\n",
              "      <td>18.000000</td>\n",
              "      <td>2079.650000</td>\n",
              "    </tr>\n",
              "    <tr>\n",
              "      <th>50%</th>\n",
              "      <td>22.000000</td>\n",
              "      <td>37.000000</td>\n",
              "      <td>7612.030000</td>\n",
              "    </tr>\n",
              "    <tr>\n",
              "      <th>75%</th>\n",
              "      <td>33.000000</td>\n",
              "      <td>74.000000</td>\n",
              "      <td>20205.852500</td>\n",
              "    </tr>\n",
              "    <tr>\n",
              "      <th>max</th>\n",
              "      <td>45.000000</td>\n",
              "      <td>99.000000</td>\n",
              "      <td>693099.360000</td>\n",
              "    </tr>\n",
              "  </tbody>\n",
              "</table>\n",
              "</div>"
            ],
            "text/plain": [
              "               Store           Dept   Weekly_Sales\n",
              "count  421570.000000  421570.000000  421570.000000\n",
              "mean       22.200546      44.260317   15981.258123\n",
              "std        12.785297      30.492054   22711.183519\n",
              "min         1.000000       1.000000   -4988.940000\n",
              "25%        11.000000      18.000000    2079.650000\n",
              "50%        22.000000      37.000000    7612.030000\n",
              "75%        33.000000      74.000000   20205.852500\n",
              "max        45.000000      99.000000  693099.360000"
            ]
          },
          "metadata": {},
          "execution_count": 6
        }
      ]
    },
    {
      "cell_type": "code",
      "metadata": {
        "colab": {
          "base_uri": "https://localhost:8080/"
        },
        "id": "7PMp9YrwwF-_",
        "outputId": "c400b24b-b22d-4b53-b754-037d3fcbb9d5"
      },
      "source": [
        "train_df.shape"
      ],
      "execution_count": null,
      "outputs": [
        {
          "output_type": "execute_result",
          "data": {
            "text/plain": [
              "(421570, 5)"
            ]
          },
          "metadata": {},
          "execution_count": 7
        }
      ]
    },
    {
      "cell_type": "code",
      "metadata": {
        "colab": {
          "base_uri": "https://localhost:8080/"
        },
        "id": "iCo7JrvUwLP3",
        "outputId": "c2aa0f7f-e0d8-45d8-f07e-29f82fdbcad2"
      },
      "source": [
        "train_df.isnull().sum()"
      ],
      "execution_count": null,
      "outputs": [
        {
          "output_type": "execute_result",
          "data": {
            "text/plain": [
              "Store           0\n",
              "Dept            0\n",
              "Date            0\n",
              "Weekly_Sales    0\n",
              "IsHoliday       0\n",
              "dtype: int64"
            ]
          },
          "metadata": {},
          "execution_count": 8
        }
      ]
    },
    {
      "cell_type": "code",
      "metadata": {
        "colab": {
          "base_uri": "https://localhost:8080/",
          "height": 204
        },
        "id": "DJyrSwtWwSfO",
        "outputId": "a760f161-372e-43bd-e99d-8ece645bf849"
      },
      "source": [
        "test_df.head()"
      ],
      "execution_count": null,
      "outputs": [
        {
          "output_type": "execute_result",
          "data": {
            "text/html": [
              "<div>\n",
              "<style scoped>\n",
              "    .dataframe tbody tr th:only-of-type {\n",
              "        vertical-align: middle;\n",
              "    }\n",
              "\n",
              "    .dataframe tbody tr th {\n",
              "        vertical-align: top;\n",
              "    }\n",
              "\n",
              "    .dataframe thead th {\n",
              "        text-align: right;\n",
              "    }\n",
              "</style>\n",
              "<table border=\"1\" class=\"dataframe\">\n",
              "  <thead>\n",
              "    <tr style=\"text-align: right;\">\n",
              "      <th></th>\n",
              "      <th>Store</th>\n",
              "      <th>Dept</th>\n",
              "      <th>Date</th>\n",
              "      <th>IsHoliday</th>\n",
              "    </tr>\n",
              "  </thead>\n",
              "  <tbody>\n",
              "    <tr>\n",
              "      <th>0</th>\n",
              "      <td>1</td>\n",
              "      <td>1</td>\n",
              "      <td>2012-11-02</td>\n",
              "      <td>False</td>\n",
              "    </tr>\n",
              "    <tr>\n",
              "      <th>1</th>\n",
              "      <td>1</td>\n",
              "      <td>1</td>\n",
              "      <td>2012-11-09</td>\n",
              "      <td>False</td>\n",
              "    </tr>\n",
              "    <tr>\n",
              "      <th>2</th>\n",
              "      <td>1</td>\n",
              "      <td>1</td>\n",
              "      <td>2012-11-16</td>\n",
              "      <td>False</td>\n",
              "    </tr>\n",
              "    <tr>\n",
              "      <th>3</th>\n",
              "      <td>1</td>\n",
              "      <td>1</td>\n",
              "      <td>2012-11-23</td>\n",
              "      <td>True</td>\n",
              "    </tr>\n",
              "    <tr>\n",
              "      <th>4</th>\n",
              "      <td>1</td>\n",
              "      <td>1</td>\n",
              "      <td>2012-11-30</td>\n",
              "      <td>False</td>\n",
              "    </tr>\n",
              "  </tbody>\n",
              "</table>\n",
              "</div>"
            ],
            "text/plain": [
              "   Store  Dept        Date  IsHoliday\n",
              "0      1     1  2012-11-02      False\n",
              "1      1     1  2012-11-09      False\n",
              "2      1     1  2012-11-16      False\n",
              "3      1     1  2012-11-23       True\n",
              "4      1     1  2012-11-30      False"
            ]
          },
          "metadata": {},
          "execution_count": 9
        }
      ]
    },
    {
      "cell_type": "code",
      "metadata": {
        "colab": {
          "base_uri": "https://localhost:8080/"
        },
        "id": "WV5JcXlCyvvB",
        "outputId": "16e7ece0-9e42-4162-8528-c4534ac69a69"
      },
      "source": [
        "test_df.shape"
      ],
      "execution_count": null,
      "outputs": [
        {
          "output_type": "execute_result",
          "data": {
            "text/plain": [
              "(115064, 4)"
            ]
          },
          "metadata": {},
          "execution_count": 10
        }
      ]
    },
    {
      "cell_type": "code",
      "metadata": {
        "colab": {
          "base_uri": "https://localhost:8080/",
          "height": 296
        },
        "id": "zVcWEYzdy7X4",
        "outputId": "cd0fcff6-b78b-4634-e83c-6362e823a267"
      },
      "source": [
        "test_df.describe()"
      ],
      "execution_count": null,
      "outputs": [
        {
          "output_type": "execute_result",
          "data": {
            "text/html": [
              "<div>\n",
              "<style scoped>\n",
              "    .dataframe tbody tr th:only-of-type {\n",
              "        vertical-align: middle;\n",
              "    }\n",
              "\n",
              "    .dataframe tbody tr th {\n",
              "        vertical-align: top;\n",
              "    }\n",
              "\n",
              "    .dataframe thead th {\n",
              "        text-align: right;\n",
              "    }\n",
              "</style>\n",
              "<table border=\"1\" class=\"dataframe\">\n",
              "  <thead>\n",
              "    <tr style=\"text-align: right;\">\n",
              "      <th></th>\n",
              "      <th>Store</th>\n",
              "      <th>Dept</th>\n",
              "    </tr>\n",
              "  </thead>\n",
              "  <tbody>\n",
              "    <tr>\n",
              "      <th>count</th>\n",
              "      <td>115064.000000</td>\n",
              "      <td>115064.000000</td>\n",
              "    </tr>\n",
              "    <tr>\n",
              "      <th>mean</th>\n",
              "      <td>22.238207</td>\n",
              "      <td>44.339524</td>\n",
              "    </tr>\n",
              "    <tr>\n",
              "      <th>std</th>\n",
              "      <td>12.809930</td>\n",
              "      <td>30.656410</td>\n",
              "    </tr>\n",
              "    <tr>\n",
              "      <th>min</th>\n",
              "      <td>1.000000</td>\n",
              "      <td>1.000000</td>\n",
              "    </tr>\n",
              "    <tr>\n",
              "      <th>25%</th>\n",
              "      <td>11.000000</td>\n",
              "      <td>18.000000</td>\n",
              "    </tr>\n",
              "    <tr>\n",
              "      <th>50%</th>\n",
              "      <td>22.000000</td>\n",
              "      <td>37.000000</td>\n",
              "    </tr>\n",
              "    <tr>\n",
              "      <th>75%</th>\n",
              "      <td>33.000000</td>\n",
              "      <td>74.000000</td>\n",
              "    </tr>\n",
              "    <tr>\n",
              "      <th>max</th>\n",
              "      <td>45.000000</td>\n",
              "      <td>99.000000</td>\n",
              "    </tr>\n",
              "  </tbody>\n",
              "</table>\n",
              "</div>"
            ],
            "text/plain": [
              "               Store           Dept\n",
              "count  115064.000000  115064.000000\n",
              "mean       22.238207      44.339524\n",
              "std        12.809930      30.656410\n",
              "min         1.000000       1.000000\n",
              "25%        11.000000      18.000000\n",
              "50%        22.000000      37.000000\n",
              "75%        33.000000      74.000000\n",
              "max        45.000000      99.000000"
            ]
          },
          "metadata": {},
          "execution_count": 11
        }
      ]
    },
    {
      "cell_type": "code",
      "metadata": {
        "colab": {
          "base_uri": "https://localhost:8080/"
        },
        "id": "rqb_VfVpzAto",
        "outputId": "da240639-afae-4455-e2cd-398b87b15a8a"
      },
      "source": [
        "test_df.isnull().sum()"
      ],
      "execution_count": null,
      "outputs": [
        {
          "output_type": "execute_result",
          "data": {
            "text/plain": [
              "Store        0\n",
              "Dept         0\n",
              "Date         0\n",
              "IsHoliday    0\n",
              "dtype: int64"
            ]
          },
          "metadata": {},
          "execution_count": 12
        }
      ]
    },
    {
      "cell_type": "code",
      "metadata": {
        "colab": {
          "base_uri": "https://localhost:8080/",
          "height": 358
        },
        "id": "pi4xOFZ9zJCd",
        "outputId": "5ab07c55-d994-464f-d0f9-c097a2306df4"
      },
      "source": [
        "features_df.head(10)"
      ],
      "execution_count": null,
      "outputs": [
        {
          "output_type": "execute_result",
          "data": {
            "text/html": [
              "<div>\n",
              "<style scoped>\n",
              "    .dataframe tbody tr th:only-of-type {\n",
              "        vertical-align: middle;\n",
              "    }\n",
              "\n",
              "    .dataframe tbody tr th {\n",
              "        vertical-align: top;\n",
              "    }\n",
              "\n",
              "    .dataframe thead th {\n",
              "        text-align: right;\n",
              "    }\n",
              "</style>\n",
              "<table border=\"1\" class=\"dataframe\">\n",
              "  <thead>\n",
              "    <tr style=\"text-align: right;\">\n",
              "      <th></th>\n",
              "      <th>Store</th>\n",
              "      <th>Date</th>\n",
              "      <th>Temperature</th>\n",
              "      <th>Fuel_Price</th>\n",
              "      <th>MarkDown1</th>\n",
              "      <th>MarkDown2</th>\n",
              "      <th>MarkDown3</th>\n",
              "      <th>MarkDown4</th>\n",
              "      <th>MarkDown5</th>\n",
              "      <th>CPI</th>\n",
              "      <th>Unemployment</th>\n",
              "      <th>IsHoliday</th>\n",
              "    </tr>\n",
              "  </thead>\n",
              "  <tbody>\n",
              "    <tr>\n",
              "      <th>0</th>\n",
              "      <td>1</td>\n",
              "      <td>2010-02-05</td>\n",
              "      <td>42.31</td>\n",
              "      <td>2.572</td>\n",
              "      <td>NaN</td>\n",
              "      <td>NaN</td>\n",
              "      <td>NaN</td>\n",
              "      <td>NaN</td>\n",
              "      <td>NaN</td>\n",
              "      <td>211.096358</td>\n",
              "      <td>8.106</td>\n",
              "      <td>False</td>\n",
              "    </tr>\n",
              "    <tr>\n",
              "      <th>1</th>\n",
              "      <td>1</td>\n",
              "      <td>2010-02-12</td>\n",
              "      <td>38.51</td>\n",
              "      <td>2.548</td>\n",
              "      <td>NaN</td>\n",
              "      <td>NaN</td>\n",
              "      <td>NaN</td>\n",
              "      <td>NaN</td>\n",
              "      <td>NaN</td>\n",
              "      <td>211.242170</td>\n",
              "      <td>8.106</td>\n",
              "      <td>True</td>\n",
              "    </tr>\n",
              "    <tr>\n",
              "      <th>2</th>\n",
              "      <td>1</td>\n",
              "      <td>2010-02-19</td>\n",
              "      <td>39.93</td>\n",
              "      <td>2.514</td>\n",
              "      <td>NaN</td>\n",
              "      <td>NaN</td>\n",
              "      <td>NaN</td>\n",
              "      <td>NaN</td>\n",
              "      <td>NaN</td>\n",
              "      <td>211.289143</td>\n",
              "      <td>8.106</td>\n",
              "      <td>False</td>\n",
              "    </tr>\n",
              "    <tr>\n",
              "      <th>3</th>\n",
              "      <td>1</td>\n",
              "      <td>2010-02-26</td>\n",
              "      <td>46.63</td>\n",
              "      <td>2.561</td>\n",
              "      <td>NaN</td>\n",
              "      <td>NaN</td>\n",
              "      <td>NaN</td>\n",
              "      <td>NaN</td>\n",
              "      <td>NaN</td>\n",
              "      <td>211.319643</td>\n",
              "      <td>8.106</td>\n",
              "      <td>False</td>\n",
              "    </tr>\n",
              "    <tr>\n",
              "      <th>4</th>\n",
              "      <td>1</td>\n",
              "      <td>2010-03-05</td>\n",
              "      <td>46.50</td>\n",
              "      <td>2.625</td>\n",
              "      <td>NaN</td>\n",
              "      <td>NaN</td>\n",
              "      <td>NaN</td>\n",
              "      <td>NaN</td>\n",
              "      <td>NaN</td>\n",
              "      <td>211.350143</td>\n",
              "      <td>8.106</td>\n",
              "      <td>False</td>\n",
              "    </tr>\n",
              "    <tr>\n",
              "      <th>5</th>\n",
              "      <td>1</td>\n",
              "      <td>2010-03-12</td>\n",
              "      <td>57.79</td>\n",
              "      <td>2.667</td>\n",
              "      <td>NaN</td>\n",
              "      <td>NaN</td>\n",
              "      <td>NaN</td>\n",
              "      <td>NaN</td>\n",
              "      <td>NaN</td>\n",
              "      <td>211.380643</td>\n",
              "      <td>8.106</td>\n",
              "      <td>False</td>\n",
              "    </tr>\n",
              "    <tr>\n",
              "      <th>6</th>\n",
              "      <td>1</td>\n",
              "      <td>2010-03-19</td>\n",
              "      <td>54.58</td>\n",
              "      <td>2.720</td>\n",
              "      <td>NaN</td>\n",
              "      <td>NaN</td>\n",
              "      <td>NaN</td>\n",
              "      <td>NaN</td>\n",
              "      <td>NaN</td>\n",
              "      <td>211.215635</td>\n",
              "      <td>8.106</td>\n",
              "      <td>False</td>\n",
              "    </tr>\n",
              "    <tr>\n",
              "      <th>7</th>\n",
              "      <td>1</td>\n",
              "      <td>2010-03-26</td>\n",
              "      <td>51.45</td>\n",
              "      <td>2.732</td>\n",
              "      <td>NaN</td>\n",
              "      <td>NaN</td>\n",
              "      <td>NaN</td>\n",
              "      <td>NaN</td>\n",
              "      <td>NaN</td>\n",
              "      <td>211.018042</td>\n",
              "      <td>8.106</td>\n",
              "      <td>False</td>\n",
              "    </tr>\n",
              "    <tr>\n",
              "      <th>8</th>\n",
              "      <td>1</td>\n",
              "      <td>2010-04-02</td>\n",
              "      <td>62.27</td>\n",
              "      <td>2.719</td>\n",
              "      <td>NaN</td>\n",
              "      <td>NaN</td>\n",
              "      <td>NaN</td>\n",
              "      <td>NaN</td>\n",
              "      <td>NaN</td>\n",
              "      <td>210.820450</td>\n",
              "      <td>7.808</td>\n",
              "      <td>False</td>\n",
              "    </tr>\n",
              "    <tr>\n",
              "      <th>9</th>\n",
              "      <td>1</td>\n",
              "      <td>2010-04-09</td>\n",
              "      <td>65.86</td>\n",
              "      <td>2.770</td>\n",
              "      <td>NaN</td>\n",
              "      <td>NaN</td>\n",
              "      <td>NaN</td>\n",
              "      <td>NaN</td>\n",
              "      <td>NaN</td>\n",
              "      <td>210.622857</td>\n",
              "      <td>7.808</td>\n",
              "      <td>False</td>\n",
              "    </tr>\n",
              "  </tbody>\n",
              "</table>\n",
              "</div>"
            ],
            "text/plain": [
              "   Store        Date  Temperature  ...         CPI  Unemployment  IsHoliday\n",
              "0      1  2010-02-05        42.31  ...  211.096358         8.106      False\n",
              "1      1  2010-02-12        38.51  ...  211.242170         8.106       True\n",
              "2      1  2010-02-19        39.93  ...  211.289143         8.106      False\n",
              "3      1  2010-02-26        46.63  ...  211.319643         8.106      False\n",
              "4      1  2010-03-05        46.50  ...  211.350143         8.106      False\n",
              "5      1  2010-03-12        57.79  ...  211.380643         8.106      False\n",
              "6      1  2010-03-19        54.58  ...  211.215635         8.106      False\n",
              "7      1  2010-03-26        51.45  ...  211.018042         8.106      False\n",
              "8      1  2010-04-02        62.27  ...  210.820450         7.808      False\n",
              "9      1  2010-04-09        65.86  ...  210.622857         7.808      False\n",
              "\n",
              "[10 rows x 12 columns]"
            ]
          },
          "metadata": {},
          "execution_count": 13
        }
      ]
    },
    {
      "cell_type": "code",
      "metadata": {
        "colab": {
          "base_uri": "https://localhost:8080/"
        },
        "id": "DCYHH9GGzMGM",
        "outputId": "7abaf30b-f4ae-48d1-d3ab-7a15da21f4cd"
      },
      "source": [
        "features_df.info()"
      ],
      "execution_count": null,
      "outputs": [
        {
          "output_type": "stream",
          "name": "stdout",
          "text": [
            "<class 'pandas.core.frame.DataFrame'>\n",
            "RangeIndex: 8190 entries, 0 to 8189\n",
            "Data columns (total 12 columns):\n",
            " #   Column        Non-Null Count  Dtype  \n",
            "---  ------        --------------  -----  \n",
            " 0   Store         8190 non-null   int64  \n",
            " 1   Date          8190 non-null   object \n",
            " 2   Temperature   8190 non-null   float64\n",
            " 3   Fuel_Price    8190 non-null   float64\n",
            " 4   MarkDown1     4032 non-null   float64\n",
            " 5   MarkDown2     2921 non-null   float64\n",
            " 6   MarkDown3     3613 non-null   float64\n",
            " 7   MarkDown4     3464 non-null   float64\n",
            " 8   MarkDown5     4050 non-null   float64\n",
            " 9   CPI           7605 non-null   float64\n",
            " 10  Unemployment  7605 non-null   float64\n",
            " 11  IsHoliday     8190 non-null   bool   \n",
            "dtypes: bool(1), float64(9), int64(1), object(1)\n",
            "memory usage: 712.0+ KB\n"
          ]
        }
      ]
    },
    {
      "cell_type": "code",
      "metadata": {
        "colab": {
          "base_uri": "https://localhost:8080/"
        },
        "id": "PG6r5wDozdAS",
        "outputId": "5d6b5809-6eee-401e-d8bf-85ff02400869"
      },
      "source": [
        "features_df.shape"
      ],
      "execution_count": null,
      "outputs": [
        {
          "output_type": "execute_result",
          "data": {
            "text/plain": [
              "(8190, 12)"
            ]
          },
          "metadata": {},
          "execution_count": 15
        }
      ]
    },
    {
      "cell_type": "code",
      "metadata": {
        "colab": {
          "base_uri": "https://localhost:8080/",
          "height": 296
        },
        "id": "VWyI0Up31egJ",
        "outputId": "81fa00d0-e984-4aa5-fb34-636c39601f14"
      },
      "source": [
        "features_df.describe()"
      ],
      "execution_count": null,
      "outputs": [
        {
          "output_type": "execute_result",
          "data": {
            "text/html": [
              "<div>\n",
              "<style scoped>\n",
              "    .dataframe tbody tr th:only-of-type {\n",
              "        vertical-align: middle;\n",
              "    }\n",
              "\n",
              "    .dataframe tbody tr th {\n",
              "        vertical-align: top;\n",
              "    }\n",
              "\n",
              "    .dataframe thead th {\n",
              "        text-align: right;\n",
              "    }\n",
              "</style>\n",
              "<table border=\"1\" class=\"dataframe\">\n",
              "  <thead>\n",
              "    <tr style=\"text-align: right;\">\n",
              "      <th></th>\n",
              "      <th>Store</th>\n",
              "      <th>Temperature</th>\n",
              "      <th>Fuel_Price</th>\n",
              "      <th>MarkDown1</th>\n",
              "      <th>MarkDown2</th>\n",
              "      <th>MarkDown3</th>\n",
              "      <th>MarkDown4</th>\n",
              "      <th>MarkDown5</th>\n",
              "      <th>CPI</th>\n",
              "      <th>Unemployment</th>\n",
              "    </tr>\n",
              "  </thead>\n",
              "  <tbody>\n",
              "    <tr>\n",
              "      <th>count</th>\n",
              "      <td>8190.000000</td>\n",
              "      <td>8190.000000</td>\n",
              "      <td>8190.000000</td>\n",
              "      <td>4032.000000</td>\n",
              "      <td>2921.000000</td>\n",
              "      <td>3613.000000</td>\n",
              "      <td>3464.000000</td>\n",
              "      <td>4050.000000</td>\n",
              "      <td>7605.000000</td>\n",
              "      <td>7605.000000</td>\n",
              "    </tr>\n",
              "    <tr>\n",
              "      <th>mean</th>\n",
              "      <td>23.000000</td>\n",
              "      <td>59.356198</td>\n",
              "      <td>3.405992</td>\n",
              "      <td>7032.371786</td>\n",
              "      <td>3384.176594</td>\n",
              "      <td>1760.100180</td>\n",
              "      <td>3292.935886</td>\n",
              "      <td>4132.216422</td>\n",
              "      <td>172.460809</td>\n",
              "      <td>7.826821</td>\n",
              "    </tr>\n",
              "    <tr>\n",
              "      <th>std</th>\n",
              "      <td>12.987966</td>\n",
              "      <td>18.678607</td>\n",
              "      <td>0.431337</td>\n",
              "      <td>9262.747448</td>\n",
              "      <td>8793.583016</td>\n",
              "      <td>11276.462208</td>\n",
              "      <td>6792.329861</td>\n",
              "      <td>13086.690278</td>\n",
              "      <td>39.738346</td>\n",
              "      <td>1.877259</td>\n",
              "    </tr>\n",
              "    <tr>\n",
              "      <th>min</th>\n",
              "      <td>1.000000</td>\n",
              "      <td>-7.290000</td>\n",
              "      <td>2.472000</td>\n",
              "      <td>-2781.450000</td>\n",
              "      <td>-265.760000</td>\n",
              "      <td>-179.260000</td>\n",
              "      <td>0.220000</td>\n",
              "      <td>-185.170000</td>\n",
              "      <td>126.064000</td>\n",
              "      <td>3.684000</td>\n",
              "    </tr>\n",
              "    <tr>\n",
              "      <th>25%</th>\n",
              "      <td>12.000000</td>\n",
              "      <td>45.902500</td>\n",
              "      <td>3.041000</td>\n",
              "      <td>1577.532500</td>\n",
              "      <td>68.880000</td>\n",
              "      <td>6.600000</td>\n",
              "      <td>304.687500</td>\n",
              "      <td>1440.827500</td>\n",
              "      <td>132.364839</td>\n",
              "      <td>6.634000</td>\n",
              "    </tr>\n",
              "    <tr>\n",
              "      <th>50%</th>\n",
              "      <td>23.000000</td>\n",
              "      <td>60.710000</td>\n",
              "      <td>3.513000</td>\n",
              "      <td>4743.580000</td>\n",
              "      <td>364.570000</td>\n",
              "      <td>36.260000</td>\n",
              "      <td>1176.425000</td>\n",
              "      <td>2727.135000</td>\n",
              "      <td>182.764003</td>\n",
              "      <td>7.806000</td>\n",
              "    </tr>\n",
              "    <tr>\n",
              "      <th>75%</th>\n",
              "      <td>34.000000</td>\n",
              "      <td>73.880000</td>\n",
              "      <td>3.743000</td>\n",
              "      <td>8923.310000</td>\n",
              "      <td>2153.350000</td>\n",
              "      <td>163.150000</td>\n",
              "      <td>3310.007500</td>\n",
              "      <td>4832.555000</td>\n",
              "      <td>213.932412</td>\n",
              "      <td>8.567000</td>\n",
              "    </tr>\n",
              "    <tr>\n",
              "      <th>max</th>\n",
              "      <td>45.000000</td>\n",
              "      <td>101.950000</td>\n",
              "      <td>4.468000</td>\n",
              "      <td>103184.980000</td>\n",
              "      <td>104519.540000</td>\n",
              "      <td>149483.310000</td>\n",
              "      <td>67474.850000</td>\n",
              "      <td>771448.100000</td>\n",
              "      <td>228.976456</td>\n",
              "      <td>14.313000</td>\n",
              "    </tr>\n",
              "  </tbody>\n",
              "</table>\n",
              "</div>"
            ],
            "text/plain": [
              "             Store  Temperature  ...          CPI  Unemployment\n",
              "count  8190.000000  8190.000000  ...  7605.000000   7605.000000\n",
              "mean     23.000000    59.356198  ...   172.460809      7.826821\n",
              "std      12.987966    18.678607  ...    39.738346      1.877259\n",
              "min       1.000000    -7.290000  ...   126.064000      3.684000\n",
              "25%      12.000000    45.902500  ...   132.364839      6.634000\n",
              "50%      23.000000    60.710000  ...   182.764003      7.806000\n",
              "75%      34.000000    73.880000  ...   213.932412      8.567000\n",
              "max      45.000000   101.950000  ...   228.976456     14.313000\n",
              "\n",
              "[8 rows x 10 columns]"
            ]
          },
          "metadata": {},
          "execution_count": 16
        }
      ]
    },
    {
      "cell_type": "code",
      "metadata": {
        "colab": {
          "base_uri": "https://localhost:8080/"
        },
        "id": "1YrqMvJU1kbp",
        "outputId": "60e4b249-95ad-46ff-fc61-034d71548c1a"
      },
      "source": [
        "features_df.isnull().sum()"
      ],
      "execution_count": null,
      "outputs": [
        {
          "output_type": "execute_result",
          "data": {
            "text/plain": [
              "Store              0\n",
              "Date               0\n",
              "Temperature        0\n",
              "Fuel_Price         0\n",
              "MarkDown1       4158\n",
              "MarkDown2       5269\n",
              "MarkDown3       4577\n",
              "MarkDown4       4726\n",
              "MarkDown5       4140\n",
              "CPI              585\n",
              "Unemployment     585\n",
              "IsHoliday          0\n",
              "dtype: int64"
            ]
          },
          "metadata": {},
          "execution_count": 17
        }
      ]
    },
    {
      "cell_type": "code",
      "metadata": {
        "colab": {
          "base_uri": "https://localhost:8080/",
          "height": 204
        },
        "id": "TxL9BFVI1t_A",
        "outputId": "a7d6b377-5796-46ec-d538-80d1ca3726f0"
      },
      "source": [
        "stores.head()"
      ],
      "execution_count": null,
      "outputs": [
        {
          "output_type": "execute_result",
          "data": {
            "text/html": [
              "<div>\n",
              "<style scoped>\n",
              "    .dataframe tbody tr th:only-of-type {\n",
              "        vertical-align: middle;\n",
              "    }\n",
              "\n",
              "    .dataframe tbody tr th {\n",
              "        vertical-align: top;\n",
              "    }\n",
              "\n",
              "    .dataframe thead th {\n",
              "        text-align: right;\n",
              "    }\n",
              "</style>\n",
              "<table border=\"1\" class=\"dataframe\">\n",
              "  <thead>\n",
              "    <tr style=\"text-align: right;\">\n",
              "      <th></th>\n",
              "      <th>Store</th>\n",
              "      <th>Type</th>\n",
              "      <th>Size</th>\n",
              "    </tr>\n",
              "  </thead>\n",
              "  <tbody>\n",
              "    <tr>\n",
              "      <th>0</th>\n",
              "      <td>1</td>\n",
              "      <td>A</td>\n",
              "      <td>151315</td>\n",
              "    </tr>\n",
              "    <tr>\n",
              "      <th>1</th>\n",
              "      <td>2</td>\n",
              "      <td>A</td>\n",
              "      <td>202307</td>\n",
              "    </tr>\n",
              "    <tr>\n",
              "      <th>2</th>\n",
              "      <td>3</td>\n",
              "      <td>B</td>\n",
              "      <td>37392</td>\n",
              "    </tr>\n",
              "    <tr>\n",
              "      <th>3</th>\n",
              "      <td>4</td>\n",
              "      <td>A</td>\n",
              "      <td>205863</td>\n",
              "    </tr>\n",
              "    <tr>\n",
              "      <th>4</th>\n",
              "      <td>5</td>\n",
              "      <td>B</td>\n",
              "      <td>34875</td>\n",
              "    </tr>\n",
              "  </tbody>\n",
              "</table>\n",
              "</div>"
            ],
            "text/plain": [
              "   Store Type    Size\n",
              "0      1    A  151315\n",
              "1      2    A  202307\n",
              "2      3    B   37392\n",
              "3      4    A  205863\n",
              "4      5    B   34875"
            ]
          },
          "metadata": {},
          "execution_count": 18
        }
      ]
    },
    {
      "cell_type": "code",
      "metadata": {
        "colab": {
          "base_uri": "https://localhost:8080/"
        },
        "id": "DfT_7uMQ1zhE",
        "outputId": "20766197-1e0d-4c6a-ac49-32b09a6b45df"
      },
      "source": [
        "stores.shape"
      ],
      "execution_count": null,
      "outputs": [
        {
          "output_type": "execute_result",
          "data": {
            "text/plain": [
              "(45, 3)"
            ]
          },
          "metadata": {},
          "execution_count": 19
        }
      ]
    },
    {
      "cell_type": "code",
      "metadata": {
        "colab": {
          "base_uri": "https://localhost:8080/"
        },
        "id": "Zb0sEN1Q2BGA",
        "outputId": "b0511f6f-8857-4171-8f38-e70b29c6e6e6"
      },
      "source": [
        "stores.info()"
      ],
      "execution_count": null,
      "outputs": [
        {
          "output_type": "stream",
          "name": "stdout",
          "text": [
            "<class 'pandas.core.frame.DataFrame'>\n",
            "RangeIndex: 45 entries, 0 to 44\n",
            "Data columns (total 3 columns):\n",
            " #   Column  Non-Null Count  Dtype \n",
            "---  ------  --------------  ----- \n",
            " 0   Store   45 non-null     int64 \n",
            " 1   Type    45 non-null     object\n",
            " 2   Size    45 non-null     int64 \n",
            "dtypes: int64(2), object(1)\n",
            "memory usage: 1.2+ KB\n"
          ]
        }
      ]
    },
    {
      "cell_type": "code",
      "metadata": {
        "colab": {
          "base_uri": "https://localhost:8080/",
          "height": 296
        },
        "id": "qlYfEpRd2C83",
        "outputId": "8ff973c0-ac0d-4702-e87c-89802e2e0cd9"
      },
      "source": [
        "stores.describe()"
      ],
      "execution_count": null,
      "outputs": [
        {
          "output_type": "execute_result",
          "data": {
            "text/html": [
              "<div>\n",
              "<style scoped>\n",
              "    .dataframe tbody tr th:only-of-type {\n",
              "        vertical-align: middle;\n",
              "    }\n",
              "\n",
              "    .dataframe tbody tr th {\n",
              "        vertical-align: top;\n",
              "    }\n",
              "\n",
              "    .dataframe thead th {\n",
              "        text-align: right;\n",
              "    }\n",
              "</style>\n",
              "<table border=\"1\" class=\"dataframe\">\n",
              "  <thead>\n",
              "    <tr style=\"text-align: right;\">\n",
              "      <th></th>\n",
              "      <th>Store</th>\n",
              "      <th>Size</th>\n",
              "    </tr>\n",
              "  </thead>\n",
              "  <tbody>\n",
              "    <tr>\n",
              "      <th>count</th>\n",
              "      <td>45.000000</td>\n",
              "      <td>45.000000</td>\n",
              "    </tr>\n",
              "    <tr>\n",
              "      <th>mean</th>\n",
              "      <td>23.000000</td>\n",
              "      <td>130287.600000</td>\n",
              "    </tr>\n",
              "    <tr>\n",
              "      <th>std</th>\n",
              "      <td>13.133926</td>\n",
              "      <td>63825.271991</td>\n",
              "    </tr>\n",
              "    <tr>\n",
              "      <th>min</th>\n",
              "      <td>1.000000</td>\n",
              "      <td>34875.000000</td>\n",
              "    </tr>\n",
              "    <tr>\n",
              "      <th>25%</th>\n",
              "      <td>12.000000</td>\n",
              "      <td>70713.000000</td>\n",
              "    </tr>\n",
              "    <tr>\n",
              "      <th>50%</th>\n",
              "      <td>23.000000</td>\n",
              "      <td>126512.000000</td>\n",
              "    </tr>\n",
              "    <tr>\n",
              "      <th>75%</th>\n",
              "      <td>34.000000</td>\n",
              "      <td>202307.000000</td>\n",
              "    </tr>\n",
              "    <tr>\n",
              "      <th>max</th>\n",
              "      <td>45.000000</td>\n",
              "      <td>219622.000000</td>\n",
              "    </tr>\n",
              "  </tbody>\n",
              "</table>\n",
              "</div>"
            ],
            "text/plain": [
              "           Store           Size\n",
              "count  45.000000      45.000000\n",
              "mean   23.000000  130287.600000\n",
              "std    13.133926   63825.271991\n",
              "min     1.000000   34875.000000\n",
              "25%    12.000000   70713.000000\n",
              "50%    23.000000  126512.000000\n",
              "75%    34.000000  202307.000000\n",
              "max    45.000000  219622.000000"
            ]
          },
          "metadata": {},
          "execution_count": 21
        }
      ]
    },
    {
      "cell_type": "code",
      "metadata": {
        "colab": {
          "base_uri": "https://localhost:8080/"
        },
        "id": "kBXGm-3J2LSn",
        "outputId": "63abde8a-e62d-457a-e230-f9dc545e1383"
      },
      "source": [
        "stores.isnull().sum()"
      ],
      "execution_count": null,
      "outputs": [
        {
          "output_type": "execute_result",
          "data": {
            "text/plain": [
              "Store    0\n",
              "Type     0\n",
              "Size     0\n",
              "dtype: int64"
            ]
          },
          "metadata": {},
          "execution_count": 22
        }
      ]
    },
    {
      "cell_type": "code",
      "metadata": {
        "colab": {
          "base_uri": "https://localhost:8080/",
          "height": 204
        },
        "id": "c7bKjbco2Puk",
        "outputId": "951ea38e-f9b4-4451-a842-63ec4344c885"
      },
      "source": [
        "dataset_m = features_df.merge(stores, how='inner', on='Store')\n",
        "dataset_m.head()"
      ],
      "execution_count": null,
      "outputs": [
        {
          "output_type": "execute_result",
          "data": {
            "text/html": [
              "<div>\n",
              "<style scoped>\n",
              "    .dataframe tbody tr th:only-of-type {\n",
              "        vertical-align: middle;\n",
              "    }\n",
              "\n",
              "    .dataframe tbody tr th {\n",
              "        vertical-align: top;\n",
              "    }\n",
              "\n",
              "    .dataframe thead th {\n",
              "        text-align: right;\n",
              "    }\n",
              "</style>\n",
              "<table border=\"1\" class=\"dataframe\">\n",
              "  <thead>\n",
              "    <tr style=\"text-align: right;\">\n",
              "      <th></th>\n",
              "      <th>Store</th>\n",
              "      <th>Date</th>\n",
              "      <th>Temperature</th>\n",
              "      <th>Fuel_Price</th>\n",
              "      <th>MarkDown1</th>\n",
              "      <th>MarkDown2</th>\n",
              "      <th>MarkDown3</th>\n",
              "      <th>MarkDown4</th>\n",
              "      <th>MarkDown5</th>\n",
              "      <th>CPI</th>\n",
              "      <th>Unemployment</th>\n",
              "      <th>IsHoliday</th>\n",
              "      <th>Type</th>\n",
              "      <th>Size</th>\n",
              "    </tr>\n",
              "  </thead>\n",
              "  <tbody>\n",
              "    <tr>\n",
              "      <th>0</th>\n",
              "      <td>1</td>\n",
              "      <td>2010-02-05</td>\n",
              "      <td>42.31</td>\n",
              "      <td>2.572</td>\n",
              "      <td>NaN</td>\n",
              "      <td>NaN</td>\n",
              "      <td>NaN</td>\n",
              "      <td>NaN</td>\n",
              "      <td>NaN</td>\n",
              "      <td>211.096358</td>\n",
              "      <td>8.106</td>\n",
              "      <td>False</td>\n",
              "      <td>A</td>\n",
              "      <td>151315</td>\n",
              "    </tr>\n",
              "    <tr>\n",
              "      <th>1</th>\n",
              "      <td>1</td>\n",
              "      <td>2010-02-12</td>\n",
              "      <td>38.51</td>\n",
              "      <td>2.548</td>\n",
              "      <td>NaN</td>\n",
              "      <td>NaN</td>\n",
              "      <td>NaN</td>\n",
              "      <td>NaN</td>\n",
              "      <td>NaN</td>\n",
              "      <td>211.242170</td>\n",
              "      <td>8.106</td>\n",
              "      <td>True</td>\n",
              "      <td>A</td>\n",
              "      <td>151315</td>\n",
              "    </tr>\n",
              "    <tr>\n",
              "      <th>2</th>\n",
              "      <td>1</td>\n",
              "      <td>2010-02-19</td>\n",
              "      <td>39.93</td>\n",
              "      <td>2.514</td>\n",
              "      <td>NaN</td>\n",
              "      <td>NaN</td>\n",
              "      <td>NaN</td>\n",
              "      <td>NaN</td>\n",
              "      <td>NaN</td>\n",
              "      <td>211.289143</td>\n",
              "      <td>8.106</td>\n",
              "      <td>False</td>\n",
              "      <td>A</td>\n",
              "      <td>151315</td>\n",
              "    </tr>\n",
              "    <tr>\n",
              "      <th>3</th>\n",
              "      <td>1</td>\n",
              "      <td>2010-02-26</td>\n",
              "      <td>46.63</td>\n",
              "      <td>2.561</td>\n",
              "      <td>NaN</td>\n",
              "      <td>NaN</td>\n",
              "      <td>NaN</td>\n",
              "      <td>NaN</td>\n",
              "      <td>NaN</td>\n",
              "      <td>211.319643</td>\n",
              "      <td>8.106</td>\n",
              "      <td>False</td>\n",
              "      <td>A</td>\n",
              "      <td>151315</td>\n",
              "    </tr>\n",
              "    <tr>\n",
              "      <th>4</th>\n",
              "      <td>1</td>\n",
              "      <td>2010-03-05</td>\n",
              "      <td>46.50</td>\n",
              "      <td>2.625</td>\n",
              "      <td>NaN</td>\n",
              "      <td>NaN</td>\n",
              "      <td>NaN</td>\n",
              "      <td>NaN</td>\n",
              "      <td>NaN</td>\n",
              "      <td>211.350143</td>\n",
              "      <td>8.106</td>\n",
              "      <td>False</td>\n",
              "      <td>A</td>\n",
              "      <td>151315</td>\n",
              "    </tr>\n",
              "  </tbody>\n",
              "</table>\n",
              "</div>"
            ],
            "text/plain": [
              "   Store        Date  Temperature  ...  IsHoliday  Type    Size\n",
              "0      1  2010-02-05        42.31  ...      False     A  151315\n",
              "1      1  2010-02-12        38.51  ...       True     A  151315\n",
              "2      1  2010-02-19        39.93  ...      False     A  151315\n",
              "3      1  2010-02-26        46.63  ...      False     A  151315\n",
              "4      1  2010-03-05        46.50  ...      False     A  151315\n",
              "\n",
              "[5 rows x 14 columns]"
            ]
          },
          "metadata": {},
          "execution_count": 23
        }
      ]
    },
    {
      "cell_type": "code",
      "metadata": {
        "colab": {
          "base_uri": "https://localhost:8080/"
        },
        "id": "iLoaSdHB2tXJ",
        "outputId": "63c5a955-a80c-44a4-ea15-bb74786cff96"
      },
      "source": [
        "dataset_m.info()"
      ],
      "execution_count": null,
      "outputs": [
        {
          "output_type": "stream",
          "name": "stdout",
          "text": [
            "<class 'pandas.core.frame.DataFrame'>\n",
            "Int64Index: 8190 entries, 0 to 8189\n",
            "Data columns (total 14 columns):\n",
            " #   Column        Non-Null Count  Dtype  \n",
            "---  ------        --------------  -----  \n",
            " 0   Store         8190 non-null   int64  \n",
            " 1   Date          8190 non-null   object \n",
            " 2   Temperature   8190 non-null   float64\n",
            " 3   Fuel_Price    8190 non-null   float64\n",
            " 4   MarkDown1     4032 non-null   float64\n",
            " 5   MarkDown2     2921 non-null   float64\n",
            " 6   MarkDown3     3613 non-null   float64\n",
            " 7   MarkDown4     3464 non-null   float64\n",
            " 8   MarkDown5     4050 non-null   float64\n",
            " 9   CPI           7605 non-null   float64\n",
            " 10  Unemployment  7605 non-null   float64\n",
            " 11  IsHoliday     8190 non-null   bool   \n",
            " 12  Type          8190 non-null   object \n",
            " 13  Size          8190 non-null   int64  \n",
            "dtypes: bool(1), float64(9), int64(2), object(2)\n",
            "memory usage: 903.8+ KB\n"
          ]
        }
      ]
    },
    {
      "cell_type": "code",
      "metadata": {
        "colab": {
          "base_uri": "https://localhost:8080/"
        },
        "id": "bR8Wi2tW3UjZ",
        "outputId": "eacbffaa-1d61-425b-bd84-e86848a11970"
      },
      "source": [
        "dataset_m.isnull().sum()"
      ],
      "execution_count": null,
      "outputs": [
        {
          "output_type": "execute_result",
          "data": {
            "text/plain": [
              "Store              0\n",
              "Date               0\n",
              "Temperature        0\n",
              "Fuel_Price         0\n",
              "MarkDown1       4158\n",
              "MarkDown2       5269\n",
              "MarkDown3       4577\n",
              "MarkDown4       4726\n",
              "MarkDown5       4140\n",
              "CPI              585\n",
              "Unemployment     585\n",
              "IsHoliday          0\n",
              "Type               0\n",
              "Size               0\n",
              "dtype: int64"
            ]
          },
          "metadata": {},
          "execution_count": 25
        }
      ]
    },
    {
      "cell_type": "code",
      "metadata": {
        "id": "jSbWuvyy3k9c"
      },
      "source": [
        "from datetime import datetime\n",
        "# converting date to date time\n",
        "dataset_m['Date'] = pd.to_datetime(dataset_m['Date'])\n",
        "train_df['Date'] = pd.to_datetime(train_df['Date'])\n",
        "test_df['Date'] = pd.to_datetime(test_df['Date'])\n",
        "# Extract week and year from the date and make them into new columns\n",
        "dataset_m['week'] = dataset_m.Date.dt.isocalendar().week\n",
        "dataset_m['year'] = dataset_m.Date.dt.isocalendar().year"
      ],
      "execution_count": null,
      "outputs": []
    },
    {
      "cell_type": "code",
      "metadata": {
        "colab": {
          "base_uri": "https://localhost:8080/",
          "height": 204
        },
        "id": "lYkHNWGe4r8x",
        "outputId": "d7c0ba9c-3100-43b3-b714-03dabf1a0f86"
      },
      "source": [
        "dataset_m.tail()"
      ],
      "execution_count": null,
      "outputs": [
        {
          "output_type": "execute_result",
          "data": {
            "text/html": [
              "<div>\n",
              "<style scoped>\n",
              "    .dataframe tbody tr th:only-of-type {\n",
              "        vertical-align: middle;\n",
              "    }\n",
              "\n",
              "    .dataframe tbody tr th {\n",
              "        vertical-align: top;\n",
              "    }\n",
              "\n",
              "    .dataframe thead th {\n",
              "        text-align: right;\n",
              "    }\n",
              "</style>\n",
              "<table border=\"1\" class=\"dataframe\">\n",
              "  <thead>\n",
              "    <tr style=\"text-align: right;\">\n",
              "      <th></th>\n",
              "      <th>Store</th>\n",
              "      <th>Date</th>\n",
              "      <th>Temperature</th>\n",
              "      <th>Fuel_Price</th>\n",
              "      <th>MarkDown1</th>\n",
              "      <th>MarkDown2</th>\n",
              "      <th>MarkDown3</th>\n",
              "      <th>MarkDown4</th>\n",
              "      <th>MarkDown5</th>\n",
              "      <th>CPI</th>\n",
              "      <th>Unemployment</th>\n",
              "      <th>IsHoliday</th>\n",
              "      <th>Type</th>\n",
              "      <th>Size</th>\n",
              "      <th>week</th>\n",
              "      <th>year</th>\n",
              "    </tr>\n",
              "  </thead>\n",
              "  <tbody>\n",
              "    <tr>\n",
              "      <th>8185</th>\n",
              "      <td>45</td>\n",
              "      <td>2013-06-28</td>\n",
              "      <td>76.05</td>\n",
              "      <td>3.639</td>\n",
              "      <td>4842.29</td>\n",
              "      <td>975.03</td>\n",
              "      <td>3.00</td>\n",
              "      <td>2449.97</td>\n",
              "      <td>3169.69</td>\n",
              "      <td>NaN</td>\n",
              "      <td>NaN</td>\n",
              "      <td>False</td>\n",
              "      <td>B</td>\n",
              "      <td>118221</td>\n",
              "      <td>26</td>\n",
              "      <td>2013</td>\n",
              "    </tr>\n",
              "    <tr>\n",
              "      <th>8186</th>\n",
              "      <td>45</td>\n",
              "      <td>2013-07-05</td>\n",
              "      <td>77.50</td>\n",
              "      <td>3.614</td>\n",
              "      <td>9090.48</td>\n",
              "      <td>2268.58</td>\n",
              "      <td>582.74</td>\n",
              "      <td>5797.47</td>\n",
              "      <td>1514.93</td>\n",
              "      <td>NaN</td>\n",
              "      <td>NaN</td>\n",
              "      <td>False</td>\n",
              "      <td>B</td>\n",
              "      <td>118221</td>\n",
              "      <td>27</td>\n",
              "      <td>2013</td>\n",
              "    </tr>\n",
              "    <tr>\n",
              "      <th>8187</th>\n",
              "      <td>45</td>\n",
              "      <td>2013-07-12</td>\n",
              "      <td>79.37</td>\n",
              "      <td>3.614</td>\n",
              "      <td>3789.94</td>\n",
              "      <td>1827.31</td>\n",
              "      <td>85.72</td>\n",
              "      <td>744.84</td>\n",
              "      <td>2150.36</td>\n",
              "      <td>NaN</td>\n",
              "      <td>NaN</td>\n",
              "      <td>False</td>\n",
              "      <td>B</td>\n",
              "      <td>118221</td>\n",
              "      <td>28</td>\n",
              "      <td>2013</td>\n",
              "    </tr>\n",
              "    <tr>\n",
              "      <th>8188</th>\n",
              "      <td>45</td>\n",
              "      <td>2013-07-19</td>\n",
              "      <td>82.84</td>\n",
              "      <td>3.737</td>\n",
              "      <td>2961.49</td>\n",
              "      <td>1047.07</td>\n",
              "      <td>204.19</td>\n",
              "      <td>363.00</td>\n",
              "      <td>1059.46</td>\n",
              "      <td>NaN</td>\n",
              "      <td>NaN</td>\n",
              "      <td>False</td>\n",
              "      <td>B</td>\n",
              "      <td>118221</td>\n",
              "      <td>29</td>\n",
              "      <td>2013</td>\n",
              "    </tr>\n",
              "    <tr>\n",
              "      <th>8189</th>\n",
              "      <td>45</td>\n",
              "      <td>2013-07-26</td>\n",
              "      <td>76.06</td>\n",
              "      <td>3.804</td>\n",
              "      <td>212.02</td>\n",
              "      <td>851.73</td>\n",
              "      <td>2.06</td>\n",
              "      <td>10.88</td>\n",
              "      <td>1864.57</td>\n",
              "      <td>NaN</td>\n",
              "      <td>NaN</td>\n",
              "      <td>False</td>\n",
              "      <td>B</td>\n",
              "      <td>118221</td>\n",
              "      <td>30</td>\n",
              "      <td>2013</td>\n",
              "    </tr>\n",
              "  </tbody>\n",
              "</table>\n",
              "</div>"
            ],
            "text/plain": [
              "      Store       Date  Temperature  Fuel_Price  ...  Type    Size  week  year\n",
              "8185     45 2013-06-28        76.05       3.639  ...     B  118221    26  2013\n",
              "8186     45 2013-07-05        77.50       3.614  ...     B  118221    27  2013\n",
              "8187     45 2013-07-12        79.37       3.614  ...     B  118221    28  2013\n",
              "8188     45 2013-07-19        82.84       3.737  ...     B  118221    29  2013\n",
              "8189     45 2013-07-26        76.06       3.804  ...     B  118221    30  2013\n",
              "\n",
              "[5 rows x 16 columns]"
            ]
          },
          "metadata": {},
          "execution_count": 27
        }
      ]
    },
    {
      "cell_type": "markdown",
      "metadata": {
        "id": "mHUXcVgI49LX"
      },
      "source": [
        "CREATING A NEW DF BY MERGING (INEER) THE train_df AND THE NEW DATAFRAME dataset_m ON Store, date AND isholiday COLUMNS AND SORTING THE VALUES BY STORE, DEPARTMENT AND DATE"
      ]
    },
    {
      "cell_type": "code",
      "metadata": {
        "id": "b_WEgUUM4wxl"
      },
      "source": [
        "train_df_1 = train_df.merge(dataset_m, how='inner', on=['Store','Date','IsHoliday']).sort_values(by=['Store','Dept','Date']).reset_index(drop=True)"
      ],
      "execution_count": null,
      "outputs": []
    },
    {
      "cell_type": "code",
      "metadata": {
        "colab": {
          "base_uri": "https://localhost:8080/",
          "height": 547
        },
        "id": "8LA1YvYZ8z4M",
        "outputId": "aa28bde0-9ac8-453b-d79b-6c79bb9e369a"
      },
      "source": [
        "train_df_1.head(10)"
      ],
      "execution_count": null,
      "outputs": [
        {
          "output_type": "execute_result",
          "data": {
            "text/html": [
              "<div>\n",
              "<style scoped>\n",
              "    .dataframe tbody tr th:only-of-type {\n",
              "        vertical-align: middle;\n",
              "    }\n",
              "\n",
              "    .dataframe tbody tr th {\n",
              "        vertical-align: top;\n",
              "    }\n",
              "\n",
              "    .dataframe thead th {\n",
              "        text-align: right;\n",
              "    }\n",
              "</style>\n",
              "<table border=\"1\" class=\"dataframe\">\n",
              "  <thead>\n",
              "    <tr style=\"text-align: right;\">\n",
              "      <th></th>\n",
              "      <th>Store</th>\n",
              "      <th>Dept</th>\n",
              "      <th>Date</th>\n",
              "      <th>Weekly_Sales</th>\n",
              "      <th>IsHoliday</th>\n",
              "      <th>Temperature</th>\n",
              "      <th>Fuel_Price</th>\n",
              "      <th>MarkDown1</th>\n",
              "      <th>MarkDown2</th>\n",
              "      <th>MarkDown3</th>\n",
              "      <th>MarkDown4</th>\n",
              "      <th>MarkDown5</th>\n",
              "      <th>CPI</th>\n",
              "      <th>Unemployment</th>\n",
              "      <th>Type</th>\n",
              "      <th>Size</th>\n",
              "      <th>week</th>\n",
              "      <th>year</th>\n",
              "    </tr>\n",
              "  </thead>\n",
              "  <tbody>\n",
              "    <tr>\n",
              "      <th>0</th>\n",
              "      <td>1</td>\n",
              "      <td>1</td>\n",
              "      <td>2010-02-05</td>\n",
              "      <td>24924.50</td>\n",
              "      <td>False</td>\n",
              "      <td>42.31</td>\n",
              "      <td>2.572</td>\n",
              "      <td>NaN</td>\n",
              "      <td>NaN</td>\n",
              "      <td>NaN</td>\n",
              "      <td>NaN</td>\n",
              "      <td>NaN</td>\n",
              "      <td>211.096358</td>\n",
              "      <td>8.106</td>\n",
              "      <td>A</td>\n",
              "      <td>151315</td>\n",
              "      <td>5</td>\n",
              "      <td>2010</td>\n",
              "    </tr>\n",
              "    <tr>\n",
              "      <th>1</th>\n",
              "      <td>1</td>\n",
              "      <td>1</td>\n",
              "      <td>2010-02-12</td>\n",
              "      <td>46039.49</td>\n",
              "      <td>True</td>\n",
              "      <td>38.51</td>\n",
              "      <td>2.548</td>\n",
              "      <td>NaN</td>\n",
              "      <td>NaN</td>\n",
              "      <td>NaN</td>\n",
              "      <td>NaN</td>\n",
              "      <td>NaN</td>\n",
              "      <td>211.242170</td>\n",
              "      <td>8.106</td>\n",
              "      <td>A</td>\n",
              "      <td>151315</td>\n",
              "      <td>6</td>\n",
              "      <td>2010</td>\n",
              "    </tr>\n",
              "    <tr>\n",
              "      <th>2</th>\n",
              "      <td>1</td>\n",
              "      <td>1</td>\n",
              "      <td>2010-02-19</td>\n",
              "      <td>41595.55</td>\n",
              "      <td>False</td>\n",
              "      <td>39.93</td>\n",
              "      <td>2.514</td>\n",
              "      <td>NaN</td>\n",
              "      <td>NaN</td>\n",
              "      <td>NaN</td>\n",
              "      <td>NaN</td>\n",
              "      <td>NaN</td>\n",
              "      <td>211.289143</td>\n",
              "      <td>8.106</td>\n",
              "      <td>A</td>\n",
              "      <td>151315</td>\n",
              "      <td>7</td>\n",
              "      <td>2010</td>\n",
              "    </tr>\n",
              "    <tr>\n",
              "      <th>3</th>\n",
              "      <td>1</td>\n",
              "      <td>1</td>\n",
              "      <td>2010-02-26</td>\n",
              "      <td>19403.54</td>\n",
              "      <td>False</td>\n",
              "      <td>46.63</td>\n",
              "      <td>2.561</td>\n",
              "      <td>NaN</td>\n",
              "      <td>NaN</td>\n",
              "      <td>NaN</td>\n",
              "      <td>NaN</td>\n",
              "      <td>NaN</td>\n",
              "      <td>211.319643</td>\n",
              "      <td>8.106</td>\n",
              "      <td>A</td>\n",
              "      <td>151315</td>\n",
              "      <td>8</td>\n",
              "      <td>2010</td>\n",
              "    </tr>\n",
              "    <tr>\n",
              "      <th>4</th>\n",
              "      <td>1</td>\n",
              "      <td>1</td>\n",
              "      <td>2010-03-05</td>\n",
              "      <td>21827.90</td>\n",
              "      <td>False</td>\n",
              "      <td>46.50</td>\n",
              "      <td>2.625</td>\n",
              "      <td>NaN</td>\n",
              "      <td>NaN</td>\n",
              "      <td>NaN</td>\n",
              "      <td>NaN</td>\n",
              "      <td>NaN</td>\n",
              "      <td>211.350143</td>\n",
              "      <td>8.106</td>\n",
              "      <td>A</td>\n",
              "      <td>151315</td>\n",
              "      <td>9</td>\n",
              "      <td>2010</td>\n",
              "    </tr>\n",
              "    <tr>\n",
              "      <th>5</th>\n",
              "      <td>1</td>\n",
              "      <td>1</td>\n",
              "      <td>2010-03-12</td>\n",
              "      <td>21043.39</td>\n",
              "      <td>False</td>\n",
              "      <td>57.79</td>\n",
              "      <td>2.667</td>\n",
              "      <td>NaN</td>\n",
              "      <td>NaN</td>\n",
              "      <td>NaN</td>\n",
              "      <td>NaN</td>\n",
              "      <td>NaN</td>\n",
              "      <td>211.380643</td>\n",
              "      <td>8.106</td>\n",
              "      <td>A</td>\n",
              "      <td>151315</td>\n",
              "      <td>10</td>\n",
              "      <td>2010</td>\n",
              "    </tr>\n",
              "    <tr>\n",
              "      <th>6</th>\n",
              "      <td>1</td>\n",
              "      <td>1</td>\n",
              "      <td>2010-03-19</td>\n",
              "      <td>22136.64</td>\n",
              "      <td>False</td>\n",
              "      <td>54.58</td>\n",
              "      <td>2.720</td>\n",
              "      <td>NaN</td>\n",
              "      <td>NaN</td>\n",
              "      <td>NaN</td>\n",
              "      <td>NaN</td>\n",
              "      <td>NaN</td>\n",
              "      <td>211.215635</td>\n",
              "      <td>8.106</td>\n",
              "      <td>A</td>\n",
              "      <td>151315</td>\n",
              "      <td>11</td>\n",
              "      <td>2010</td>\n",
              "    </tr>\n",
              "    <tr>\n",
              "      <th>7</th>\n",
              "      <td>1</td>\n",
              "      <td>1</td>\n",
              "      <td>2010-03-26</td>\n",
              "      <td>26229.21</td>\n",
              "      <td>False</td>\n",
              "      <td>51.45</td>\n",
              "      <td>2.732</td>\n",
              "      <td>NaN</td>\n",
              "      <td>NaN</td>\n",
              "      <td>NaN</td>\n",
              "      <td>NaN</td>\n",
              "      <td>NaN</td>\n",
              "      <td>211.018042</td>\n",
              "      <td>8.106</td>\n",
              "      <td>A</td>\n",
              "      <td>151315</td>\n",
              "      <td>12</td>\n",
              "      <td>2010</td>\n",
              "    </tr>\n",
              "    <tr>\n",
              "      <th>8</th>\n",
              "      <td>1</td>\n",
              "      <td>1</td>\n",
              "      <td>2010-04-02</td>\n",
              "      <td>57258.43</td>\n",
              "      <td>False</td>\n",
              "      <td>62.27</td>\n",
              "      <td>2.719</td>\n",
              "      <td>NaN</td>\n",
              "      <td>NaN</td>\n",
              "      <td>NaN</td>\n",
              "      <td>NaN</td>\n",
              "      <td>NaN</td>\n",
              "      <td>210.820450</td>\n",
              "      <td>7.808</td>\n",
              "      <td>A</td>\n",
              "      <td>151315</td>\n",
              "      <td>13</td>\n",
              "      <td>2010</td>\n",
              "    </tr>\n",
              "    <tr>\n",
              "      <th>9</th>\n",
              "      <td>1</td>\n",
              "      <td>1</td>\n",
              "      <td>2010-04-09</td>\n",
              "      <td>42960.91</td>\n",
              "      <td>False</td>\n",
              "      <td>65.86</td>\n",
              "      <td>2.770</td>\n",
              "      <td>NaN</td>\n",
              "      <td>NaN</td>\n",
              "      <td>NaN</td>\n",
              "      <td>NaN</td>\n",
              "      <td>NaN</td>\n",
              "      <td>210.622857</td>\n",
              "      <td>7.808</td>\n",
              "      <td>A</td>\n",
              "      <td>151315</td>\n",
              "      <td>14</td>\n",
              "      <td>2010</td>\n",
              "    </tr>\n",
              "  </tbody>\n",
              "</table>\n",
              "</div>"
            ],
            "text/plain": [
              "   Store  Dept       Date  Weekly_Sales  ...  Type    Size  week  year\n",
              "0      1     1 2010-02-05      24924.50  ...     A  151315     5  2010\n",
              "1      1     1 2010-02-12      46039.49  ...     A  151315     6  2010\n",
              "2      1     1 2010-02-19      41595.55  ...     A  151315     7  2010\n",
              "3      1     1 2010-02-26      19403.54  ...     A  151315     8  2010\n",
              "4      1     1 2010-03-05      21827.90  ...     A  151315     9  2010\n",
              "5      1     1 2010-03-12      21043.39  ...     A  151315    10  2010\n",
              "6      1     1 2010-03-19      22136.64  ...     A  151315    11  2010\n",
              "7      1     1 2010-03-26      26229.21  ...     A  151315    12  2010\n",
              "8      1     1 2010-04-02      57258.43  ...     A  151315    13  2010\n",
              "9      1     1 2010-04-09      42960.91  ...     A  151315    14  2010\n",
              "\n",
              "[10 rows x 18 columns]"
            ]
          },
          "metadata": {},
          "execution_count": 29
        }
      ]
    },
    {
      "cell_type": "markdown",
      "metadata": {
        "id": "4i3OZB039-ve"
      },
      "source": [
        "VISUALIZATION"
      ]
    },
    {
      "cell_type": "markdown",
      "metadata": {
        "id": "tvP2jgxw-BK0"
      },
      "source": [
        "1) SCATTER PLOT"
      ]
    },
    {
      "cell_type": "code",
      "metadata": {
        "id": "xDVk_jIQ995q"
      },
      "source": [
        "def scatter(train_df_1, column):\n",
        "  #plot the figure\n",
        "  plt.figure()\n",
        "  #plot the scatter plot with data from the specified column in x axis and weekly sales in y axis\n",
        "  plt.scatter(train_df_1[column], train_df_1['Weekly_Sales'])\n",
        "  #give y label as Weekly size\n",
        "  plt.ylabel('Weekly_Sales')\n",
        "  #give the x label as the column specified as parameter in the function\n",
        "  plt.xlabel(column)"
      ],
      "execution_count": null,
      "outputs": []
    },
    {
      "cell_type": "code",
      "metadata": {
        "colab": {
          "base_uri": "https://localhost:8080/",
          "height": 279
        },
        "id": "p0XeD9OC87AB",
        "outputId": "c5890459-ae75-4f4b-f2c0-26173c987891"
      },
      "source": [
        "#plot a scatter plot using the scatter plot function a scatter plot of weekly sales with respect to store\n",
        "scatter(train_df_1, 'Store')"
      ],
      "execution_count": null,
      "outputs": [
        {
          "output_type": "display_data",
          "data": {
            "image/png": "[encoded data removed]",
            "text/plain": [
              "<Figure size 432x288 with 1 Axes>"
            ]
          },
          "metadata": {
            "needs_background": "light"
          }
        }
      ]
    },
    {
      "cell_type": "code",
      "metadata": {
        "colab": {
          "base_uri": "https://localhost:8080/",
          "height": 279
        },
        "id": "XLxNf7YX_QFj",
        "outputId": "5bbfde83-190b-44bb-fd12-cf8a7b235af2"
      },
      "source": [
        "#plot a scatter plot using the scatter plot function a scatter plot of weekly sales with respect to Department\n",
        "scatter(train_df_1, 'Dept')"
      ],
      "execution_count": null,
      "outputs": [
        {
          "output_type": "display_data",
          "data": {
            "image/png": "[encoded data removed]",
            "text/plain": [
              "<Figure size 432x288 with 1 Axes>"
            ]
          },
          "metadata": {
            "needs_background": "light"
          }
        }
      ]
    },
    {
      "cell_type": "markdown",
      "metadata": {
        "id": "U4R8vtu__pYo"
      },
      "source": [
        "2) LINE PLOTS WOR WEEKLY SALES FOR EACH YEAR"
      ]
    },
    {
      "cell_type": "code",
      "metadata": {
        "colab": {
          "base_uri": "https://localhost:8080/",
          "height": 300
        },
        "id": "x56-wTS2_ZN2",
        "outputId": "f0eca3da-15e3-4a66-8be3-61de45c21710"
      },
      "source": [
        "# filtering out mean weekly sales for the year 2011\n",
        "weekly_sales_2011 = train_df_1[train_df_1['year']==2011]['Weekly_Sales'].groupby(train_df_1['week']).mean()\n",
        "# plot a line plot with week on x axid and sales for that particular week off the filtered year in y axis\n",
        "sns.lineplot(weekly_sales_2011.index, weekly_sales_2011.values, color='red')"
      ],
      "execution_count": null,
      "outputs": [
        {
          "output_type": "execute_result",
          "data": {
            "text/plain": [
              "<matplotlib.axes._subplots.AxesSubplot at 0x7f187fc97ad0>"
            ]
          },
          "metadata": {},
          "execution_count": 33
        },
        {
          "output_type": "display_data",
          "data": {
            "image/png": "[encoded data removed]",
            "text/plain": [
              "<Figure size 432x288 with 1 Axes>"
            ]
          },
          "metadata": {
            "needs_background": "light"
          }
        }
      ]
    },
    {
      "cell_type": "code",
      "metadata": {
        "colab": {
          "base_uri": "https://localhost:8080/"
        },
        "id": "kX-N23SsAeEa",
        "outputId": "597da09c-e2cd-4034-9b2e-c311c97671c6"
      },
      "source": [
        "weekly_sales_2011"
      ],
      "execution_count": null,
      "outputs": [
        {
          "output_type": "execute_result",
          "data": {
            "text/plain": [
              "week\n",
              "1     14599.244973\n",
              "2     13891.283484\n",
              "3     13932.367385\n",
              "4     13566.239462\n",
              "5     15773.448776\n",
              "6     16111.706191\n",
              "7     16541.991212\n",
              "8     15049.747558\n",
              "9     15882.557045\n",
              "10    15056.450540\n",
              "11    15216.115961\n",
              "12    14573.827050\n",
              "13    14726.869261\n",
              "14    15634.571312\n",
              "15    15229.708141\n",
              "16    16472.653827\n",
              "17    14745.946064\n",
              "18    15757.215296\n",
              "19    15317.204186\n",
              "20    15002.247279\n",
              "21    15390.233449\n",
              "22    16691.305332\n",
              "23    16302.918830\n",
              "24    16111.226407\n",
              "25    15649.418342\n",
              "26    16232.862334\n",
              "27    16328.646803\n",
              "28    15566.323502\n",
              "29    15526.204180\n",
              "30    14965.150490\n",
              "31    16393.126313\n",
              "32    15774.068626\n",
              "33    15888.028317\n",
              "34    16068.095036\n",
              "35    15387.122167\n",
              "36    15809.069483\n",
              "37    14865.566897\n",
              "38    14446.431089\n",
              "39    14298.824402\n",
              "40    15960.678959\n",
              "41    15062.736015\n",
              "42    15521.325691\n",
              "43    15470.924781\n",
              "44    16471.071192\n",
              "45    16348.811046\n",
              "46    15683.546288\n",
              "47    22043.563476\n",
              "48    16496.511854\n",
              "49    18458.853056\n",
              "50    19942.149333\n",
              "51    25437.146122\n",
              "52    15332.154858\n",
              "Name: Weekly_Sales, dtype: float64"
            ]
          },
          "metadata": {},
          "execution_count": 34
        }
      ]
    },
    {
      "cell_type": "code",
      "metadata": {
        "colab": {
          "base_uri": "https://localhost:8080/",
          "height": 300
        },
        "id": "bQZkYN9DCnTv",
        "outputId": "ac502da6-530b-43bb-d1ac-573dfcea2498"
      },
      "source": [
        "# filtering out mean weekly sales for the year 2010\n",
        "weekly_sales_2010 = train_df_1[train_df_1['year']==2010]['Weekly_Sales'].groupby(train_df_1['week']).mean()\n",
        "# plot a line plot with week on x axid and sales for that particular week off the filtered year in y axis\n",
        "sns.lineplot(weekly_sales_2010.index, weekly_sales_2010.values, color='blue')"
      ],
      "execution_count": null,
      "outputs": [
        {
          "output_type": "execute_result",
          "data": {
            "text/plain": [
              "<matplotlib.axes._subplots.AxesSubplot at 0x7f187f13a910>"
            ]
          },
          "metadata": {},
          "execution_count": 35
        },
        {
          "output_type": "display_data",
          "data": {
            "image/png": "[encoded data removed]",
            "text/plain": [
              "<Figure size 432x288 with 1 Axes>"
            ]
          },
          "metadata": {
            "needs_background": "light"
          }
        }
      ]
    },
    {
      "cell_type": "code",
      "metadata": {
        "colab": {
          "base_uri": "https://localhost:8080/",
          "height": 297
        },
        "id": "Hjw7Mi1BDfH-",
        "outputId": "08e23438-c459-4a16-a266-fe2f630cf685"
      },
      "source": [
        "# filtering out mean weekly sales for the year 2012\n",
        "weekly_sales_2012 = train_df_1[train_df_1['year']==2012]['Weekly_Sales'].groupby(train_df_1['week']).mean()\n",
        "# plot a line plot with week on x axid and sales for that particular week off the filtered year in y axis\n",
        "sns.lineplot(weekly_sales_2012.index, weekly_sales_2012.values, color='g')"
      ],
      "execution_count": null,
      "outputs": [
        {
          "output_type": "execute_result",
          "data": {
            "text/plain": [
              "<matplotlib.axes._subplots.AxesSubplot at 0x7f187f132fd0>"
            ]
          },
          "metadata": {},
          "execution_count": 36
        },
        {
          "output_type": "display_data",
          "data": {
            "image/png": "[encoded data removed]",
            "text/plain": [
              "<Figure size 432x288 with 1 Axes>"
            ]
          },
          "metadata": {
            "needs_background": "light"
          }
        }
      ]
    },
    {
      "cell_type": "markdown",
      "metadata": {
        "id": "GxnkPWUpD0mh"
      },
      "source": [
        "3) COMBINE PLOTS FOR EACH YEAR (2010,2011,2012)<br>\n",
        "PLOTTING THE WEEKLY SALES FOR YEARS 2010, 2011, 2012 ON A SINGLE PLOT TO COMPARE THE SALES VALUES WITH RESPECT TO WEEK ON EACH OF THESE SPECIFIED YEAR FOR COMPARING THE WEEKLY SALES IN EACH YEAR"
      ]
    },
    {
      "cell_type": "code",
      "metadata": {
        "colab": {
          "base_uri": "https://localhost:8080/",
          "height": 632
        },
        "id": "_g13htYLDk1D",
        "outputId": "80a21d78-627c-404a-e27f-91fe96b25627"
      },
      "source": [
        "#plotting a figure\n",
        "plt.figure(figsize=(20,10))\n",
        "#plotting three line plots for weekly sales of each year\n",
        "sns.lineplot(weekly_sales_2010.index, weekly_sales_2010.values, color='blue')\n",
        "sns.lineplot(weekly_sales_2011.index, weekly_sales_2011.values, color='red')\n",
        "sns.lineplot(weekly_sales_2012.index, weekly_sales_2012.values, color='g')\n",
        "plt.grid()\n",
        "\n",
        "#plot labels and legends\n",
        "plt.xticks(np.arange(1,60,step=1))\n",
        "plt.title('Average weekly sales per year', fontsize=20)\n",
        "plt.xlabel('week',fontsize=16)\n",
        "plt.ylabel('sales',fontsize=16)\n",
        "plt.legend(['2010','2011','2012'], fontsize=16)\n",
        "plt.show()"
      ],
      "execution_count": null,
      "outputs": [
        {
          "output_type": "display_data",
          "data": {
            "image/png": "[encoded data removed]",
            "text/plain": [
              "<Figure size 1440x720 with 1 Axes>"
            ]
          },
          "metadata": {
            "needs_background": "light"
          }
        }
      ]
    },
    {
      "cell_type": "markdown",
      "metadata": {
        "id": "4wNoIrrxGDZ6"
      },
      "source": [
        "4) HISTOGRAM"
      ]
    },
    {
      "cell_type": "code",
      "metadata": {
        "colab": {
          "base_uri": "https://localhost:8080/",
          "height": 308
        },
        "id": "pq79mJDNE4vK",
        "outputId": "68cd57a4-5007-4482-e00b-01f686e28d12"
      },
      "source": [
        "sns.distplot(train_df_1['Weekly_Sales'], color='g')"
      ],
      "execution_count": null,
      "outputs": [
        {
          "output_type": "execute_result",
          "data": {
            "text/plain": [
              "<matplotlib.axes._subplots.AxesSubplot at 0x7f187f040850>"
            ]
          },
          "metadata": {},
          "execution_count": 38
        },
        {
          "output_type": "display_data",
          "data": {
            "image/png": "[encoded data removed]",
            "text/plain": [
              "<Figure size 432x288 with 1 Axes>"
            ]
          },
          "metadata": {
            "needs_background": "light"
          }
        }
      ]
    },
    {
      "cell_type": "markdown",
      "metadata": {
        "id": "15ss1JwGHDVD"
      },
      "source": [
        "Kurtosis- measure of whether data is heavy-tailed or light-tailed relative to normal distribution"
      ]
    },
    {
      "cell_type": "code",
      "metadata": {
        "colab": {
          "base_uri": "https://localhost:8080/"
        },
        "id": "Q9zU1PgVGfXI",
        "outputId": "4f9f32a5-5df6-44ed-cc78-2de2d78cd897"
      },
      "source": [
        "train_df_1['Weekly_Sales'].kurt()"
      ],
      "execution_count": null,
      "outputs": [
        {
          "output_type": "execute_result",
          "data": {
            "text/plain": [
              "21.49128990832619"
            ]
          },
          "metadata": {},
          "execution_count": 39
        }
      ]
    },
    {
      "cell_type": "markdown",
      "metadata": {
        "id": "cJOcX0Vp8W2I"
      },
      "source": [
        "6) BAR CHART ON DATA FRAME"
      ]
    },
    {
      "cell_type": "code",
      "metadata": {
        "id": "kLENUJ6hHms2"
      },
      "source": [
        "weekly_sales_stores = train_df_1['Weekly_Sales'].groupby(train_df_1['Store']).mean()"
      ],
      "execution_count": null,
      "outputs": []
    },
    {
      "cell_type": "code",
      "metadata": {
        "colab": {
          "base_uri": "https://localhost:8080/"
        },
        "id": "_LKCxURd8yq3",
        "outputId": "a849e03c-f16a-4895-e3f2-0ccf8ee4260c"
      },
      "source": [
        "weekly_sales_stores.head()"
      ],
      "execution_count": null,
      "outputs": [
        {
          "output_type": "execute_result",
          "data": {
            "text/plain": [
              "Store\n",
              "1    21710.543621\n",
              "2    26898.070031\n",
              "3     6373.033983\n",
              "4    29161.210415\n",
              "5     5053.415813\n",
              "Name: Weekly_Sales, dtype: float64"
            ]
          },
          "metadata": {},
          "execution_count": 43
        }
      ]
    },
    {
      "cell_type": "code",
      "metadata": {
        "id": "bew6_X0K86nM"
      },
      "source": [
        "weekly_sales_stores_df = pd.DataFrame(weekly_sales_stores)"
      ],
      "execution_count": null,
      "outputs": []
    },
    {
      "cell_type": "code",
      "metadata": {
        "colab": {
          "base_uri": "https://localhost:8080/",
          "height": 990
        },
        "id": "MrtH_UM69Dbq",
        "outputId": "fcb2bb12-8e53-4261-8bcf-ea6988e87bdd"
      },
      "source": [
        "weekly_sales_stores_df.sort_values('Weekly_Sales',ascending=False).style.bar(align='left',width=98,color='green')"
      ],
      "execution_count": null,
      "outputs": [
        {
          "output_type": "execute_result",
          "data": {
            "text/html": [
              "<style  type=\"text/css\" >\n",
              "#T_d6edb748_176d_11ec_84e3_0242ac1c0002row0_col0{\n",
              "            width:  10em;\n",
              "             height:  80%;\n",
              "            background:  linear-gradient(90deg,green 98.0%, transparent 98.0%);\n",
              "        }#T_d6edb748_176d_11ec_84e3_0242ac1c0002row1_col0{\n",
              "            width:  10em;\n",
              "             height:  80%;\n",
              "            background:  linear-gradient(90deg,green 96.6%, transparent 96.6%);\n",
              "        }#T_d6edb748_176d_11ec_84e3_0242ac1c0002row2_col0{\n",
              "            width:  10em;\n",
              "             height:  80%;\n",
              "            background:  linear-gradient(90deg,green 95.1%, transparent 95.1%);\n",
              "        }#T_d6edb748_176d_11ec_84e3_0242ac1c0002row3_col0{\n",
              "            width:  10em;\n",
              "             height:  80%;\n",
              "            background:  linear-gradient(90deg,green 89.4%, transparent 89.4%);\n",
              "        }#T_d6edb748_176d_11ec_84e3_0242ac1c0002row4_col0{\n",
              "            width:  10em;\n",
              "             height:  80%;\n",
              "            background:  linear-gradient(90deg,green 87.5%, transparent 87.5%);\n",
              "        }#T_d6edb748_176d_11ec_84e3_0242ac1c0002row5_col0{\n",
              "            width:  10em;\n",
              "             height:  80%;\n",
              "            background:  linear-gradient(90deg,green 85.3%, transparent 85.3%);\n",
              "        }#T_d6edb748_176d_11ec_84e3_0242ac1c0002row6_col0{\n",
              "            width:  10em;\n",
              "             height:  80%;\n",
              "            background:  linear-gradient(90deg,green 79.2%, transparent 79.2%);\n",
              "        }#T_d6edb748_176d_11ec_84e3_0242ac1c0002row7_col0{\n",
              "            width:  10em;\n",
              "             height:  80%;\n",
              "            background:  linear-gradient(90deg,green 67.6%, transparent 67.6%);\n",
              "        }#T_d6edb748_176d_11ec_84e3_0242ac1c0002row8_col0{\n",
              "            width:  10em;\n",
              "             height:  80%;\n",
              "            background:  linear-gradient(90deg,green 66.8%, transparent 66.8%);\n",
              "        }#T_d6edb748_176d_11ec_84e3_0242ac1c0002row9_col0{\n",
              "            width:  10em;\n",
              "             height:  80%;\n",
              "            background:  linear-gradient(90deg,green 63.9%, transparent 63.9%);\n",
              "        }#T_d6edb748_176d_11ec_84e3_0242ac1c0002row10_col0{\n",
              "            width:  10em;\n",
              "             height:  80%;\n",
              "            background:  linear-gradient(90deg,green 61.3%, transparent 61.3%);\n",
              "        }#T_d6edb748_176d_11ec_84e3_0242ac1c0002row11_col0{\n",
              "            width:  10em;\n",
              "             height:  80%;\n",
              "            background:  linear-gradient(90deg,green 59.0%, transparent 59.0%);\n",
              "        }#T_d6edb748_176d_11ec_84e3_0242ac1c0002row12_col0{\n",
              "            width:  10em;\n",
              "             height:  80%;\n",
              "            background:  linear-gradient(90deg,green 58.6%, transparent 58.6%);\n",
              "        }#T_d6edb748_176d_11ec_84e3_0242ac1c0002row13_col0{\n",
              "            width:  10em;\n",
              "             height:  80%;\n",
              "            background:  linear-gradient(90deg,green 57.0%, transparent 57.0%);\n",
              "        }#T_d6edb748_176d_11ec_84e3_0242ac1c0002row14_col0{\n",
              "            width:  10em;\n",
              "             height:  80%;\n",
              "            background:  linear-gradient(90deg,green 55.8%, transparent 55.8%);\n",
              "        }#T_d6edb748_176d_11ec_84e3_0242ac1c0002row15_col0{\n",
              "            width:  10em;\n",
              "             height:  80%;\n",
              "            background:  linear-gradient(90deg,green 54.7%, transparent 54.7%);\n",
              "        }#T_d6edb748_176d_11ec_84e3_0242ac1c0002row16_col0{\n",
              "            width:  10em;\n",
              "             height:  80%;\n",
              "            background:  linear-gradient(90deg,green 51.8%, transparent 51.8%);\n",
              "        }#T_d6edb748_176d_11ec_84e3_0242ac1c0002row17_col0{\n",
              "            width:  10em;\n",
              "             height:  80%;\n",
              "            background:  linear-gradient(90deg,green 45.3%, transparent 45.3%);\n",
              "        }#T_d6edb748_176d_11ec_84e3_0242ac1c0002row18_col0{\n",
              "            width:  10em;\n",
              "             height:  80%;\n",
              "            background:  linear-gradient(90deg,green 42.8%, transparent 42.8%);\n",
              "        }#T_d6edb748_176d_11ec_84e3_0242ac1c0002row19_col0{\n",
              "            width:  10em;\n",
              "             height:  80%;\n",
              "            background:  linear-gradient(90deg,green 40.6%, transparent 40.6%);\n",
              "        }#T_d6edb748_176d_11ec_84e3_0242ac1c0002row20_col0{\n",
              "            width:  10em;\n",
              "             height:  80%;\n",
              "            background:  linear-gradient(90deg,green 39.3%, transparent 39.3%);\n",
              "        }#T_d6edb748_176d_11ec_84e3_0242ac1c0002row21_col0{\n",
              "            width:  10em;\n",
              "             height:  80%;\n",
              "            background:  linear-gradient(90deg,green 38.1%, transparent 38.1%);\n",
              "        }#T_d6edb748_176d_11ec_84e3_0242ac1c0002row22_col0{\n",
              "            width:  10em;\n",
              "             height:  80%;\n",
              "            background:  linear-gradient(90deg,green 35.1%, transparent 35.1%);\n",
              "        }#T_d6edb748_176d_11ec_84e3_0242ac1c0002row23_col0{\n",
              "            width:  10em;\n",
              "             height:  80%;\n",
              "            background:  linear-gradient(90deg,green 34.9%, transparent 34.9%);\n",
              "        }#T_d6edb748_176d_11ec_84e3_0242ac1c0002row24_col0{\n",
              "            width:  10em;\n",
              "             height:  80%;\n",
              "            background:  linear-gradient(90deg,green 33.9%, transparent 33.9%);\n",
              "        }#T_d6edb748_176d_11ec_84e3_0242ac1c0002row25_col0{\n",
              "            width:  10em;\n",
              "             height:  80%;\n",
              "            background:  linear-gradient(90deg,green 33.5%, transparent 33.5%);\n",
              "        }#T_d6edb748_176d_11ec_84e3_0242ac1c0002row26_col0{\n",
              "            width:  10em;\n",
              "             height:  80%;\n",
              "            background:  linear-gradient(90deg,green 32.4%, transparent 32.4%);\n",
              "        }#T_d6edb748_176d_11ec_84e3_0242ac1c0002row27_col0{\n",
              "            width:  10em;\n",
              "             height:  80%;\n",
              "            background:  linear-gradient(90deg,green 31.7%, transparent 31.7%);\n",
              "        }#T_d6edb748_176d_11ec_84e3_0242ac1c0002row28_col0{\n",
              "            width:  10em;\n",
              "             height:  80%;\n",
              "            background:  linear-gradient(90deg,green 26.5%, transparent 26.5%);\n",
              "        }#T_d6edb748_176d_11ec_84e3_0242ac1c0002row29_col0{\n",
              "            width:  10em;\n",
              "             height:  80%;\n",
              "            background:  linear-gradient(90deg,green 25.6%, transparent 25.6%);\n",
              "        }#T_d6edb748_176d_11ec_84e3_0242ac1c0002row30_col0{\n",
              "            width:  10em;\n",
              "             height:  80%;\n",
              "            background:  linear-gradient(90deg,green 25.0%, transparent 25.0%);\n",
              "        }#T_d6edb748_176d_11ec_84e3_0242ac1c0002row31_col0{\n",
              "            width:  10em;\n",
              "             height:  80%;\n",
              "            background:  linear-gradient(90deg,green 21.1%, transparent 21.1%);\n",
              "        }#T_d6edb748_176d_11ec_84e3_0242ac1c0002row32_col0{\n",
              "            width:  10em;\n",
              "             height:  80%;\n",
              "            background:  linear-gradient(90deg,green 21.0%, transparent 21.0%);\n",
              "        }#T_d6edb748_176d_11ec_84e3_0242ac1c0002row33_col0{\n",
              "            width:  10em;\n",
              "             height:  80%;\n",
              "            background:  linear-gradient(90deg,green 15.8%, transparent 15.8%);\n",
              "        }#T_d6edb748_176d_11ec_84e3_0242ac1c0002row34_col0,#T_d6edb748_176d_11ec_84e3_0242ac1c0002row35_col0{\n",
              "            width:  10em;\n",
              "             height:  80%;\n",
              "            background:  linear-gradient(90deg,green 14.9%, transparent 14.9%);\n",
              "        }#T_d6edb748_176d_11ec_84e3_0242ac1c0002row36_col0{\n",
              "            width:  10em;\n",
              "             height:  80%;\n",
              "            background:  linear-gradient(90deg,green 14.2%, transparent 14.2%);\n",
              "        }#T_d6edb748_176d_11ec_84e3_0242ac1c0002row37_col0{\n",
              "            width:  10em;\n",
              "             height:  80%;\n",
              "            background:  linear-gradient(90deg,green 13.2%, transparent 13.2%);\n",
              "        }#T_d6edb748_176d_11ec_84e3_0242ac1c0002row38_col0{\n",
              "            width:  10em;\n",
              "             height:  80%;\n",
              "            background:  linear-gradient(90deg,green 12.4%, transparent 12.4%);\n",
              "        }#T_d6edb748_176d_11ec_84e3_0242ac1c0002row39_col0{\n",
              "            width:  10em;\n",
              "             height:  80%;\n",
              "            background:  linear-gradient(90deg,green 11.3%, transparent 11.3%);\n",
              "        }#T_d6edb748_176d_11ec_84e3_0242ac1c0002row40_col0{\n",
              "            width:  10em;\n",
              "             height:  80%;\n",
              "            background:  linear-gradient(90deg,green 9.8%, transparent 9.8%);\n",
              "        }#T_d6edb748_176d_11ec_84e3_0242ac1c0002row41_col0{\n",
              "            width:  10em;\n",
              "             height:  80%;\n",
              "            background:  linear-gradient(90deg,green 5.3%, transparent 5.3%);\n",
              "        }#T_d6edb748_176d_11ec_84e3_0242ac1c0002row42_col0{\n",
              "            width:  10em;\n",
              "             height:  80%;\n",
              "            background:  linear-gradient(90deg,green 3.9%, transparent 3.9%);\n",
              "        }#T_d6edb748_176d_11ec_84e3_0242ac1c0002row43_col0{\n",
              "            width:  10em;\n",
              "             height:  80%;\n",
              "            background:  linear-gradient(90deg,green 2.7%, transparent 2.7%);\n",
              "        }#T_d6edb748_176d_11ec_84e3_0242ac1c0002row44_col0{\n",
              "            width:  10em;\n",
              "             height:  80%;\n",
              "        }</style><table id=\"T_d6edb748_176d_11ec_84e3_0242ac1c0002\" ><thead>    <tr>        <th class=\"blank level0\" ></th>        <th class=\"col_heading level0 col0\" >Weekly_Sales</th>    </tr>    <tr>        <th class=\"index_name level0\" >Store</th>        <th class=\"blank\" ></th>    </tr></thead><tbody>\n",
              "                <tr>\n",
              "                        <th id=\"T_d6edb748_176d_11ec_84e3_0242ac1c0002level0_row0\" class=\"row_heading level0 row0\" >20</th>\n",
              "                        <td id=\"T_d6edb748_176d_11ec_84e3_0242ac1c0002row0_col0\" class=\"data row0 col0\" >29508.301592</td>\n",
              "            </tr>\n",
              "            <tr>\n",
              "                        <th id=\"T_d6edb748_176d_11ec_84e3_0242ac1c0002level0_row1\" class=\"row_heading level0 row1\" >4</th>\n",
              "                        <td id=\"T_d6edb748_176d_11ec_84e3_0242ac1c0002row1_col0\" class=\"data row1 col0\" >29161.210415</td>\n",
              "            </tr>\n",
              "            <tr>\n",
              "                        <th id=\"T_d6edb748_176d_11ec_84e3_0242ac1c0002level0_row2\" class=\"row_heading level0 row2\" >14</th>\n",
              "                        <td id=\"T_d6edb748_176d_11ec_84e3_0242ac1c0002row2_col0\" class=\"data row2 col0\" >28784.851727</td>\n",
              "            </tr>\n",
              "            <tr>\n",
              "                        <th id=\"T_d6edb748_176d_11ec_84e3_0242ac1c0002level0_row3\" class=\"row_heading level0 row3\" >13</th>\n",
              "                        <td id=\"T_d6edb748_176d_11ec_84e3_0242ac1c0002row3_col0\" class=\"data row3 col0\" >27355.136891</td>\n",
              "            </tr>\n",
              "            <tr>\n",
              "                        <th id=\"T_d6edb748_176d_11ec_84e3_0242ac1c0002level0_row4\" class=\"row_heading level0 row4\" >2</th>\n",
              "                        <td id=\"T_d6edb748_176d_11ec_84e3_0242ac1c0002row4_col0\" class=\"data row4 col0\" >26898.070031</td>\n",
              "            </tr>\n",
              "            <tr>\n",
              "                        <th id=\"T_d6edb748_176d_11ec_84e3_0242ac1c0002level0_row5\" class=\"row_heading level0 row5\" >10</th>\n",
              "                        <td id=\"T_d6edb748_176d_11ec_84e3_0242ac1c0002row5_col0\" class=\"data row5 col0\" >26332.303819</td>\n",
              "            </tr>\n",
              "            <tr>\n",
              "                        <th id=\"T_d6edb748_176d_11ec_84e3_0242ac1c0002level0_row6\" class=\"row_heading level0 row6\" >27</th>\n",
              "                        <td id=\"T_d6edb748_176d_11ec_84e3_0242ac1c0002row6_col0\" class=\"data row6 col0\" >24826.984536</td>\n",
              "            </tr>\n",
              "            <tr>\n",
              "                        <th id=\"T_d6edb748_176d_11ec_84e3_0242ac1c0002level0_row7\" class=\"row_heading level0 row7\" >6</th>\n",
              "                        <td id=\"T_d6edb748_176d_11ec_84e3_0242ac1c0002row7_col0\" class=\"data row7 col0\" >21913.243624</td>\n",
              "            </tr>\n",
              "            <tr>\n",
              "                        <th id=\"T_d6edb748_176d_11ec_84e3_0242ac1c0002level0_row8\" class=\"row_heading level0 row8\" >1</th>\n",
              "                        <td id=\"T_d6edb748_176d_11ec_84e3_0242ac1c0002row8_col0\" class=\"data row8 col0\" >21710.543621</td>\n",
              "            </tr>\n",
              "            <tr>\n",
              "                        <th id=\"T_d6edb748_176d_11ec_84e3_0242ac1c0002level0_row9\" class=\"row_heading level0 row9\" >39</th>\n",
              "                        <td id=\"T_d6edb748_176d_11ec_84e3_0242ac1c0002row9_col0\" class=\"data row9 col0\" >21000.763562</td>\n",
              "            </tr>\n",
              "            <tr>\n",
              "                        <th id=\"T_d6edb748_176d_11ec_84e3_0242ac1c0002level0_row10\" class=\"row_heading level0 row10\" >19</th>\n",
              "                        <td id=\"T_d6edb748_176d_11ec_84e3_0242ac1c0002row10_col0\" class=\"data row10 col0\" >20362.126734</td>\n",
              "            </tr>\n",
              "            <tr>\n",
              "                        <th id=\"T_d6edb748_176d_11ec_84e3_0242ac1c0002level0_row11\" class=\"row_heading level0 row11\" >23</th>\n",
              "                        <td id=\"T_d6edb748_176d_11ec_84e3_0242ac1c0002row11_col0\" class=\"data row11 col0\" >19776.180881</td>\n",
              "            </tr>\n",
              "            <tr>\n",
              "                        <th id=\"T_d6edb748_176d_11ec_84e3_0242ac1c0002level0_row12\" class=\"row_heading level0 row12\" >31</th>\n",
              "                        <td id=\"T_d6edb748_176d_11ec_84e3_0242ac1c0002row12_col0\" class=\"data row12 col0\" >19681.907464</td>\n",
              "            </tr>\n",
              "            <tr>\n",
              "                        <th id=\"T_d6edb748_176d_11ec_84e3_0242ac1c0002level0_row13\" class=\"row_heading level0 row13\" >11</th>\n",
              "                        <td id=\"T_d6edb748_176d_11ec_84e3_0242ac1c0002row13_col0\" class=\"data row13 col0\" >19276.762751</td>\n",
              "            </tr>\n",
              "            <tr>\n",
              "                        <th id=\"T_d6edb748_176d_11ec_84e3_0242ac1c0002level0_row14\" class=\"row_heading level0 row14\" >24</th>\n",
              "                        <td id=\"T_d6edb748_176d_11ec_84e3_0242ac1c0002row14_col0\" class=\"data row14 col0\" >18969.106500</td>\n",
              "            </tr>\n",
              "            <tr>\n",
              "                        <th id=\"T_d6edb748_176d_11ec_84e3_0242ac1c0002level0_row15\" class=\"row_heading level0 row15\" >28</th>\n",
              "                        <td id=\"T_d6edb748_176d_11ec_84e3_0242ac1c0002row15_col0\" class=\"data row15 col0\" >18714.889803</td>\n",
              "            </tr>\n",
              "            <tr>\n",
              "                        <th id=\"T_d6edb748_176d_11ec_84e3_0242ac1c0002level0_row16\" class=\"row_heading level0 row16\" >41</th>\n",
              "                        <td id=\"T_d6edb748_176d_11ec_84e3_0242ac1c0002row16_col0\" class=\"data row16 col0\" >17976.004648</td>\n",
              "            </tr>\n",
              "            <tr>\n",
              "                        <th id=\"T_d6edb748_176d_11ec_84e3_0242ac1c0002level0_row17\" class=\"row_heading level0 row17\" >32</th>\n",
              "                        <td id=\"T_d6edb748_176d_11ec_84e3_0242ac1c0002row17_col0\" class=\"data row17 col0\" >16351.621855</td>\n",
              "            </tr>\n",
              "            <tr>\n",
              "                        <th id=\"T_d6edb748_176d_11ec_84e3_0242ac1c0002level0_row18\" class=\"row_heading level0 row18\" >18</th>\n",
              "                        <td id=\"T_d6edb748_176d_11ec_84e3_0242ac1c0002row18_col0\" class=\"data row18 col0\" >15733.313136</td>\n",
              "            </tr>\n",
              "            <tr>\n",
              "                        <th id=\"T_d6edb748_176d_11ec_84e3_0242ac1c0002level0_row19\" class=\"row_heading level0 row19\" >22</th>\n",
              "                        <td id=\"T_d6edb748_176d_11ec_84e3_0242ac1c0002row19_col0\" class=\"data row19 col0\" >15181.218886</td>\n",
              "            </tr>\n",
              "            <tr>\n",
              "                        <th id=\"T_d6edb748_176d_11ec_84e3_0242ac1c0002level0_row20\" class=\"row_heading level0 row20\" >12</th>\n",
              "                        <td id=\"T_d6edb748_176d_11ec_84e3_0242ac1c0002row20_col0\" class=\"data row20 col0\" >14867.308619</td>\n",
              "            </tr>\n",
              "            <tr>\n",
              "                        <th id=\"T_d6edb748_176d_11ec_84e3_0242ac1c0002level0_row21\" class=\"row_heading level0 row21\" >26</th>\n",
              "                        <td id=\"T_d6edb748_176d_11ec_84e3_0242ac1c0002row21_col0\" class=\"data row21 col0\" >14554.129672</td>\n",
              "            </tr>\n",
              "            <tr>\n",
              "                        <th id=\"T_d6edb748_176d_11ec_84e3_0242ac1c0002level0_row22\" class=\"row_heading level0 row22\" >35</th>\n",
              "                        <td id=\"T_d6edb748_176d_11ec_84e3_0242ac1c0002row22_col0\" class=\"data row22 col0\" >13803.596986</td>\n",
              "            </tr>\n",
              "            <tr>\n",
              "                        <th id=\"T_d6edb748_176d_11ec_84e3_0242ac1c0002level0_row23\" class=\"row_heading level0 row23\" >40</th>\n",
              "                        <td id=\"T_d6edb748_176d_11ec_84e3_0242ac1c0002row23_col0\" class=\"data row23 col0\" >13763.632803</td>\n",
              "            </tr>\n",
              "            <tr>\n",
              "                        <th id=\"T_d6edb748_176d_11ec_84e3_0242ac1c0002level0_row24\" class=\"row_heading level0 row24\" >34</th>\n",
              "                        <td id=\"T_d6edb748_176d_11ec_84e3_0242ac1c0002row24_col0\" class=\"data row24 col0\" >13522.081671</td>\n",
              "            </tr>\n",
              "            <tr>\n",
              "                        <th id=\"T_d6edb748_176d_11ec_84e3_0242ac1c0002level0_row25\" class=\"row_heading level0 row25\" >43</th>\n",
              "                        <td id=\"T_d6edb748_176d_11ec_84e3_0242ac1c0002row25_col0\" class=\"data row25 col0\" >13415.114118</td>\n",
              "            </tr>\n",
              "            <tr>\n",
              "                        <th id=\"T_d6edb748_176d_11ec_84e3_0242ac1c0002level0_row26\" class=\"row_heading level0 row26\" >8</th>\n",
              "                        <td id=\"T_d6edb748_176d_11ec_84e3_0242ac1c0002row26_col0\" class=\"data row26 col0\" >13133.014768</td>\n",
              "            </tr>\n",
              "            <tr>\n",
              "                        <th id=\"T_d6edb748_176d_11ec_84e3_0242ac1c0002level0_row27\" class=\"row_heading level0 row27\" >17</th>\n",
              "                        <td id=\"T_d6edb748_176d_11ec_84e3_0242ac1c0002row27_col0\" class=\"data row27 col0\" >12954.393636</td>\n",
              "            </tr>\n",
              "            <tr>\n",
              "                        <th id=\"T_d6edb748_176d_11ec_84e3_0242ac1c0002level0_row28\" class=\"row_heading level0 row28\" >45</th>\n",
              "                        <td id=\"T_d6edb748_176d_11ec_84e3_0242ac1c0002row28_col0\" class=\"data row28 col0\" >11662.897315</td>\n",
              "            </tr>\n",
              "            <tr>\n",
              "                        <th id=\"T_d6edb748_176d_11ec_84e3_0242ac1c0002level0_row29\" class=\"row_heading level0 row29\" >42</th>\n",
              "                        <td id=\"T_d6edb748_176d_11ec_84e3_0242ac1c0002row29_col0\" class=\"data row29 col0\" >11443.370118</td>\n",
              "            </tr>\n",
              "            <tr>\n",
              "                        <th id=\"T_d6edb748_176d_11ec_84e3_0242ac1c0002level0_row30\" class=\"row_heading level0 row30\" >21</th>\n",
              "                        <td id=\"T_d6edb748_176d_11ec_84e3_0242ac1c0002row30_col0\" class=\"data row30 col0\" >11283.435496</td>\n",
              "            </tr>\n",
              "            <tr>\n",
              "                        <th id=\"T_d6edb748_176d_11ec_84e3_0242ac1c0002level0_row31\" class=\"row_heading level0 row31\" >25</th>\n",
              "                        <td id=\"T_d6edb748_176d_11ec_84e3_0242ac1c0002row31_col0\" class=\"data row31 col0\" >10308.157810</td>\n",
              "            </tr>\n",
              "            <tr>\n",
              "                        <th id=\"T_d6edb748_176d_11ec_84e3_0242ac1c0002level0_row32\" class=\"row_heading level0 row32\" >37</th>\n",
              "                        <td id=\"T_d6edb748_176d_11ec_84e3_0242ac1c0002row32_col0\" class=\"data row32 col0\" >10297.355026</td>\n",
              "            </tr>\n",
              "            <tr>\n",
              "                        <th id=\"T_d6edb748_176d_11ec_84e3_0242ac1c0002level0_row33\" class=\"row_heading level0 row33\" >15</th>\n",
              "                        <td id=\"T_d6edb748_176d_11ec_84e3_0242ac1c0002row33_col0\" class=\"data row33 col0\" >9002.493073</td>\n",
              "            </tr>\n",
              "            <tr>\n",
              "                        <th id=\"T_d6edb748_176d_11ec_84e3_0242ac1c0002level0_row34\" class=\"row_heading level0 row34\" >9</th>\n",
              "                        <td id=\"T_d6edb748_176d_11ec_84e3_0242ac1c0002row34_col0\" class=\"data row34 col0\" >8772.890379</td>\n",
              "            </tr>\n",
              "            <tr>\n",
              "                        <th id=\"T_d6edb748_176d_11ec_84e3_0242ac1c0002level0_row35\" class=\"row_heading level0 row35\" >30</th>\n",
              "                        <td id=\"T_d6edb748_176d_11ec_84e3_0242ac1c0002row35_col0\" class=\"data row35 col0\" >8764.237719</td>\n",
              "            </tr>\n",
              "            <tr>\n",
              "                        <th id=\"T_d6edb748_176d_11ec_84e3_0242ac1c0002level0_row36\" class=\"row_heading level0 row36\" >36</th>\n",
              "                        <td id=\"T_d6edb748_176d_11ec_84e3_0242ac1c0002row36_col0\" class=\"data row36 col0\" >8584.412563</td>\n",
              "            </tr>\n",
              "            <tr>\n",
              "                        <th id=\"T_d6edb748_176d_11ec_84e3_0242ac1c0002level0_row37\" class=\"row_heading level0 row37\" >7</th>\n",
              "                        <td id=\"T_d6edb748_176d_11ec_84e3_0242ac1c0002row37_col0\" class=\"data row37 col0\" >8358.766148</td>\n",
              "            </tr>\n",
              "            <tr>\n",
              "                        <th id=\"T_d6edb748_176d_11ec_84e3_0242ac1c0002level0_row38\" class=\"row_heading level0 row38\" >29</th>\n",
              "                        <td id=\"T_d6edb748_176d_11ec_84e3_0242ac1c0002row38_col0\" class=\"data row38 col0\" >8158.810609</td>\n",
              "            </tr>\n",
              "            <tr>\n",
              "                        <th id=\"T_d6edb748_176d_11ec_84e3_0242ac1c0002level0_row39\" class=\"row_heading level0 row39\" >16</th>\n",
              "                        <td id=\"T_d6edb748_176d_11ec_84e3_0242ac1c0002row39_col0\" class=\"data row39 col0\" >7863.224124</td>\n",
              "            </tr>\n",
              "            <tr>\n",
              "                        <th id=\"T_d6edb748_176d_11ec_84e3_0242ac1c0002level0_row40\" class=\"row_heading level0 row40\" >38</th>\n",
              "                        <td id=\"T_d6edb748_176d_11ec_84e3_0242ac1c0002row40_col0\" class=\"data row40 col0\" >7492.478460</td>\n",
              "            </tr>\n",
              "            <tr>\n",
              "                        <th id=\"T_d6edb748_176d_11ec_84e3_0242ac1c0002level0_row41\" class=\"row_heading level0 row41\" >3</th>\n",
              "                        <td id=\"T_d6edb748_176d_11ec_84e3_0242ac1c0002row41_col0\" class=\"data row41 col0\" >6373.033983</td>\n",
              "            </tr>\n",
              "            <tr>\n",
              "                        <th id=\"T_d6edb748_176d_11ec_84e3_0242ac1c0002level0_row42\" class=\"row_heading level0 row42\" >44</th>\n",
              "                        <td id=\"T_d6edb748_176d_11ec_84e3_0242ac1c0002row42_col0\" class=\"data row42 col0\" >6038.929814</td>\n",
              "            </tr>\n",
              "            <tr>\n",
              "                        <th id=\"T_d6edb748_176d_11ec_84e3_0242ac1c0002level0_row43\" class=\"row_heading level0 row43\" >33</th>\n",
              "                        <td id=\"T_d6edb748_176d_11ec_84e3_0242ac1c0002row43_col0\" class=\"data row43 col0\" >5728.414053</td>\n",
              "            </tr>\n",
              "            <tr>\n",
              "                        <th id=\"T_d6edb748_176d_11ec_84e3_0242ac1c0002level0_row44\" class=\"row_heading level0 row44\" >5</th>\n",
              "                        <td id=\"T_d6edb748_176d_11ec_84e3_0242ac1c0002row44_col0\" class=\"data row44 col0\" >5053.415813</td>\n",
              "            </tr>\n",
              "    </tbody></table>"
            ],
            "text/plain": [
              "<pandas.io.formats.style.Styler at 0x7f186dfe5490>"
            ]
          },
          "metadata": {},
          "execution_count": 52
        }
      ]
    },
    {
      "cell_type": "code",
      "metadata": {
        "colab": {
          "base_uri": "https://localhost:8080/",
          "height": 990
        },
        "id": "TkqO3jqH9WbU",
        "outputId": "9c306c5e-6aec-4915-9ff2-ccd39e883a6e"
      },
      "source": [
        "weekly_sales_stores_df.sort_values('Weekly_Sales').style.bar(align='left',width=98,color='green')"
      ],
      "execution_count": null,
      "outputs": [
        {
          "output_type": "execute_result",
          "data": {
            "text/html": [
              "<style  type=\"text/css\" >\n",
              "#T_ec032a82_176d_11ec_84e3_0242ac1c0002row0_col0{\n",
              "            width:  10em;\n",
              "             height:  80%;\n",
              "        }#T_ec032a82_176d_11ec_84e3_0242ac1c0002row1_col0{\n",
              "            width:  10em;\n",
              "             height:  80%;\n",
              "            background:  linear-gradient(90deg,green 2.7%, transparent 2.7%);\n",
              "        }#T_ec032a82_176d_11ec_84e3_0242ac1c0002row2_col0{\n",
              "            width:  10em;\n",
              "             height:  80%;\n",
              "            background:  linear-gradient(90deg,green 3.9%, transparent 3.9%);\n",
              "        }#T_ec032a82_176d_11ec_84e3_0242ac1c0002row3_col0{\n",
              "            width:  10em;\n",
              "             height:  80%;\n",
              "            background:  linear-gradient(90deg,green 5.3%, transparent 5.3%);\n",
              "        }#T_ec032a82_176d_11ec_84e3_0242ac1c0002row4_col0{\n",
              "            width:  10em;\n",
              "             height:  80%;\n",
              "            background:  linear-gradient(90deg,green 9.8%, transparent 9.8%);\n",
              "        }#T_ec032a82_176d_11ec_84e3_0242ac1c0002row5_col0{\n",
              "            width:  10em;\n",
              "             height:  80%;\n",
              "            background:  linear-gradient(90deg,green 11.3%, transparent 11.3%);\n",
              "        }#T_ec032a82_176d_11ec_84e3_0242ac1c0002row6_col0{\n",
              "            width:  10em;\n",
              "             height:  80%;\n",
              "            background:  linear-gradient(90deg,green 12.4%, transparent 12.4%);\n",
              "        }#T_ec032a82_176d_11ec_84e3_0242ac1c0002row7_col0{\n",
              "            width:  10em;\n",
              "             height:  80%;\n",
              "            background:  linear-gradient(90deg,green 13.2%, transparent 13.2%);\n",
              "        }#T_ec032a82_176d_11ec_84e3_0242ac1c0002row8_col0{\n",
              "            width:  10em;\n",
              "             height:  80%;\n",
              "            background:  linear-gradient(90deg,green 14.2%, transparent 14.2%);\n",
              "        }#T_ec032a82_176d_11ec_84e3_0242ac1c0002row9_col0,#T_ec032a82_176d_11ec_84e3_0242ac1c0002row10_col0{\n",
              "            width:  10em;\n",
              "             height:  80%;\n",
              "            background:  linear-gradient(90deg,green 14.9%, transparent 14.9%);\n",
              "        }#T_ec032a82_176d_11ec_84e3_0242ac1c0002row11_col0{\n",
              "            width:  10em;\n",
              "             height:  80%;\n",
              "            background:  linear-gradient(90deg,green 15.8%, transparent 15.8%);\n",
              "        }#T_ec032a82_176d_11ec_84e3_0242ac1c0002row12_col0{\n",
              "            width:  10em;\n",
              "             height:  80%;\n",
              "            background:  linear-gradient(90deg,green 21.0%, transparent 21.0%);\n",
              "        }#T_ec032a82_176d_11ec_84e3_0242ac1c0002row13_col0{\n",
              "            width:  10em;\n",
              "             height:  80%;\n",
              "            background:  linear-gradient(90deg,green 21.1%, transparent 21.1%);\n",
              "        }#T_ec032a82_176d_11ec_84e3_0242ac1c0002row14_col0{\n",
              "            width:  10em;\n",
              "             height:  80%;\n",
              "            background:  linear-gradient(90deg,green 25.0%, transparent 25.0%);\n",
              "        }#T_ec032a82_176d_11ec_84e3_0242ac1c0002row15_col0{\n",
              "            width:  10em;\n",
              "             height:  80%;\n",
              "            background:  linear-gradient(90deg,green 25.6%, transparent 25.6%);\n",
              "        }#T_ec032a82_176d_11ec_84e3_0242ac1c0002row16_col0{\n",
              "            width:  10em;\n",
              "             height:  80%;\n",
              "            background:  linear-gradient(90deg,green 26.5%, transparent 26.5%);\n",
              "        }#T_ec032a82_176d_11ec_84e3_0242ac1c0002row17_col0{\n",
              "            width:  10em;\n",
              "             height:  80%;\n",
              "            background:  linear-gradient(90deg,green 31.7%, transparent 31.7%);\n",
              "        }#T_ec032a82_176d_11ec_84e3_0242ac1c0002row18_col0{\n",
              "            width:  10em;\n",
              "             height:  80%;\n",
              "            background:  linear-gradient(90deg,green 32.4%, transparent 32.4%);\n",
              "        }#T_ec032a82_176d_11ec_84e3_0242ac1c0002row19_col0{\n",
              "            width:  10em;\n",
              "             height:  80%;\n",
              "            background:  linear-gradient(90deg,green 33.5%, transparent 33.5%);\n",
              "        }#T_ec032a82_176d_11ec_84e3_0242ac1c0002row20_col0{\n",
              "            width:  10em;\n",
              "             height:  80%;\n",
              "            background:  linear-gradient(90deg,green 33.9%, transparent 33.9%);\n",
              "        }#T_ec032a82_176d_11ec_84e3_0242ac1c0002row21_col0{\n",
              "            width:  10em;\n",
              "             height:  80%;\n",
              "            background:  linear-gradient(90deg,green 34.9%, transparent 34.9%);\n",
              "        }#T_ec032a82_176d_11ec_84e3_0242ac1c0002row22_col0{\n",
              "            width:  10em;\n",
              "             height:  80%;\n",
              "            background:  linear-gradient(90deg,green 35.1%, transparent 35.1%);\n",
              "        }#T_ec032a82_176d_11ec_84e3_0242ac1c0002row23_col0{\n",
              "            width:  10em;\n",
              "             height:  80%;\n",
              "            background:  linear-gradient(90deg,green 38.1%, transparent 38.1%);\n",
              "        }#T_ec032a82_176d_11ec_84e3_0242ac1c0002row24_col0{\n",
              "            width:  10em;\n",
              "             height:  80%;\n",
              "            background:  linear-gradient(90deg,green 39.3%, transparent 39.3%);\n",
              "        }#T_ec032a82_176d_11ec_84e3_0242ac1c0002row25_col0{\n",
              "            width:  10em;\n",
              "             height:  80%;\n",
              "            background:  linear-gradient(90deg,green 40.6%, transparent 40.6%);\n",
              "        }#T_ec032a82_176d_11ec_84e3_0242ac1c0002row26_col0{\n",
              "            width:  10em;\n",
              "             height:  80%;\n",
              "            background:  linear-gradient(90deg,green 42.8%, transparent 42.8%);\n",
              "        }#T_ec032a82_176d_11ec_84e3_0242ac1c0002row27_col0{\n",
              "            width:  10em;\n",
              "             height:  80%;\n",
              "            background:  linear-gradient(90deg,green 45.3%, transparent 45.3%);\n",
              "        }#T_ec032a82_176d_11ec_84e3_0242ac1c0002row28_col0{\n",
              "            width:  10em;\n",
              "             height:  80%;\n",
              "            background:  linear-gradient(90deg,green 51.8%, transparent 51.8%);\n",
              "        }#T_ec032a82_176d_11ec_84e3_0242ac1c0002row29_col0{\n",
              "            width:  10em;\n",
              "             height:  80%;\n",
              "            background:  linear-gradient(90deg,green 54.7%, transparent 54.7%);\n",
              "        }#T_ec032a82_176d_11ec_84e3_0242ac1c0002row30_col0{\n",
              "            width:  10em;\n",
              "             height:  80%;\n",
              "            background:  linear-gradient(90deg,green 55.8%, transparent 55.8%);\n",
              "        }#T_ec032a82_176d_11ec_84e3_0242ac1c0002row31_col0{\n",
              "            width:  10em;\n",
              "             height:  80%;\n",
              "            background:  linear-gradient(90deg,green 57.0%, transparent 57.0%);\n",
              "        }#T_ec032a82_176d_11ec_84e3_0242ac1c0002row32_col0{\n",
              "            width:  10em;\n",
              "             height:  80%;\n",
              "            background:  linear-gradient(90deg,green 58.6%, transparent 58.6%);\n",
              "        }#T_ec032a82_176d_11ec_84e3_0242ac1c0002row33_col0{\n",
              "            width:  10em;\n",
              "             height:  80%;\n",
              "            background:  linear-gradient(90deg,green 59.0%, transparent 59.0%);\n",
              "        }#T_ec032a82_176d_11ec_84e3_0242ac1c0002row34_col0{\n",
              "            width:  10em;\n",
              "             height:  80%;\n",
              "            background:  linear-gradient(90deg,green 61.3%, transparent 61.3%);\n",
              "        }#T_ec032a82_176d_11ec_84e3_0242ac1c0002row35_col0{\n",
              "            width:  10em;\n",
              "             height:  80%;\n",
              "            background:  linear-gradient(90deg,green 63.9%, transparent 63.9%);\n",
              "        }#T_ec032a82_176d_11ec_84e3_0242ac1c0002row36_col0{\n",
              "            width:  10em;\n",
              "             height:  80%;\n",
              "            background:  linear-gradient(90deg,green 66.8%, transparent 66.8%);\n",
              "        }#T_ec032a82_176d_11ec_84e3_0242ac1c0002row37_col0{\n",
              "            width:  10em;\n",
              "             height:  80%;\n",
              "            background:  linear-gradient(90deg,green 67.6%, transparent 67.6%);\n",
              "        }#T_ec032a82_176d_11ec_84e3_0242ac1c0002row38_col0{\n",
              "            width:  10em;\n",
              "             height:  80%;\n",
              "            background:  linear-gradient(90deg,green 79.2%, transparent 79.2%);\n",
              "        }#T_ec032a82_176d_11ec_84e3_0242ac1c0002row39_col0{\n",
              "            width:  10em;\n",
              "             height:  80%;\n",
              "            background:  linear-gradient(90deg,green 85.3%, transparent 85.3%);\n",
              "        }#T_ec032a82_176d_11ec_84e3_0242ac1c0002row40_col0{\n",
              "            width:  10em;\n",
              "             height:  80%;\n",
              "            background:  linear-gradient(90deg,green 87.5%, transparent 87.5%);\n",
              "        }#T_ec032a82_176d_11ec_84e3_0242ac1c0002row41_col0{\n",
              "            width:  10em;\n",
              "             height:  80%;\n",
              "            background:  linear-gradient(90deg,green 89.4%, transparent 89.4%);\n",
              "        }#T_ec032a82_176d_11ec_84e3_0242ac1c0002row42_col0{\n",
              "            width:  10em;\n",
              "             height:  80%;\n",
              "            background:  linear-gradient(90deg,green 95.1%, transparent 95.1%);\n",
              "        }#T_ec032a82_176d_11ec_84e3_0242ac1c0002row43_col0{\n",
              "            width:  10em;\n",
              "             height:  80%;\n",
              "            background:  linear-gradient(90deg,green 96.6%, transparent 96.6%);\n",
              "        }#T_ec032a82_176d_11ec_84e3_0242ac1c0002row44_col0{\n",
              "            width:  10em;\n",
              "             height:  80%;\n",
              "            background:  linear-gradient(90deg,green 98.0%, transparent 98.0%);\n",
              "        }</style><table id=\"T_ec032a82_176d_11ec_84e3_0242ac1c0002\" ><thead>    <tr>        <th class=\"blank level0\" ></th>        <th class=\"col_heading level0 col0\" >Weekly_Sales</th>    </tr>    <tr>        <th class=\"index_name level0\" >Store</th>        <th class=\"blank\" ></th>    </tr></thead><tbody>\n",
              "                <tr>\n",
              "                        <th id=\"T_ec032a82_176d_11ec_84e3_0242ac1c0002level0_row0\" class=\"row_heading level0 row0\" >5</th>\n",
              "                        <td id=\"T_ec032a82_176d_11ec_84e3_0242ac1c0002row0_col0\" class=\"data row0 col0\" >5053.415813</td>\n",
              "            </tr>\n",
              "            <tr>\n",
              "                        <th id=\"T_ec032a82_176d_11ec_84e3_0242ac1c0002level0_row1\" class=\"row_heading level0 row1\" >33</th>\n",
              "                        <td id=\"T_ec032a82_176d_11ec_84e3_0242ac1c0002row1_col0\" class=\"data row1 col0\" >5728.414053</td>\n",
              "            </tr>\n",
              "            <tr>\n",
              "                        <th id=\"T_ec032a82_176d_11ec_84e3_0242ac1c0002level0_row2\" class=\"row_heading level0 row2\" >44</th>\n",
              "                        <td id=\"T_ec032a82_176d_11ec_84e3_0242ac1c0002row2_col0\" class=\"data row2 col0\" >6038.929814</td>\n",
              "            </tr>\n",
              "            <tr>\n",
              "                        <th id=\"T_ec032a82_176d_11ec_84e3_0242ac1c0002level0_row3\" class=\"row_heading level0 row3\" >3</th>\n",
              "                        <td id=\"T_ec032a82_176d_11ec_84e3_0242ac1c0002row3_col0\" class=\"data row3 col0\" >6373.033983</td>\n",
              "            </tr>\n",
              "            <tr>\n",
              "                        <th id=\"T_ec032a82_176d_11ec_84e3_0242ac1c0002level0_row4\" class=\"row_heading level0 row4\" >38</th>\n",
              "                        <td id=\"T_ec032a82_176d_11ec_84e3_0242ac1c0002row4_col0\" class=\"data row4 col0\" >7492.478460</td>\n",
              "            </tr>\n",
              "            <tr>\n",
              "                        <th id=\"T_ec032a82_176d_11ec_84e3_0242ac1c0002level0_row5\" class=\"row_heading level0 row5\" >16</th>\n",
              "                        <td id=\"T_ec032a82_176d_11ec_84e3_0242ac1c0002row5_col0\" class=\"data row5 col0\" >7863.224124</td>\n",
              "            </tr>\n",
              "            <tr>\n",
              "                        <th id=\"T_ec032a82_176d_11ec_84e3_0242ac1c0002level0_row6\" class=\"row_heading level0 row6\" >29</th>\n",
              "                        <td id=\"T_ec032a82_176d_11ec_84e3_0242ac1c0002row6_col0\" class=\"data row6 col0\" >8158.810609</td>\n",
              "            </tr>\n",
              "            <tr>\n",
              "                        <th id=\"T_ec032a82_176d_11ec_84e3_0242ac1c0002level0_row7\" class=\"row_heading level0 row7\" >7</th>\n",
              "                        <td id=\"T_ec032a82_176d_11ec_84e3_0242ac1c0002row7_col0\" class=\"data row7 col0\" >8358.766148</td>\n",
              "            </tr>\n",
              "            <tr>\n",
              "                        <th id=\"T_ec032a82_176d_11ec_84e3_0242ac1c0002level0_row8\" class=\"row_heading level0 row8\" >36</th>\n",
              "                        <td id=\"T_ec032a82_176d_11ec_84e3_0242ac1c0002row8_col0\" class=\"data row8 col0\" >8584.412563</td>\n",
              "            </tr>\n",
              "            <tr>\n",
              "                        <th id=\"T_ec032a82_176d_11ec_84e3_0242ac1c0002level0_row9\" class=\"row_heading level0 row9\" >30</th>\n",
              "                        <td id=\"T_ec032a82_176d_11ec_84e3_0242ac1c0002row9_col0\" class=\"data row9 col0\" >8764.237719</td>\n",
              "            </tr>\n",
              "            <tr>\n",
              "                        <th id=\"T_ec032a82_176d_11ec_84e3_0242ac1c0002level0_row10\" class=\"row_heading level0 row10\" >9</th>\n",
              "                        <td id=\"T_ec032a82_176d_11ec_84e3_0242ac1c0002row10_col0\" class=\"data row10 col0\" >8772.890379</td>\n",
              "            </tr>\n",
              "            <tr>\n",
              "                        <th id=\"T_ec032a82_176d_11ec_84e3_0242ac1c0002level0_row11\" class=\"row_heading level0 row11\" >15</th>\n",
              "                        <td id=\"T_ec032a82_176d_11ec_84e3_0242ac1c0002row11_col0\" class=\"data row11 col0\" >9002.493073</td>\n",
              "            </tr>\n",
              "            <tr>\n",
              "                        <th id=\"T_ec032a82_176d_11ec_84e3_0242ac1c0002level0_row12\" class=\"row_heading level0 row12\" >37</th>\n",
              "                        <td id=\"T_ec032a82_176d_11ec_84e3_0242ac1c0002row12_col0\" class=\"data row12 col0\" >10297.355026</td>\n",
              "            </tr>\n",
              "            <tr>\n",
              "                        <th id=\"T_ec032a82_176d_11ec_84e3_0242ac1c0002level0_row13\" class=\"row_heading level0 row13\" >25</th>\n",
              "                        <td id=\"T_ec032a82_176d_11ec_84e3_0242ac1c0002row13_col0\" class=\"data row13 col0\" >10308.157810</td>\n",
              "            </tr>\n",
              "            <tr>\n",
              "                        <th id=\"T_ec032a82_176d_11ec_84e3_0242ac1c0002level0_row14\" class=\"row_heading level0 row14\" >21</th>\n",
              "                        <td id=\"T_ec032a82_176d_11ec_84e3_0242ac1c0002row14_col0\" class=\"data row14 col0\" >11283.435496</td>\n",
              "            </tr>\n",
              "            <tr>\n",
              "                        <th id=\"T_ec032a82_176d_11ec_84e3_0242ac1c0002level0_row15\" class=\"row_heading level0 row15\" >42</th>\n",
              "                        <td id=\"T_ec032a82_176d_11ec_84e3_0242ac1c0002row15_col0\" class=\"data row15 col0\" >11443.370118</td>\n",
              "            </tr>\n",
              "            <tr>\n",
              "                        <th id=\"T_ec032a82_176d_11ec_84e3_0242ac1c0002level0_row16\" class=\"row_heading level0 row16\" >45</th>\n",
              "                        <td id=\"T_ec032a82_176d_11ec_84e3_0242ac1c0002row16_col0\" class=\"data row16 col0\" >11662.897315</td>\n",
              "            </tr>\n",
              "            <tr>\n",
              "                        <th id=\"T_ec032a82_176d_11ec_84e3_0242ac1c0002level0_row17\" class=\"row_heading level0 row17\" >17</th>\n",
              "                        <td id=\"T_ec032a82_176d_11ec_84e3_0242ac1c0002row17_col0\" class=\"data row17 col0\" >12954.393636</td>\n",
              "            </tr>\n",
              "            <tr>\n",
              "                        <th id=\"T_ec032a82_176d_11ec_84e3_0242ac1c0002level0_row18\" class=\"row_heading level0 row18\" >8</th>\n",
              "                        <td id=\"T_ec032a82_176d_11ec_84e3_0242ac1c0002row18_col0\" class=\"data row18 col0\" >13133.014768</td>\n",
              "            </tr>\n",
              "            <tr>\n",
              "                        <th id=\"T_ec032a82_176d_11ec_84e3_0242ac1c0002level0_row19\" class=\"row_heading level0 row19\" >43</th>\n",
              "                        <td id=\"T_ec032a82_176d_11ec_84e3_0242ac1c0002row19_col0\" class=\"data row19 col0\" >13415.114118</td>\n",
              "            </tr>\n",
              "            <tr>\n",
              "                        <th id=\"T_ec032a82_176d_11ec_84e3_0242ac1c0002level0_row20\" class=\"row_heading level0 row20\" >34</th>\n",
              "                        <td id=\"T_ec032a82_176d_11ec_84e3_0242ac1c0002row20_col0\" class=\"data row20 col0\" >13522.081671</td>\n",
              "            </tr>\n",
              "            <tr>\n",
              "                        <th id=\"T_ec032a82_176d_11ec_84e3_0242ac1c0002level0_row21\" class=\"row_heading level0 row21\" >40</th>\n",
              "                        <td id=\"T_ec032a82_176d_11ec_84e3_0242ac1c0002row21_col0\" class=\"data row21 col0\" >13763.632803</td>\n",
              "            </tr>\n",
              "            <tr>\n",
              "                        <th id=\"T_ec032a82_176d_11ec_84e3_0242ac1c0002level0_row22\" class=\"row_heading level0 row22\" >35</th>\n",
              "                        <td id=\"T_ec032a82_176d_11ec_84e3_0242ac1c0002row22_col0\" class=\"data row22 col0\" >13803.596986</td>\n",
              "            </tr>\n",
              "            <tr>\n",
              "                        <th id=\"T_ec032a82_176d_11ec_84e3_0242ac1c0002level0_row23\" class=\"row_heading level0 row23\" >26</th>\n",
              "                        <td id=\"T_ec032a82_176d_11ec_84e3_0242ac1c0002row23_col0\" class=\"data row23 col0\" >14554.129672</td>\n",
              "            </tr>\n",
              "            <tr>\n",
              "                        <th id=\"T_ec032a82_176d_11ec_84e3_0242ac1c0002level0_row24\" class=\"row_heading level0 row24\" >12</th>\n",
              "                        <td id=\"T_ec032a82_176d_11ec_84e3_0242ac1c0002row24_col0\" class=\"data row24 col0\" >14867.308619</td>\n",
              "            </tr>\n",
              "            <tr>\n",
              "                        <th id=\"T_ec032a82_176d_11ec_84e3_0242ac1c0002level0_row25\" class=\"row_heading level0 row25\" >22</th>\n",
              "                        <td id=\"T_ec032a82_176d_11ec_84e3_0242ac1c0002row25_col0\" class=\"data row25 col0\" >15181.218886</td>\n",
              "            </tr>\n",
              "            <tr>\n",
              "                        <th id=\"T_ec032a82_176d_11ec_84e3_0242ac1c0002level0_row26\" class=\"row_heading level0 row26\" >18</th>\n",
              "                        <td id=\"T_ec032a82_176d_11ec_84e3_0242ac1c0002row26_col0\" class=\"data row26 col0\" >15733.313136</td>\n",
              "            </tr>\n",
              "            <tr>\n",
              "                        <th id=\"T_ec032a82_176d_11ec_84e3_0242ac1c0002level0_row27\" class=\"row_heading level0 row27\" >32</th>\n",
              "                        <td id=\"T_ec032a82_176d_11ec_84e3_0242ac1c0002row27_col0\" class=\"data row27 col0\" >16351.621855</td>\n",
              "            </tr>\n",
              "            <tr>\n",
              "                        <th id=\"T_ec032a82_176d_11ec_84e3_0242ac1c0002level0_row28\" class=\"row_heading level0 row28\" >41</th>\n",
              "                        <td id=\"T_ec032a82_176d_11ec_84e3_0242ac1c0002row28_col0\" class=\"data row28 col0\" >17976.004648</td>\n",
              "            </tr>\n",
              "            <tr>\n",
              "                        <th id=\"T_ec032a82_176d_11ec_84e3_0242ac1c0002level0_row29\" class=\"row_heading level0 row29\" >28</th>\n",
              "                        <td id=\"T_ec032a82_176d_11ec_84e3_0242ac1c0002row29_col0\" class=\"data row29 col0\" >18714.889803</td>\n",
              "            </tr>\n",
              "            <tr>\n",
              "                        <th id=\"T_ec032a82_176d_11ec_84e3_0242ac1c0002level0_row30\" class=\"row_heading level0 row30\" >24</th>\n",
              "                        <td id=\"T_ec032a82_176d_11ec_84e3_0242ac1c0002row30_col0\" class=\"data row30 col0\" >18969.106500</td>\n",
              "            </tr>\n",
              "            <tr>\n",
              "                        <th id=\"T_ec032a82_176d_11ec_84e3_0242ac1c0002level0_row31\" class=\"row_heading level0 row31\" >11</th>\n",
              "                        <td id=\"T_ec032a82_176d_11ec_84e3_0242ac1c0002row31_col0\" class=\"data row31 col0\" >19276.762751</td>\n",
              "            </tr>\n",
              "            <tr>\n",
              "                        <th id=\"T_ec032a82_176d_11ec_84e3_0242ac1c0002level0_row32\" class=\"row_heading level0 row32\" >31</th>\n",
              "                        <td id=\"T_ec032a82_176d_11ec_84e3_0242ac1c0002row32_col0\" class=\"data row32 col0\" >19681.907464</td>\n",
              "            </tr>\n",
              "            <tr>\n",
              "                        <th id=\"T_ec032a82_176d_11ec_84e3_0242ac1c0002level0_row33\" class=\"row_heading level0 row33\" >23</th>\n",
              "                        <td id=\"T_ec032a82_176d_11ec_84e3_0242ac1c0002row33_col0\" class=\"data row33 col0\" >19776.180881</td>\n",
              "            </tr>\n",
              "            <tr>\n",
              "                        <th id=\"T_ec032a82_176d_11ec_84e3_0242ac1c0002level0_row34\" class=\"row_heading level0 row34\" >19</th>\n",
              "                        <td id=\"T_ec032a82_176d_11ec_84e3_0242ac1c0002row34_col0\" class=\"data row34 col0\" >20362.126734</td>\n",
              "            </tr>\n",
              "            <tr>\n",
              "                        <th id=\"T_ec032a82_176d_11ec_84e3_0242ac1c0002level0_row35\" class=\"row_heading level0 row35\" >39</th>\n",
              "                        <td id=\"T_ec032a82_176d_11ec_84e3_0242ac1c0002row35_col0\" class=\"data row35 col0\" >21000.763562</td>\n",
              "            </tr>\n",
              "            <tr>\n",
              "                        <th id=\"T_ec032a82_176d_11ec_84e3_0242ac1c0002level0_row36\" class=\"row_heading level0 row36\" >1</th>\n",
              "                        <td id=\"T_ec032a82_176d_11ec_84e3_0242ac1c0002row36_col0\" class=\"data row36 col0\" >21710.543621</td>\n",
              "            </tr>\n",
              "            <tr>\n",
              "                        <th id=\"T_ec032a82_176d_11ec_84e3_0242ac1c0002level0_row37\" class=\"row_heading level0 row37\" >6</th>\n",
              "                        <td id=\"T_ec032a82_176d_11ec_84e3_0242ac1c0002row37_col0\" class=\"data row37 col0\" >21913.243624</td>\n",
              "            </tr>\n",
              "            <tr>\n",
              "                        <th id=\"T_ec032a82_176d_11ec_84e3_0242ac1c0002level0_row38\" class=\"row_heading level0 row38\" >27</th>\n",
              "                        <td id=\"T_ec032a82_176d_11ec_84e3_0242ac1c0002row38_col0\" class=\"data row38 col0\" >24826.984536</td>\n",
              "            </tr>\n",
              "            <tr>\n",
              "                        <th id=\"T_ec032a82_176d_11ec_84e3_0242ac1c0002level0_row39\" class=\"row_heading level0 row39\" >10</th>\n",
              "                        <td id=\"T_ec032a82_176d_11ec_84e3_0242ac1c0002row39_col0\" class=\"data row39 col0\" >26332.303819</td>\n",
              "            </tr>\n",
              "            <tr>\n",
              "                        <th id=\"T_ec032a82_176d_11ec_84e3_0242ac1c0002level0_row40\" class=\"row_heading level0 row40\" >2</th>\n",
              "                        <td id=\"T_ec032a82_176d_11ec_84e3_0242ac1c0002row40_col0\" class=\"data row40 col0\" >26898.070031</td>\n",
              "            </tr>\n",
              "            <tr>\n",
              "                        <th id=\"T_ec032a82_176d_11ec_84e3_0242ac1c0002level0_row41\" class=\"row_heading level0 row41\" >13</th>\n",
              "                        <td id=\"T_ec032a82_176d_11ec_84e3_0242ac1c0002row41_col0\" class=\"data row41 col0\" >27355.136891</td>\n",
              "            </tr>\n",
              "            <tr>\n",
              "                        <th id=\"T_ec032a82_176d_11ec_84e3_0242ac1c0002level0_row42\" class=\"row_heading level0 row42\" >14</th>\n",
              "                        <td id=\"T_ec032a82_176d_11ec_84e3_0242ac1c0002row42_col0\" class=\"data row42 col0\" >28784.851727</td>\n",
              "            </tr>\n",
              "            <tr>\n",
              "                        <th id=\"T_ec032a82_176d_11ec_84e3_0242ac1c0002level0_row43\" class=\"row_heading level0 row43\" >4</th>\n",
              "                        <td id=\"T_ec032a82_176d_11ec_84e3_0242ac1c0002row43_col0\" class=\"data row43 col0\" >29161.210415</td>\n",
              "            </tr>\n",
              "            <tr>\n",
              "                        <th id=\"T_ec032a82_176d_11ec_84e3_0242ac1c0002level0_row44\" class=\"row_heading level0 row44\" >20</th>\n",
              "                        <td id=\"T_ec032a82_176d_11ec_84e3_0242ac1c0002row44_col0\" class=\"data row44 col0\" >29508.301592</td>\n",
              "            </tr>\n",
              "    </tbody></table>"
            ],
            "text/plain": [
              "<pandas.io.formats.style.Styler at 0x7f186d8fa410>"
            ]
          },
          "metadata": {},
          "execution_count": 53
        }
      ]
    },
    {
      "cell_type": "markdown",
      "metadata": {
        "id": "RNEzbk1O-ENu"
      },
      "source": [
        "PLOTTING A BAR GRAPH WITH STORE NUMBER AS x VALUES AND MEAN WEEKLY SALES FOR THAT STORE AS y VALUES."
      ]
    },
    {
      "cell_type": "code",
      "metadata": {
        "colab": {
          "base_uri": "https://localhost:8080/",
          "height": 740
        },
        "id": "0UbLJh9V95sA",
        "outputId": "8abbd0e1-3fa4-4643-9147-16f7ba27ca40"
      },
      "source": [
        "# plotting the figure\n",
        "plt.figure(figsize=(25,12))\n",
        "# create a barplot with stores in x axis and mean weekly sales in y axis\n",
        "sns.barplot(weekly_sales_stores.index, weekly_sales_stores.values, palette='dark')\n",
        "plt.grid()\n",
        "plt.title('Average weekly sales per store', fontsize=20)\n",
        "plt.xlabel('store number',fontsize=16)\n",
        "plt.ylabel('sales per store',fontsize=16)\n",
        "plt.show()"
      ],
      "execution_count": null,
      "outputs": [
        {
          "output_type": "display_data",
          "data": {
            "image/png": "[encoded data removed]",
            "text/plain": [
              "<Figure size 1800x864 with 1 Axes>"
            ]
          },
          "metadata": {
            "needs_background": "light"
          }
        }
      ]
    },
    {
      "cell_type": "markdown",
      "metadata": {
        "id": "YPP-Go2VBFnq"
      },
      "source": [
        "GROUPING THE train_df_1 by DEPARTMENT AND COMPUTING THE MEAN OF weekly_Sales FOR EACH DEAPARTMENT"
      ]
    },
    {
      "cell_type": "code",
      "metadata": {
        "id": "MW4i5qjp-1O8"
      },
      "source": [
        "weekly_sales_dept = train_df_1['Weekly_Sales'].groupby(train_df_1['Dept']).mean()"
      ],
      "execution_count": null,
      "outputs": []
    },
    {
      "cell_type": "code",
      "metadata": {
        "id": "hn2JMLeYBdcM"
      },
      "source": [
        "weekly_sales_dept_df = pd.DataFrame(weekly_sales_dept)"
      ],
      "execution_count": null,
      "outputs": []
    },
    {
      "cell_type": "code",
      "metadata": {
        "colab": {
          "base_uri": "https://localhost:8080/",
          "height": 235
        },
        "id": "ZBjtBJ7FBlgX",
        "outputId": "a4672f09-a7da-4fc7-f0e2-f89133520948"
      },
      "source": [
        "weekly_sales_dept_df.head()"
      ],
      "execution_count": null,
      "outputs": [
        {
          "output_type": "execute_result",
          "data": {
            "text/html": [
              "<div>\n",
              "<style scoped>\n",
              "    .dataframe tbody tr th:only-of-type {\n",
              "        vertical-align: middle;\n",
              "    }\n",
              "\n",
              "    .dataframe tbody tr th {\n",
              "        vertical-align: top;\n",
              "    }\n",
              "\n",
              "    .dataframe thead th {\n",
              "        text-align: right;\n",
              "    }\n",
              "</style>\n",
              "<table border=\"1\" class=\"dataframe\">\n",
              "  <thead>\n",
              "    <tr style=\"text-align: right;\">\n",
              "      <th></th>\n",
              "      <th>Weekly_Sales</th>\n",
              "    </tr>\n",
              "    <tr>\n",
              "      <th>Dept</th>\n",
              "      <th></th>\n",
              "    </tr>\n",
              "  </thead>\n",
              "  <tbody>\n",
              "    <tr>\n",
              "      <th>1</th>\n",
              "      <td>19213.485088</td>\n",
              "    </tr>\n",
              "    <tr>\n",
              "      <th>2</th>\n",
              "      <td>43607.020113</td>\n",
              "    </tr>\n",
              "    <tr>\n",
              "      <th>3</th>\n",
              "      <td>11793.698516</td>\n",
              "    </tr>\n",
              "    <tr>\n",
              "      <th>4</th>\n",
              "      <td>25974.630238</td>\n",
              "    </tr>\n",
              "    <tr>\n",
              "      <th>5</th>\n",
              "      <td>21365.583515</td>\n",
              "    </tr>\n",
              "  </tbody>\n",
              "</table>\n",
              "</div>"
            ],
            "text/plain": [
              "      Weekly_Sales\n",
              "Dept              \n",
              "1     19213.485088\n",
              "2     43607.020113\n",
              "3     11793.698516\n",
              "4     25974.630238\n",
              "5     21365.583515"
            ]
          },
          "metadata": {},
          "execution_count": 59
        }
      ]
    },
    {
      "cell_type": "code",
      "metadata": {
        "colab": {
          "base_uri": "https://localhost:8080/",
          "height": 1000
        },
        "id": "7ik_vlgmBrZT",
        "outputId": "6c95376c-8a7a-4ed4-a3eb-e08032f29a44"
      },
      "source": [
        "#sorting the dataframe with respect to weekly sales in descending order\n",
        "weekly_sales_dept_df.sort_values('Weekly_Sales',ascending=False).style.bar(align='left', width=98)"
      ],
      "execution_count": null,
      "outputs": [
        {
          "output_type": "execute_result",
          "data": {
            "text/html": [
              "<style  type=\"text/css\" >\n",
              "#T_7ad15368_1770_11ec_84e3_0242ac1c0002row0_col0{\n",
              "            width:  10em;\n",
              "             height:  80%;\n",
              "            background:  linear-gradient(90deg,#d65f5f 98.0%, transparent 98.0%);\n",
              "        }#T_7ad15368_1770_11ec_84e3_0242ac1c0002row1_col0{\n",
              "            width:  10em;\n",
              "             height:  80%;\n",
              "            background:  linear-gradient(90deg,#d65f5f 91.0%, transparent 91.0%);\n",
              "        }#T_7ad15368_1770_11ec_84e3_0242ac1c0002row2_col0{\n",
              "            width:  10em;\n",
              "             height:  80%;\n",
              "            background:  linear-gradient(90deg,#d65f5f 79.6%, transparent 79.6%);\n",
              "        }#T_7ad15368_1770_11ec_84e3_0242ac1c0002row3_col0{\n",
              "            width:  10em;\n",
              "             height:  80%;\n",
              "            background:  linear-gradient(90deg,#d65f5f 65.9%, transparent 65.9%);\n",
              "        }#T_7ad15368_1770_11ec_84e3_0242ac1c0002row4_col0{\n",
              "            width:  10em;\n",
              "             height:  80%;\n",
              "            background:  linear-gradient(90deg,#d65f5f 59.2%, transparent 59.2%);\n",
              "        }#T_7ad15368_1770_11ec_84e3_0242ac1c0002row5_col0{\n",
              "            width:  10em;\n",
              "             height:  80%;\n",
              "            background:  linear-gradient(90deg,#d65f5f 58.9%, transparent 58.9%);\n",
              "        }#T_7ad15368_1770_11ec_84e3_0242ac1c0002row6_col0{\n",
              "            width:  10em;\n",
              "             height:  80%;\n",
              "            background:  linear-gradient(90deg,#d65f5f 58.5%, transparent 58.5%);\n",
              "        }#T_7ad15368_1770_11ec_84e3_0242ac1c0002row7_col0{\n",
              "            width:  10em;\n",
              "             height:  80%;\n",
              "            background:  linear-gradient(90deg,#d65f5f 56.8%, transparent 56.8%);\n",
              "        }#T_7ad15368_1770_11ec_84e3_0242ac1c0002row8_col0{\n",
              "            width:  10em;\n",
              "             height:  80%;\n",
              "            background:  linear-gradient(90deg,#d65f5f 43.9%, transparent 43.9%);\n",
              "        }#T_7ad15368_1770_11ec_84e3_0242ac1c0002row9_col0{\n",
              "            width:  10em;\n",
              "             height:  80%;\n",
              "            background:  linear-gradient(90deg,#d65f5f 43.5%, transparent 43.5%);\n",
              "        }#T_7ad15368_1770_11ec_84e3_0242ac1c0002row10_col0{\n",
              "            width:  10em;\n",
              "             height:  80%;\n",
              "            background:  linear-gradient(90deg,#d65f5f 40.0%, transparent 40.0%);\n",
              "        }#T_7ad15368_1770_11ec_84e3_0242ac1c0002row11_col0{\n",
              "            width:  10em;\n",
              "             height:  80%;\n",
              "            background:  linear-gradient(90deg,#d65f5f 39.3%, transparent 39.3%);\n",
              "        }#T_7ad15368_1770_11ec_84e3_0242ac1c0002row12_col0{\n",
              "            width:  10em;\n",
              "             height:  80%;\n",
              "            background:  linear-gradient(90deg,#d65f5f 35.2%, transparent 35.2%);\n",
              "        }#T_7ad15368_1770_11ec_84e3_0242ac1c0002row13_col0{\n",
              "            width:  10em;\n",
              "             height:  80%;\n",
              "            background:  linear-gradient(90deg,#d65f5f 33.9%, transparent 33.9%);\n",
              "        }#T_7ad15368_1770_11ec_84e3_0242ac1c0002row14_col0{\n",
              "            width:  10em;\n",
              "             height:  80%;\n",
              "            background:  linear-gradient(90deg,#d65f5f 31.5%, transparent 31.5%);\n",
              "        }#T_7ad15368_1770_11ec_84e3_0242ac1c0002row15_col0{\n",
              "            width:  10em;\n",
              "             height:  80%;\n",
              "            background:  linear-gradient(90deg,#d65f5f 31.2%, transparent 31.2%);\n",
              "        }#T_7ad15368_1770_11ec_84e3_0242ac1c0002row16_col0{\n",
              "            width:  10em;\n",
              "             height:  80%;\n",
              "            background:  linear-gradient(90deg,#d65f5f 28.6%, transparent 28.6%);\n",
              "        }#T_7ad15368_1770_11ec_84e3_0242ac1c0002row17_col0{\n",
              "            width:  10em;\n",
              "             height:  80%;\n",
              "            background:  linear-gradient(90deg,#d65f5f 27.8%, transparent 27.8%);\n",
              "        }#T_7ad15368_1770_11ec_84e3_0242ac1c0002row18_col0{\n",
              "            width:  10em;\n",
              "             height:  80%;\n",
              "            background:  linear-gradient(90deg,#d65f5f 26.3%, transparent 26.3%);\n",
              "        }#T_7ad15368_1770_11ec_84e3_0242ac1c0002row19_col0{\n",
              "            width:  10em;\n",
              "             height:  80%;\n",
              "            background:  linear-gradient(90deg,#d65f5f 26.0%, transparent 26.0%);\n",
              "        }#T_7ad15368_1770_11ec_84e3_0242ac1c0002row20_col0{\n",
              "            width:  10em;\n",
              "             height:  80%;\n",
              "            background:  linear-gradient(90deg,#d65f5f 25.0%, transparent 25.0%);\n",
              "        }#T_7ad15368_1770_11ec_84e3_0242ac1c0002row21_col0{\n",
              "            width:  10em;\n",
              "             height:  80%;\n",
              "            background:  linear-gradient(90deg,#d65f5f 23.9%, transparent 23.9%);\n",
              "        }#T_7ad15368_1770_11ec_84e3_0242ac1c0002row22_col0{\n",
              "            width:  10em;\n",
              "             height:  80%;\n",
              "            background:  linear-gradient(90deg,#d65f5f 20.4%, transparent 20.4%);\n",
              "        }#T_7ad15368_1770_11ec_84e3_0242ac1c0002row23_col0,#T_7ad15368_1770_11ec_84e3_0242ac1c0002row24_col0{\n",
              "            width:  10em;\n",
              "             height:  80%;\n",
              "            background:  linear-gradient(90deg,#d65f5f 20.2%, transparent 20.2%);\n",
              "        }#T_7ad15368_1770_11ec_84e3_0242ac1c0002row25_col0{\n",
              "            width:  10em;\n",
              "             height:  80%;\n",
              "            background:  linear-gradient(90deg,#d65f5f 19.8%, transparent 19.8%);\n",
              "        }#T_7ad15368_1770_11ec_84e3_0242ac1c0002row26_col0{\n",
              "            width:  10em;\n",
              "             height:  80%;\n",
              "            background:  linear-gradient(90deg,#d65f5f 19.4%, transparent 19.4%);\n",
              "        }#T_7ad15368_1770_11ec_84e3_0242ac1c0002row27_col0{\n",
              "            width:  10em;\n",
              "             height:  80%;\n",
              "            background:  linear-gradient(90deg,#d65f5f 18.9%, transparent 18.9%);\n",
              "        }#T_7ad15368_1770_11ec_84e3_0242ac1c0002row28_col0,#T_7ad15368_1770_11ec_84e3_0242ac1c0002row29_col0{\n",
              "            width:  10em;\n",
              "             height:  80%;\n",
              "            background:  linear-gradient(90deg,#d65f5f 18.6%, transparent 18.6%);\n",
              "        }#T_7ad15368_1770_11ec_84e3_0242ac1c0002row30_col0{\n",
              "            width:  10em;\n",
              "             height:  80%;\n",
              "            background:  linear-gradient(90deg,#d65f5f 18.0%, transparent 18.0%);\n",
              "        }#T_7ad15368_1770_11ec_84e3_0242ac1c0002row31_col0{\n",
              "            width:  10em;\n",
              "             height:  80%;\n",
              "            background:  linear-gradient(90deg,#d65f5f 17.5%, transparent 17.5%);\n",
              "        }#T_7ad15368_1770_11ec_84e3_0242ac1c0002row32_col0{\n",
              "            width:  10em;\n",
              "             height:  80%;\n",
              "            background:  linear-gradient(90deg,#d65f5f 15.9%, transparent 15.9%);\n",
              "        }#T_7ad15368_1770_11ec_84e3_0242ac1c0002row33_col0{\n",
              "            width:  10em;\n",
              "             height:  80%;\n",
              "            background:  linear-gradient(90deg,#d65f5f 15.4%, transparent 15.4%);\n",
              "        }#T_7ad15368_1770_11ec_84e3_0242ac1c0002row34_col0,#T_7ad15368_1770_11ec_84e3_0242ac1c0002row35_col0{\n",
              "            width:  10em;\n",
              "             height:  80%;\n",
              "            background:  linear-gradient(90deg,#d65f5f 14.0%, transparent 14.0%);\n",
              "        }#T_7ad15368_1770_11ec_84e3_0242ac1c0002row36_col0{\n",
              "            width:  10em;\n",
              "             height:  80%;\n",
              "            background:  linear-gradient(90deg,#d65f5f 13.3%, transparent 13.3%);\n",
              "        }#T_7ad15368_1770_11ec_84e3_0242ac1c0002row37_col0{\n",
              "            width:  10em;\n",
              "             height:  80%;\n",
              "            background:  linear-gradient(90deg,#d65f5f 11.7%, transparent 11.7%);\n",
              "        }#T_7ad15368_1770_11ec_84e3_0242ac1c0002row38_col0{\n",
              "            width:  10em;\n",
              "             height:  80%;\n",
              "            background:  linear-gradient(90deg,#d65f5f 10.6%, transparent 10.6%);\n",
              "        }#T_7ad15368_1770_11ec_84e3_0242ac1c0002row39_col0{\n",
              "            width:  10em;\n",
              "             height:  80%;\n",
              "            background:  linear-gradient(90deg,#d65f5f 10.0%, transparent 10.0%);\n",
              "        }#T_7ad15368_1770_11ec_84e3_0242ac1c0002row40_col0{\n",
              "            width:  10em;\n",
              "             height:  80%;\n",
              "            background:  linear-gradient(90deg,#d65f5f 9.7%, transparent 9.7%);\n",
              "        }#T_7ad15368_1770_11ec_84e3_0242ac1c0002row41_col0{\n",
              "            width:  10em;\n",
              "             height:  80%;\n",
              "            background:  linear-gradient(90deg,#d65f5f 9.6%, transparent 9.6%);\n",
              "        }#T_7ad15368_1770_11ec_84e3_0242ac1c0002row42_col0,#T_7ad15368_1770_11ec_84e3_0242ac1c0002row43_col0{\n",
              "            width:  10em;\n",
              "             height:  80%;\n",
              "            background:  linear-gradient(90deg,#d65f5f 8.9%, transparent 8.9%);\n",
              "        }#T_7ad15368_1770_11ec_84e3_0242ac1c0002row44_col0{\n",
              "            width:  10em;\n",
              "             height:  80%;\n",
              "            background:  linear-gradient(90deg,#d65f5f 8.4%, transparent 8.4%);\n",
              "        }#T_7ad15368_1770_11ec_84e3_0242ac1c0002row45_col0{\n",
              "            width:  10em;\n",
              "             height:  80%;\n",
              "            background:  linear-gradient(90deg,#d65f5f 8.3%, transparent 8.3%);\n",
              "        }#T_7ad15368_1770_11ec_84e3_0242ac1c0002row46_col0{\n",
              "            width:  10em;\n",
              "             height:  80%;\n",
              "            background:  linear-gradient(90deg,#d65f5f 7.5%, transparent 7.5%);\n",
              "        }#T_7ad15368_1770_11ec_84e3_0242ac1c0002row47_col0{\n",
              "            width:  10em;\n",
              "             height:  80%;\n",
              "            background:  linear-gradient(90deg,#d65f5f 7.4%, transparent 7.4%);\n",
              "        }#T_7ad15368_1770_11ec_84e3_0242ac1c0002row48_col0{\n",
              "            width:  10em;\n",
              "             height:  80%;\n",
              "            background:  linear-gradient(90deg,#d65f5f 7.2%, transparent 7.2%);\n",
              "        }#T_7ad15368_1770_11ec_84e3_0242ac1c0002row49_col0{\n",
              "            width:  10em;\n",
              "             height:  80%;\n",
              "            background:  linear-gradient(90deg,#d65f5f 6.8%, transparent 6.8%);\n",
              "        }#T_7ad15368_1770_11ec_84e3_0242ac1c0002row50_col0{\n",
              "            width:  10em;\n",
              "             height:  80%;\n",
              "            background:  linear-gradient(90deg,#d65f5f 6.5%, transparent 6.5%);\n",
              "        }#T_7ad15368_1770_11ec_84e3_0242ac1c0002row51_col0{\n",
              "            width:  10em;\n",
              "             height:  80%;\n",
              "            background:  linear-gradient(90deg,#d65f5f 6.2%, transparent 6.2%);\n",
              "        }#T_7ad15368_1770_11ec_84e3_0242ac1c0002row52_col0{\n",
              "            width:  10em;\n",
              "             height:  80%;\n",
              "            background:  linear-gradient(90deg,#d65f5f 6.1%, transparent 6.1%);\n",
              "        }#T_7ad15368_1770_11ec_84e3_0242ac1c0002row53_col0{\n",
              "            width:  10em;\n",
              "             height:  80%;\n",
              "            background:  linear-gradient(90deg,#d65f5f 5.5%, transparent 5.5%);\n",
              "        }#T_7ad15368_1770_11ec_84e3_0242ac1c0002row54_col0{\n",
              "            width:  10em;\n",
              "             height:  80%;\n",
              "            background:  linear-gradient(90deg,#d65f5f 5.4%, transparent 5.4%);\n",
              "        }#T_7ad15368_1770_11ec_84e3_0242ac1c0002row55_col0{\n",
              "            width:  10em;\n",
              "             height:  80%;\n",
              "            background:  linear-gradient(90deg,#d65f5f 5.0%, transparent 5.0%);\n",
              "        }#T_7ad15368_1770_11ec_84e3_0242ac1c0002row56_col0{\n",
              "            width:  10em;\n",
              "             height:  80%;\n",
              "            background:  linear-gradient(90deg,#d65f5f 4.8%, transparent 4.8%);\n",
              "        }#T_7ad15368_1770_11ec_84e3_0242ac1c0002row57_col0{\n",
              "            width:  10em;\n",
              "             height:  80%;\n",
              "            background:  linear-gradient(90deg,#d65f5f 4.4%, transparent 4.4%);\n",
              "        }#T_7ad15368_1770_11ec_84e3_0242ac1c0002row58_col0{\n",
              "            width:  10em;\n",
              "             height:  80%;\n",
              "            background:  linear-gradient(90deg,#d65f5f 4.1%, transparent 4.1%);\n",
              "        }#T_7ad15368_1770_11ec_84e3_0242ac1c0002row59_col0{\n",
              "            width:  10em;\n",
              "             height:  80%;\n",
              "            background:  linear-gradient(90deg,#d65f5f 3.8%, transparent 3.8%);\n",
              "        }#T_7ad15368_1770_11ec_84e3_0242ac1c0002row60_col0{\n",
              "            width:  10em;\n",
              "             height:  80%;\n",
              "            background:  linear-gradient(90deg,#d65f5f 3.5%, transparent 3.5%);\n",
              "        }#T_7ad15368_1770_11ec_84e3_0242ac1c0002row61_col0{\n",
              "            width:  10em;\n",
              "             height:  80%;\n",
              "            background:  linear-gradient(90deg,#d65f5f 3.1%, transparent 3.1%);\n",
              "        }#T_7ad15368_1770_11ec_84e3_0242ac1c0002row62_col0{\n",
              "            width:  10em;\n",
              "             height:  80%;\n",
              "            background:  linear-gradient(90deg,#d65f5f 3.0%, transparent 3.0%);\n",
              "        }#T_7ad15368_1770_11ec_84e3_0242ac1c0002row63_col0,#T_7ad15368_1770_11ec_84e3_0242ac1c0002row64_col0{\n",
              "            width:  10em;\n",
              "             height:  80%;\n",
              "            background:  linear-gradient(90deg,#d65f5f 2.6%, transparent 2.6%);\n",
              "        }#T_7ad15368_1770_11ec_84e3_0242ac1c0002row65_col0{\n",
              "            width:  10em;\n",
              "             height:  80%;\n",
              "            background:  linear-gradient(90deg,#d65f5f 2.5%, transparent 2.5%);\n",
              "        }#T_7ad15368_1770_11ec_84e3_0242ac1c0002row66_col0{\n",
              "            width:  10em;\n",
              "             height:  80%;\n",
              "            background:  linear-gradient(90deg,#d65f5f 2.2%, transparent 2.2%);\n",
              "        }#T_7ad15368_1770_11ec_84e3_0242ac1c0002row67_col0{\n",
              "            width:  10em;\n",
              "             height:  80%;\n",
              "            background:  linear-gradient(90deg,#d65f5f 2.1%, transparent 2.1%);\n",
              "        }#T_7ad15368_1770_11ec_84e3_0242ac1c0002row68_col0{\n",
              "            width:  10em;\n",
              "             height:  80%;\n",
              "            background:  linear-gradient(90deg,#d65f5f 1.8%, transparent 1.8%);\n",
              "        }#T_7ad15368_1770_11ec_84e3_0242ac1c0002row69_col0{\n",
              "            width:  10em;\n",
              "             height:  80%;\n",
              "            background:  linear-gradient(90deg,#d65f5f 0.9%, transparent 0.9%);\n",
              "        }#T_7ad15368_1770_11ec_84e3_0242ac1c0002row70_col0{\n",
              "            width:  10em;\n",
              "             height:  80%;\n",
              "            background:  linear-gradient(90deg,#d65f5f 0.8%, transparent 0.8%);\n",
              "        }#T_7ad15368_1770_11ec_84e3_0242ac1c0002row71_col0{\n",
              "            width:  10em;\n",
              "             height:  80%;\n",
              "            background:  linear-gradient(90deg,#d65f5f 0.6%, transparent 0.6%);\n",
              "        }#T_7ad15368_1770_11ec_84e3_0242ac1c0002row72_col0{\n",
              "            width:  10em;\n",
              "             height:  80%;\n",
              "            background:  linear-gradient(90deg,#d65f5f 0.5%, transparent 0.5%);\n",
              "        }#T_7ad15368_1770_11ec_84e3_0242ac1c0002row73_col0{\n",
              "            width:  10em;\n",
              "             height:  80%;\n",
              "            background:  linear-gradient(90deg,#d65f5f 0.4%, transparent 0.4%);\n",
              "        }#T_7ad15368_1770_11ec_84e3_0242ac1c0002row74_col0{\n",
              "            width:  10em;\n",
              "             height:  80%;\n",
              "            background:  linear-gradient(90deg,#d65f5f 0.2%, transparent 0.2%);\n",
              "        }#T_7ad15368_1770_11ec_84e3_0242ac1c0002row75_col0,#T_7ad15368_1770_11ec_84e3_0242ac1c0002row76_col0,#T_7ad15368_1770_11ec_84e3_0242ac1c0002row77_col0,#T_7ad15368_1770_11ec_84e3_0242ac1c0002row78_col0,#T_7ad15368_1770_11ec_84e3_0242ac1c0002row79_col0{\n",
              "            width:  10em;\n",
              "             height:  80%;\n",
              "            background:  linear-gradient(90deg,#d65f5f 0.0%, transparent 0.0%);\n",
              "        }#T_7ad15368_1770_11ec_84e3_0242ac1c0002row80_col0{\n",
              "            width:  10em;\n",
              "             height:  80%;\n",
              "        }</style><table id=\"T_7ad15368_1770_11ec_84e3_0242ac1c0002\" ><thead>    <tr>        <th class=\"blank level0\" ></th>        <th class=\"col_heading level0 col0\" >Weekly_Sales</th>    </tr>    <tr>        <th class=\"index_name level0\" >Dept</th>        <th class=\"blank\" ></th>    </tr></thead><tbody>\n",
              "                <tr>\n",
              "                        <th id=\"T_7ad15368_1770_11ec_84e3_0242ac1c0002level0_row0\" class=\"row_heading level0 row0\" >92</th>\n",
              "                        <td id=\"T_7ad15368_1770_11ec_84e3_0242ac1c0002row0_col0\" class=\"data row0 col0\" >75204.870531</td>\n",
              "            </tr>\n",
              "            <tr>\n",
              "                        <th id=\"T_7ad15368_1770_11ec_84e3_0242ac1c0002level0_row1\" class=\"row_heading level0 row1\" >95</th>\n",
              "                        <td id=\"T_7ad15368_1770_11ec_84e3_0242ac1c0002row1_col0\" class=\"data row1 col0\" >69824.423080</td>\n",
              "            </tr>\n",
              "            <tr>\n",
              "                        <th id=\"T_7ad15368_1770_11ec_84e3_0242ac1c0002level0_row2\" class=\"row_heading level0 row2\" >38</th>\n",
              "                        <td id=\"T_7ad15368_1770_11ec_84e3_0242ac1c0002row2_col0\" class=\"data row2 col0\" >61090.619568</td>\n",
              "            </tr>\n",
              "            <tr>\n",
              "                        <th id=\"T_7ad15368_1770_11ec_84e3_0242ac1c0002level0_row3\" class=\"row_heading level0 row3\" >72</th>\n",
              "                        <td id=\"T_7ad15368_1770_11ec_84e3_0242ac1c0002row3_col0\" class=\"data row3 col0\" >50566.515417</td>\n",
              "            </tr>\n",
              "            <tr>\n",
              "                        <th id=\"T_7ad15368_1770_11ec_84e3_0242ac1c0002level0_row4\" class=\"row_heading level0 row4\" >65</th>\n",
              "                        <td id=\"T_7ad15368_1770_11ec_84e3_0242ac1c0002row4_col0\" class=\"data row4 col0\" >45441.706224</td>\n",
              "            </tr>\n",
              "            <tr>\n",
              "                        <th id=\"T_7ad15368_1770_11ec_84e3_0242ac1c0002level0_row5\" class=\"row_heading level0 row5\" >90</th>\n",
              "                        <td id=\"T_7ad15368_1770_11ec_84e3_0242ac1c0002row5_col0\" class=\"data row5 col0\" >45232.084488</td>\n",
              "            </tr>\n",
              "            <tr>\n",
              "                        <th id=\"T_7ad15368_1770_11ec_84e3_0242ac1c0002level0_row6\" class=\"row_heading level0 row6\" >40</th>\n",
              "                        <td id=\"T_7ad15368_1770_11ec_84e3_0242ac1c0002row6_col0\" class=\"data row6 col0\" >44900.702727</td>\n",
              "            </tr>\n",
              "            <tr>\n",
              "                        <th id=\"T_7ad15368_1770_11ec_84e3_0242ac1c0002level0_row7\" class=\"row_heading level0 row7\" >2</th>\n",
              "                        <td id=\"T_7ad15368_1770_11ec_84e3_0242ac1c0002row7_col0\" class=\"data row7 col0\" >43607.020113</td>\n",
              "            </tr>\n",
              "            <tr>\n",
              "                        <th id=\"T_7ad15368_1770_11ec_84e3_0242ac1c0002level0_row8\" class=\"row_heading level0 row8\" >91</th>\n",
              "                        <td id=\"T_7ad15368_1770_11ec_84e3_0242ac1c0002row8_col0\" class=\"data row8 col0\" >33687.910758</td>\n",
              "            </tr>\n",
              "            <tr>\n",
              "                        <th id=\"T_7ad15368_1770_11ec_84e3_0242ac1c0002level0_row9\" class=\"row_heading level0 row9\" >94</th>\n",
              "                        <td id=\"T_7ad15368_1770_11ec_84e3_0242ac1c0002row9_col0\" class=\"data row9 col0\" >33405.883963</td>\n",
              "            </tr>\n",
              "            <tr>\n",
              "                        <th id=\"T_7ad15368_1770_11ec_84e3_0242ac1c0002level0_row10\" class=\"row_heading level0 row10\" >13</th>\n",
              "                        <td id=\"T_7ad15368_1770_11ec_84e3_0242ac1c0002row10_col0\" class=\"data row10 col0\" >30663.802634</td>\n",
              "            </tr>\n",
              "            <tr>\n",
              "                        <th id=\"T_7ad15368_1770_11ec_84e3_0242ac1c0002level0_row11\" class=\"row_heading level0 row11\" >8</th>\n",
              "                        <td id=\"T_7ad15368_1770_11ec_84e3_0242ac1c0002row11_col0\" class=\"data row11 col0\" >30191.263517</td>\n",
              "            </tr>\n",
              "            <tr>\n",
              "                        <th id=\"T_7ad15368_1770_11ec_84e3_0242ac1c0002level0_row12\" class=\"row_heading level0 row12\" >93</th>\n",
              "                        <td id=\"T_7ad15368_1770_11ec_84e3_0242ac1c0002row12_col0\" class=\"data row12 col0\" >27008.060746</td>\n",
              "            </tr>\n",
              "            <tr>\n",
              "                        <th id=\"T_7ad15368_1770_11ec_84e3_0242ac1c0002level0_row13\" class=\"row_heading level0 row13\" >4</th>\n",
              "                        <td id=\"T_7ad15368_1770_11ec_84e3_0242ac1c0002row13_col0\" class=\"data row13 col0\" >25974.630238</td>\n",
              "            </tr>\n",
              "            <tr>\n",
              "                        <th id=\"T_7ad15368_1770_11ec_84e3_0242ac1c0002level0_row14\" class=\"row_heading level0 row14\" >7</th>\n",
              "                        <td id=\"T_7ad15368_1770_11ec_84e3_0242ac1c0002row14_col0\" class=\"data row14 col0\" >24161.237413</td>\n",
              "            </tr>\n",
              "            <tr>\n",
              "                        <th id=\"T_7ad15368_1770_11ec_84e3_0242ac1c0002level0_row15\" class=\"row_heading level0 row15\" >23</th>\n",
              "                        <td id=\"T_7ad15368_1770_11ec_84e3_0242ac1c0002row15_col0\" class=\"data row15 col0\" >23931.473983</td>\n",
              "            </tr>\n",
              "            <tr>\n",
              "                        <th id=\"T_7ad15368_1770_11ec_84e3_0242ac1c0002level0_row16\" class=\"row_heading level0 row16\" >79</th>\n",
              "                        <td id=\"T_7ad15368_1770_11ec_84e3_0242ac1c0002row16_col0\" class=\"data row16 col0\" >21973.044932</td>\n",
              "            </tr>\n",
              "            <tr>\n",
              "                        <th id=\"T_7ad15368_1770_11ec_84e3_0242ac1c0002level0_row17\" class=\"row_heading level0 row17\" >5</th>\n",
              "                        <td id=\"T_7ad15368_1770_11ec_84e3_0242ac1c0002row17_col0\" class=\"data row17 col0\" >21365.583515</td>\n",
              "            </tr>\n",
              "            <tr>\n",
              "                        <th id=\"T_7ad15368_1770_11ec_84e3_0242ac1c0002level0_row18\" class=\"row_heading level0 row18\" >9</th>\n",
              "                        <td id=\"T_7ad15368_1770_11ec_84e3_0242ac1c0002row18_col0\" class=\"data row18 col0\" >20206.681878</td>\n",
              "            </tr>\n",
              "            <tr>\n",
              "                        <th id=\"T_7ad15368_1770_11ec_84e3_0242ac1c0002level0_row19\" class=\"row_heading level0 row19\" >46</th>\n",
              "                        <td id=\"T_7ad15368_1770_11ec_84e3_0242ac1c0002row19_col0\" class=\"data row19 col0\" >19944.741483</td>\n",
              "            </tr>\n",
              "            <tr>\n",
              "                        <th id=\"T_7ad15368_1770_11ec_84e3_0242ac1c0002level0_row20\" class=\"row_heading level0 row20\" >1</th>\n",
              "                        <td id=\"T_7ad15368_1770_11ec_84e3_0242ac1c0002row20_col0\" class=\"data row20 col0\" >19213.485088</td>\n",
              "            </tr>\n",
              "            <tr>\n",
              "                        <th id=\"T_7ad15368_1770_11ec_84e3_0242ac1c0002level0_row21\" class=\"row_heading level0 row21\" >10</th>\n",
              "                        <td id=\"T_7ad15368_1770_11ec_84e3_0242ac1c0002row21_col0\" class=\"data row21 col0\" >18321.272351</td>\n",
              "            </tr>\n",
              "            <tr>\n",
              "                        <th id=\"T_7ad15368_1770_11ec_84e3_0242ac1c0002level0_row22\" class=\"row_heading level0 row22\" >34</th>\n",
              "                        <td id=\"T_7ad15368_1770_11ec_84e3_0242ac1c0002row22_col0\" class=\"data row22 col0\" >15625.915402</td>\n",
              "            </tr>\n",
              "            <tr>\n",
              "                        <th id=\"T_7ad15368_1770_11ec_84e3_0242ac1c0002level0_row23\" class=\"row_heading level0 row23\" >81</th>\n",
              "                        <td id=\"T_7ad15368_1770_11ec_84e3_0242ac1c0002row23_col0\" class=\"data row23 col0\" >15470.400825</td>\n",
              "            </tr>\n",
              "            <tr>\n",
              "                        <th id=\"T_7ad15368_1770_11ec_84e3_0242ac1c0002level0_row24\" class=\"row_heading level0 row24\" >82</th>\n",
              "                        <td id=\"T_7ad15368_1770_11ec_84e3_0242ac1c0002row24_col0\" class=\"data row24 col0\" >15469.631753</td>\n",
              "            </tr>\n",
              "            <tr>\n",
              "                        <th id=\"T_7ad15368_1770_11ec_84e3_0242ac1c0002level0_row25\" class=\"row_heading level0 row25\" >96</th>\n",
              "                        <td id=\"T_7ad15368_1770_11ec_84e3_0242ac1c0002row25_col0\" class=\"data row25 col0\" >15210.942761</td>\n",
              "            </tr>\n",
              "            <tr>\n",
              "                        <th id=\"T_7ad15368_1770_11ec_84e3_0242ac1c0002level0_row26\" class=\"row_heading level0 row26\" >14</th>\n",
              "                        <td id=\"T_7ad15368_1770_11ec_84e3_0242ac1c0002row26_col0\" class=\"data row26 col0\" >14870.966037</td>\n",
              "            </tr>\n",
              "            <tr>\n",
              "                        <th id=\"T_7ad15368_1770_11ec_84e3_0242ac1c0002level0_row27\" class=\"row_heading level0 row27\" >11</th>\n",
              "                        <td id=\"T_7ad15368_1770_11ec_84e3_0242ac1c0002row27_col0\" class=\"data row27 col0\" >14505.638231</td>\n",
              "            </tr>\n",
              "            <tr>\n",
              "                        <th id=\"T_7ad15368_1770_11ec_84e3_0242ac1c0002level0_row28\" class=\"row_heading level0 row28\" >97</th>\n",
              "                        <td id=\"T_7ad15368_1770_11ec_84e3_0242ac1c0002row28_col0\" class=\"data row28 col0\" >14255.576919</td>\n",
              "            </tr>\n",
              "            <tr>\n",
              "                        <th id=\"T_7ad15368_1770_11ec_84e3_0242ac1c0002level0_row29\" class=\"row_heading level0 row29\" >16</th>\n",
              "                        <td id=\"T_7ad15368_1770_11ec_84e3_0242ac1c0002row29_col0\" class=\"data row29 col0\" >14245.638270</td>\n",
              "            </tr>\n",
              "            <tr>\n",
              "                        <th id=\"T_7ad15368_1770_11ec_84e3_0242ac1c0002level0_row30\" class=\"row_heading level0 row30\" >74</th>\n",
              "                        <td id=\"T_7ad15368_1770_11ec_84e3_0242ac1c0002row30_col0\" class=\"data row30 col0\" >13807.462764</td>\n",
              "            </tr>\n",
              "            <tr>\n",
              "                        <th id=\"T_7ad15368_1770_11ec_84e3_0242ac1c0002level0_row31\" class=\"row_heading level0 row31\" >87</th>\n",
              "                        <td id=\"T_7ad15368_1770_11ec_84e3_0242ac1c0002row31_col0\" class=\"data row31 col0\" >13418.882117</td>\n",
              "            </tr>\n",
              "            <tr>\n",
              "                        <th id=\"T_7ad15368_1770_11ec_84e3_0242ac1c0002level0_row32\" class=\"row_heading level0 row32\" >80</th>\n",
              "                        <td id=\"T_7ad15368_1770_11ec_84e3_0242ac1c0002row32_col0\" class=\"data row32 col0\" >12183.680224</td>\n",
              "            </tr>\n",
              "            <tr>\n",
              "                        <th id=\"T_7ad15368_1770_11ec_84e3_0242ac1c0002level0_row33\" class=\"row_heading level0 row33\" >3</th>\n",
              "                        <td id=\"T_7ad15368_1770_11ec_84e3_0242ac1c0002row33_col0\" class=\"data row33 col0\" >11793.698516</td>\n",
              "            </tr>\n",
              "            <tr>\n",
              "                        <th id=\"T_7ad15368_1770_11ec_84e3_0242ac1c0002level0_row34\" class=\"row_heading level0 row34\" >22</th>\n",
              "                        <td id=\"T_7ad15368_1770_11ec_84e3_0242ac1c0002row34_col0\" class=\"data row34 col0\" >10774.509717</td>\n",
              "            </tr>\n",
              "            <tr>\n",
              "                        <th id=\"T_7ad15368_1770_11ec_84e3_0242ac1c0002level0_row35\" class=\"row_heading level0 row35\" >55</th>\n",
              "                        <td id=\"T_7ad15368_1770_11ec_84e3_0242ac1c0002row35_col0\" class=\"data row35 col0\" >10716.664644</td>\n",
              "            </tr>\n",
              "            <tr>\n",
              "                        <th id=\"T_7ad15368_1770_11ec_84e3_0242ac1c0002level0_row36\" class=\"row_heading level0 row36\" >17</th>\n",
              "                        <td id=\"T_7ad15368_1770_11ec_84e3_0242ac1c0002row36_col0\" class=\"data row36 col0\" >10187.120498</td>\n",
              "            </tr>\n",
              "            <tr>\n",
              "                        <th id=\"T_7ad15368_1770_11ec_84e3_0242ac1c0002level0_row37\" class=\"row_heading level0 row37\" >25</th>\n",
              "                        <td id=\"T_7ad15368_1770_11ec_84e3_0242ac1c0002row37_col0\" class=\"data row37 col0\" >8988.230818</td>\n",
              "            </tr>\n",
              "            <tr>\n",
              "                        <th id=\"T_7ad15368_1770_11ec_84e3_0242ac1c0002level0_row38\" class=\"row_heading level0 row38\" >49</th>\n",
              "                        <td id=\"T_7ad15368_1770_11ec_84e3_0242ac1c0002row38_col0\" class=\"data row38 col0\" >8159.951296</td>\n",
              "            </tr>\n",
              "            <tr>\n",
              "                        <th id=\"T_7ad15368_1770_11ec_84e3_0242ac1c0002level0_row39\" class=\"row_heading level0 row39\" >26</th>\n",
              "                        <td id=\"T_7ad15368_1770_11ec_84e3_0242ac1c0002row39_col0\" class=\"data row39 col0\" >7649.417947</td>\n",
              "            </tr>\n",
              "            <tr>\n",
              "                        <th id=\"T_7ad15368_1770_11ec_84e3_0242ac1c0002level0_row40\" class=\"row_heading level0 row40\" >67</th>\n",
              "                        <td id=\"T_7ad15368_1770_11ec_84e3_0242ac1c0002row40_col0\" class=\"data row40 col0\" >7440.680292</td>\n",
              "            </tr>\n",
              "            <tr>\n",
              "                        <th id=\"T_7ad15368_1770_11ec_84e3_0242ac1c0002level0_row41\" class=\"row_heading level0 row41\" >18</th>\n",
              "                        <td id=\"T_7ad15368_1770_11ec_84e3_0242ac1c0002row41_col0\" class=\"data row41 col0\" >7336.943539</td>\n",
              "            </tr>\n",
              "            <tr>\n",
              "                        <th id=\"T_7ad15368_1770_11ec_84e3_0242ac1c0002level0_row42\" class=\"row_heading level0 row42\" >32</th>\n",
              "                        <td id=\"T_7ad15368_1770_11ec_84e3_0242ac1c0002row42_col0\" class=\"data row42 col0\" >6833.270787</td>\n",
              "            </tr>\n",
              "            <tr>\n",
              "                        <th id=\"T_7ad15368_1770_11ec_84e3_0242ac1c0002level0_row43\" class=\"row_heading level0 row43\" >98</th>\n",
              "                        <td id=\"T_7ad15368_1770_11ec_84e3_0242ac1c0002row43_col0\" class=\"data row43 col0\" >6824.694889</td>\n",
              "            </tr>\n",
              "            <tr>\n",
              "                        <th id=\"T_7ad15368_1770_11ec_84e3_0242ac1c0002level0_row44\" class=\"row_heading level0 row44\" >33</th>\n",
              "                        <td id=\"T_7ad15368_1770_11ec_84e3_0242ac1c0002row44_col0\" class=\"data row44 col0\" >6471.979579</td>\n",
              "            </tr>\n",
              "            <tr>\n",
              "                        <th id=\"T_7ad15368_1770_11ec_84e3_0242ac1c0002level0_row45\" class=\"row_heading level0 row45\" >24</th>\n",
              "                        <td id=\"T_7ad15368_1770_11ec_84e3_0242ac1c0002row45_col0\" class=\"data row45 col0\" >6353.604562</td>\n",
              "            </tr>\n",
              "            <tr>\n",
              "                        <th id=\"T_7ad15368_1770_11ec_84e3_0242ac1c0002level0_row46\" class=\"row_heading level0 row46\" >71</th>\n",
              "                        <td id=\"T_7ad15368_1770_11ec_84e3_0242ac1c0002row46_col0\" class=\"data row46 col0\" >5722.927649</td>\n",
              "            </tr>\n",
              "            <tr>\n",
              "                        <th id=\"T_7ad15368_1770_11ec_84e3_0242ac1c0002level0_row47\" class=\"row_heading level0 row47\" >29</th>\n",
              "                        <td id=\"T_7ad15368_1770_11ec_84e3_0242ac1c0002row47_col0\" class=\"data row47 col0\" >5653.655317</td>\n",
              "            </tr>\n",
              "            <tr>\n",
              "                        <th id=\"T_7ad15368_1770_11ec_84e3_0242ac1c0002level0_row48\" class=\"row_heading level0 row48\" >20</th>\n",
              "                        <td id=\"T_7ad15368_1770_11ec_84e3_0242ac1c0002row48_col0\" class=\"data row48 col0\" >5528.787319</td>\n",
              "            </tr>\n",
              "            <tr>\n",
              "                        <th id=\"T_7ad15368_1770_11ec_84e3_0242ac1c0002level0_row49\" class=\"row_heading level0 row49\" >42</th>\n",
              "                        <td id=\"T_7ad15368_1770_11ec_84e3_0242ac1c0002row49_col0\" class=\"data row49 col0\" >5189.703417</td>\n",
              "            </tr>\n",
              "            <tr>\n",
              "                        <th id=\"T_7ad15368_1770_11ec_84e3_0242ac1c0002level0_row50\" class=\"row_heading level0 row50\" >21</th>\n",
              "                        <td id=\"T_7ad15368_1770_11ec_84e3_0242ac1c0002row50_col0\" class=\"data row50 col0\" >4982.850828</td>\n",
              "            </tr>\n",
              "            <tr>\n",
              "                        <th id=\"T_7ad15368_1770_11ec_84e3_0242ac1c0002level0_row51\" class=\"row_heading level0 row51\" >6</th>\n",
              "                        <td id=\"T_7ad15368_1770_11ec_84e3_0242ac1c0002row51_col0\" class=\"data row51 col0\" >4747.856188</td>\n",
              "            </tr>\n",
              "            <tr>\n",
              "                        <th id=\"T_7ad15368_1770_11ec_84e3_0242ac1c0002level0_row52\" class=\"row_heading level0 row52\" >44</th>\n",
              "                        <td id=\"T_7ad15368_1770_11ec_84e3_0242ac1c0002row52_col0\" class=\"data row52 col0\" >4651.729658</td>\n",
              "            </tr>\n",
              "            <tr>\n",
              "                        <th id=\"T_7ad15368_1770_11ec_84e3_0242ac1c0002level0_row53\" class=\"row_heading level0 row53\" >12</th>\n",
              "                        <td id=\"T_7ad15368_1770_11ec_84e3_0242ac1c0002row53_col0\" class=\"data row53 col0\" >4175.397021</td>\n",
              "            </tr>\n",
              "            <tr>\n",
              "                        <th id=\"T_7ad15368_1770_11ec_84e3_0242ac1c0002level0_row54\" class=\"row_heading level0 row54\" >30</th>\n",
              "                        <td id=\"T_7ad15368_1770_11ec_84e3_0242ac1c0002row54_col0\" class=\"data row54 col0\" >4118.197208</td>\n",
              "            </tr>\n",
              "            <tr>\n",
              "                        <th id=\"T_7ad15368_1770_11ec_84e3_0242ac1c0002level0_row55\" class=\"row_heading level0 row55\" >56</th>\n",
              "                        <td id=\"T_7ad15368_1770_11ec_84e3_0242ac1c0002row55_col0\" class=\"data row55 col0\" >3833.706211</td>\n",
              "            </tr>\n",
              "            <tr>\n",
              "                        <th id=\"T_7ad15368_1770_11ec_84e3_0242ac1c0002level0_row56\" class=\"row_heading level0 row56\" >58</th>\n",
              "                        <td id=\"T_7ad15368_1770_11ec_84e3_0242ac1c0002row56_col0\" class=\"data row56 col0\" >3702.907419</td>\n",
              "            </tr>\n",
              "            <tr>\n",
              "                        <th id=\"T_7ad15368_1770_11ec_84e3_0242ac1c0002level0_row57\" class=\"row_heading level0 row57\" >83</th>\n",
              "                        <td id=\"T_7ad15368_1770_11ec_84e3_0242ac1c0002row57_col0\" class=\"data row57 col0\" >3383.349838</td>\n",
              "            </tr>\n",
              "            <tr>\n",
              "                        <th id=\"T_7ad15368_1770_11ec_84e3_0242ac1c0002level0_row58\" class=\"row_heading level0 row58\" >37</th>\n",
              "                        <td id=\"T_7ad15368_1770_11ec_84e3_0242ac1c0002row58_col0\" class=\"data row58 col0\" >3111.076193</td>\n",
              "            </tr>\n",
              "            <tr>\n",
              "                        <th id=\"T_7ad15368_1770_11ec_84e3_0242ac1c0002level0_row59\" class=\"row_heading level0 row59\" >35</th>\n",
              "                        <td id=\"T_7ad15368_1770_11ec_84e3_0242ac1c0002row59_col0\" class=\"data row59 col0\" >2921.044946</td>\n",
              "            </tr>\n",
              "            <tr>\n",
              "                        <th id=\"T_7ad15368_1770_11ec_84e3_0242ac1c0002level0_row60\" class=\"row_heading level0 row60\" >50</th>\n",
              "                        <td id=\"T_7ad15368_1770_11ec_84e3_0242ac1c0002row60_col0\" class=\"data row60 col0\" >2658.897010</td>\n",
              "            </tr>\n",
              "            <tr>\n",
              "                        <th id=\"T_7ad15368_1770_11ec_84e3_0242ac1c0002level0_row61\" class=\"row_heading level0 row61\" >31</th>\n",
              "                        <td id=\"T_7ad15368_1770_11ec_84e3_0242ac1c0002row61_col0\" class=\"data row61 col0\" >2339.440287</td>\n",
              "            </tr>\n",
              "            <tr>\n",
              "                        <th id=\"T_7ad15368_1770_11ec_84e3_0242ac1c0002level0_row62\" class=\"row_heading level0 row62\" >85</th>\n",
              "                        <td id=\"T_7ad15368_1770_11ec_84e3_0242ac1c0002row62_col0\" class=\"data row62 col0\" >2264.359407</td>\n",
              "            </tr>\n",
              "            <tr>\n",
              "                        <th id=\"T_7ad15368_1770_11ec_84e3_0242ac1c0002level0_row63\" class=\"row_heading level0 row63\" >36</th>\n",
              "                        <td id=\"T_7ad15368_1770_11ec_84e3_0242ac1c0002row63_col0\" class=\"data row63 col0\" >2022.571061</td>\n",
              "            </tr>\n",
              "            <tr>\n",
              "                        <th id=\"T_7ad15368_1770_11ec_84e3_0242ac1c0002level0_row64\" class=\"row_heading level0 row64\" >41</th>\n",
              "                        <td id=\"T_7ad15368_1770_11ec_84e3_0242ac1c0002row64_col0\" class=\"data row64 col0\" >1965.559998</td>\n",
              "            </tr>\n",
              "            <tr>\n",
              "                        <th id=\"T_7ad15368_1770_11ec_84e3_0242ac1c0002level0_row65\" class=\"row_heading level0 row65\" >52</th>\n",
              "                        <td id=\"T_7ad15368_1770_11ec_84e3_0242ac1c0002row65_col0\" class=\"data row65 col0\" >1928.356252</td>\n",
              "            </tr>\n",
              "            <tr>\n",
              "                        <th id=\"T_7ad15368_1770_11ec_84e3_0242ac1c0002level0_row66\" class=\"row_heading level0 row66\" >19</th>\n",
              "                        <td id=\"T_7ad15368_1770_11ec_84e3_0242ac1c0002row66_col0\" class=\"data row66 col0\" >1654.815030</td>\n",
              "            </tr>\n",
              "            <tr>\n",
              "                        <th id=\"T_7ad15368_1770_11ec_84e3_0242ac1c0002level0_row67\" class=\"row_heading level0 row67\" >27</th>\n",
              "                        <td id=\"T_7ad15368_1770_11ec_84e3_0242ac1c0002row67_col0\" class=\"data row67 col0\" >1583.437727</td>\n",
              "            </tr>\n",
              "            <tr>\n",
              "                        <th id=\"T_7ad15368_1770_11ec_84e3_0242ac1c0002level0_row68\" class=\"row_heading level0 row68\" >48</th>\n",
              "                        <td id=\"T_7ad15368_1770_11ec_84e3_0242ac1c0002row68_col0\" class=\"data row68 col0\" >1344.893576</td>\n",
              "            </tr>\n",
              "            <tr>\n",
              "                        <th id=\"T_7ad15368_1770_11ec_84e3_0242ac1c0002level0_row69\" class=\"row_heading level0 row69\" >59</th>\n",
              "                        <td id=\"T_7ad15368_1770_11ec_84e3_0242ac1c0002row69_col0\" class=\"data row69 col0\" >694.463564</td>\n",
              "            </tr>\n",
              "            <tr>\n",
              "                        <th id=\"T_7ad15368_1770_11ec_84e3_0242ac1c0002level0_row70\" class=\"row_heading level0 row70\" >28</th>\n",
              "                        <td id=\"T_7ad15368_1770_11ec_84e3_0242ac1c0002row70_col0\" class=\"data row70 col0\" >618.085116</td>\n",
              "            </tr>\n",
              "            <tr>\n",
              "                        <th id=\"T_7ad15368_1770_11ec_84e3_0242ac1c0002level0_row71\" class=\"row_heading level0 row71\" >99</th>\n",
              "                        <td id=\"T_7ad15368_1770_11ec_84e3_0242ac1c0002row71_col0\" class=\"data row71 col0\" >415.487065</td>\n",
              "            </tr>\n",
              "            <tr>\n",
              "                        <th id=\"T_7ad15368_1770_11ec_84e3_0242ac1c0002level0_row72\" class=\"row_heading level0 row72\" >60</th>\n",
              "                        <td id=\"T_7ad15368_1770_11ec_84e3_0242ac1c0002row72_col0\" class=\"data row72 col0\" >347.370229</td>\n",
              "            </tr>\n",
              "            <tr>\n",
              "                        <th id=\"T_7ad15368_1770_11ec_84e3_0242ac1c0002level0_row73\" class=\"row_heading level0 row73\" >77</th>\n",
              "                        <td id=\"T_7ad15368_1770_11ec_84e3_0242ac1c0002row73_col0\" class=\"data row73 col0\" >328.961800</td>\n",
              "            </tr>\n",
              "            <tr>\n",
              "                        <th id=\"T_7ad15368_1770_11ec_84e3_0242ac1c0002level0_row74\" class=\"row_heading level0 row74\" >54</th>\n",
              "                        <td id=\"T_7ad15368_1770_11ec_84e3_0242ac1c0002row74_col0\" class=\"data row74 col0\" >108.305985</td>\n",
              "            </tr>\n",
              "            <tr>\n",
              "                        <th id=\"T_7ad15368_1770_11ec_84e3_0242ac1c0002level0_row75\" class=\"row_heading level0 row75\" >45</th>\n",
              "                        <td id=\"T_7ad15368_1770_11ec_84e3_0242ac1c0002row75_col0\" class=\"data row75 col0\" >23.211586</td>\n",
              "            </tr>\n",
              "            <tr>\n",
              "                        <th id=\"T_7ad15368_1770_11ec_84e3_0242ac1c0002level0_row76\" class=\"row_heading level0 row76\" >51</th>\n",
              "                        <td id=\"T_7ad15368_1770_11ec_84e3_0242ac1c0002row76_col0\" class=\"data row76 col0\" >21.931729</td>\n",
              "            </tr>\n",
              "            <tr>\n",
              "                        <th id=\"T_7ad15368_1770_11ec_84e3_0242ac1c0002level0_row77\" class=\"row_heading level0 row77\" >39</th>\n",
              "                        <td id=\"T_7ad15368_1770_11ec_84e3_0242ac1c0002row77_col0\" class=\"data row77 col0\" >11.123750</td>\n",
              "            </tr>\n",
              "            <tr>\n",
              "                        <th id=\"T_7ad15368_1770_11ec_84e3_0242ac1c0002level0_row78\" class=\"row_heading level0 row78\" >78</th>\n",
              "                        <td id=\"T_7ad15368_1770_11ec_84e3_0242ac1c0002row78_col0\" class=\"data row78 col0\" >7.296638</td>\n",
              "            </tr>\n",
              "            <tr>\n",
              "                        <th id=\"T_7ad15368_1770_11ec_84e3_0242ac1c0002level0_row79\" class=\"row_heading level0 row79\" >43</th>\n",
              "                        <td id=\"T_7ad15368_1770_11ec_84e3_0242ac1c0002row79_col0\" class=\"data row79 col0\" >1.193333</td>\n",
              "            </tr>\n",
              "            <tr>\n",
              "                        <th id=\"T_7ad15368_1770_11ec_84e3_0242ac1c0002level0_row80\" class=\"row_heading level0 row80\" >47</th>\n",
              "                        <td id=\"T_7ad15368_1770_11ec_84e3_0242ac1c0002row80_col0\" class=\"data row80 col0\" >-7.682554</td>\n",
              "            </tr>\n",
              "    </tbody></table>"
            ],
            "text/plain": [
              "<pandas.io.formats.style.Styler at 0x7f186d43a350>"
            ]
          },
          "metadata": {},
          "execution_count": 60
        }
      ]
    },
    {
      "cell_type": "code",
      "metadata": {
        "colab": {
          "base_uri": "https://localhost:8080/",
          "height": 730
        },
        "id": "AixyDGsYCF5S",
        "outputId": "ff887947-4d5e-43a6-b920-594d13dd746d"
      },
      "source": [
        "plt.figure(figsize=(25,12))\n",
        "\n",
        "sns.barplot(weekly_sales_dept.index, weekly_sales_dept.values)\n",
        "plt.grid()\n",
        "plt.title('Average weekly sales per department')\n",
        "plt.xlabel('Department')\n",
        "plt.ylabel('Avg Sales')\n",
        "plt.show()"
      ],
      "execution_count": null,
      "outputs": [
        {
          "output_type": "display_data",
          "data": {
            "image/png": "[encoded data removed]",
            "text/plain": [
              "<Figure size 1800x864 with 1 Axes>"
            ]
          },
          "metadata": {
            "needs_background": "light"
          }
        }
      ]
    },
    {
      "cell_type": "code",
      "metadata": {
        "colab": {
          "base_uri": "https://localhost:8080/",
          "height": 298
        },
        "id": "y0i1I6YCCoav",
        "outputId": "3f714a37-00b6-4ab1-bdcb-6fe1f38596a7"
      },
      "source": [
        "# plotting the normal distribution where sales is greater than zero\n",
        "train_sales = train_df_1[train_df_1['Weekly_Sales'] > 0]\n",
        "train_lessthanzero = train_df_1[train_df_1['Weekly_Sales']<= 0]\n",
        "\n",
        "# take natural log of data for sales more than zero\n",
        "salesgreaterthanzero = np.log1p(train_sales['Weekly_Sales'])\n",
        "sns.distplot(salesgreaterthanzero)"
      ],
      "execution_count": null,
      "outputs": [
        {
          "output_type": "execute_result",
          "data": {
            "text/plain": [
              "<matplotlib.axes._subplots.AxesSubplot at 0x7f186ccd2a50>"
            ]
          },
          "metadata": {},
          "execution_count": 63
        },
        {
          "output_type": "display_data",
          "data": {
            "image/png": "[encoded data removed]",
            "text/plain": [
              "<Figure size 432x288 with 1 Axes>"
            ]
          },
          "metadata": {
            "needs_background": "light"
          }
        }
      ]
    },
    {
      "cell_type": "markdown",
      "metadata": {
        "id": "Cb6djOOjERpE"
      },
      "source": [
        "HEAT MAP"
      ]
    },
    {
      "cell_type": "code",
      "metadata": {
        "colab": {
          "base_uri": "https://localhost:8080/",
          "height": 886
        },
        "id": "jGU8RE0ADq_z",
        "outputId": "5cadd844-b4e1-4999-db9c-0fc44f08a38e"
      },
      "source": [
        "plt.figure(figsize=(25,15))\n",
        "sns.heatmap(train_df_1.corr(), annot=True)"
      ],
      "execution_count": null,
      "outputs": [
        {
          "output_type": "execute_result",
          "data": {
            "text/plain": [
              "<matplotlib.axes._subplots.AxesSubplot at 0x7f186ca6d710>"
            ]
          },
          "metadata": {},
          "execution_count": 66
        },
        {
          "output_type": "display_data",
          "data": {
            "image/png": "[encoded data removed]",
            "text/plain": [
              "<Figure size 1800x1080 with 2 Axes>"
            ]
          },
          "metadata": {
            "needs_background": "light"
          }
        }
      ]
    },
    {
      "cell_type": "code",
      "metadata": {
        "id": "BrxV2ZyZE_A-"
      },
      "source": [
        ""
      ],
      "execution_count": null,
      "outputs": []
    }
  ]
}